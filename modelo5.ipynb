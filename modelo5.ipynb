{
 "cells": [
  {
   "cell_type": "code",
   "execution_count": null,
   "id": "249dcaee",
   "metadata": {
    "ExecuteTime": {
     "start_time": "2023-04-20T01:20:52.170Z"
    }
   },
   "outputs": [],
   "source": [
    "import pandas as pd\n",
    "import numpy as np\n",
    "import re\n",
    "import datetime\n",
    "import matplotlib.pyplot as plt\n",
    "\n",
    "from scipy.sparse import hstack, vstack\n",
    "from sklearn.linear_model import LogisticRegression\n",
    "from sklearn.tree import DecisionTreeClassifier\n",
    "from sklearn.ensemble import RandomForestClassifier\n",
    "from sklearn.feature_extraction.text import TfidfVectorizer\n",
    "from sklearn.metrics import roc_auc_score, average_precision_score\n",
    "\n",
    "from lightgbm import LGBMClassifier\n",
    "from skopt import forest_minimize"
   ]
  },
  {
   "cell_type": "code",
   "execution_count": 2,
   "id": "5c5fba7c",
   "metadata": {
    "ExecuteTime": {
     "end_time": "2023-04-20T01:20:02.420066Z",
     "start_time": "2023-04-20T01:20:02.349169Z"
    }
   },
   "outputs": [
    {
     "data": {
      "text/plain": [
       "(1314, 14)"
      ]
     },
     "execution_count": 2,
     "metadata": {},
     "output_type": "execute_result"
    }
   ],
   "source": [
    "df = pd.read_csv('dados/silver/dados_tratados_com_features_novas_com_todas_labels.csv', index_col=0).dropna(subset=['label'])\n",
    "df.shape"
   ]
  },
  {
   "cell_type": "code",
   "execution_count": 3,
   "id": "921300d0",
   "metadata": {
    "ExecuteTime": {
     "end_time": "2023-04-20T01:20:02.949535Z",
     "start_time": "2023-04-20T01:20:02.931537Z"
    }
   },
   "outputs": [
    {
     "data": {
      "text/html": [
       "<div>\n",
       "<style scoped>\n",
       "    .dataframe tbody tr th:only-of-type {\n",
       "        vertical-align: middle;\n",
       "    }\n",
       "\n",
       "    .dataframe tbody tr th {\n",
       "        vertical-align: top;\n",
       "    }\n",
       "\n",
       "    .dataframe thead th {\n",
       "        text-align: right;\n",
       "    }\n",
       "</style>\n",
       "<table border=\"1\" class=\"dataframe\">\n",
       "  <thead>\n",
       "    <tr style=\"text-align: right;\">\n",
       "      <th></th>\n",
       "      <th>id</th>\n",
       "      <th>titulo</th>\n",
       "      <th>label</th>\n",
       "      <th>canal</th>\n",
       "      <th>data_upload</th>\n",
       "      <th>categoria</th>\n",
       "      <th>tags</th>\n",
       "      <th>duracao_segundos</th>\n",
       "      <th>link</th>\n",
       "      <th>visualizacoes</th>\n",
       "      <th>quantidade_likes</th>\n",
       "      <th>query</th>\n",
       "      <th>tempo_desde_pub</th>\n",
       "      <th>visualizacoes_por_dia</th>\n",
       "    </tr>\n",
       "  </thead>\n",
       "  <tbody>\n",
       "    <tr>\n",
       "      <th>0</th>\n",
       "      <td>watch?v=kE9gYQDyVr0</td>\n",
       "      <td>Trabalhando com Bases de Dados (Datasets) Desb...</td>\n",
       "      <td>0.0</td>\n",
       "      <td>Hashtag Programação</td>\n",
       "      <td>2023-04-17</td>\n",
       "      <td>['Education']</td>\n",
       "      <td>['Bases de dados desbalanceadas', 'Datasets de...</td>\n",
       "      <td>1326.0</td>\n",
       "      <td>https://www.youtube.com/watch?v=kE9gYQDyVr0</td>\n",
       "      <td>858</td>\n",
       "      <td>72.0</td>\n",
       "      <td>ciencia+de+dados</td>\n",
       "      <td>3.0</td>\n",
       "      <td>286.000000</td>\n",
       "    </tr>\n",
       "    <tr>\n",
       "      <th>1</th>\n",
       "      <td>watch?v=GgEUPkAG1ho</td>\n",
       "      <td>Trabalho ciencia de dados-parte-1</td>\n",
       "      <td>0.0</td>\n",
       "      <td>Jonas Silva</td>\n",
       "      <td>2023-04-13</td>\n",
       "      <td>['People &amp; Blogs']</td>\n",
       "      <td>NaN</td>\n",
       "      <td>389.0</td>\n",
       "      <td>https://www.youtube.com/watch?v=GgEUPkAG1ho</td>\n",
       "      <td>2</td>\n",
       "      <td>0.0</td>\n",
       "      <td>ciencia+de+dados</td>\n",
       "      <td>7.0</td>\n",
       "      <td>0.285714</td>\n",
       "    </tr>\n",
       "  </tbody>\n",
       "</table>\n",
       "</div>"
      ],
      "text/plain": [
       "                    id                                             titulo  \\\n",
       "0  watch?v=kE9gYQDyVr0  Trabalhando com Bases de Dados (Datasets) Desb...   \n",
       "1  watch?v=GgEUPkAG1ho                  Trabalho ciencia de dados-parte-1   \n",
       "\n",
       "   label                canal data_upload           categoria  \\\n",
       "0    0.0  Hashtag Programação  2023-04-17       ['Education']   \n",
       "1    0.0          Jonas Silva  2023-04-13  ['People & Blogs']   \n",
       "\n",
       "                                                tags  duracao_segundos  \\\n",
       "0  ['Bases de dados desbalanceadas', 'Datasets de...            1326.0   \n",
       "1                                                NaN             389.0   \n",
       "\n",
       "                                          link  visualizacoes  \\\n",
       "0  https://www.youtube.com/watch?v=kE9gYQDyVr0            858   \n",
       "1  https://www.youtube.com/watch?v=GgEUPkAG1ho              2   \n",
       "\n",
       "   quantidade_likes             query  tempo_desde_pub  visualizacoes_por_dia  \n",
       "0              72.0  ciencia+de+dados              3.0             286.000000  \n",
       "1               0.0  ciencia+de+dados              7.0               0.285714  "
      ]
     },
     "execution_count": 3,
     "metadata": {},
     "output_type": "execute_result"
    }
   ],
   "source": [
    "df.head(2)"
   ]
  },
  {
   "cell_type": "markdown",
   "id": "ed5c7097",
   "metadata": {},
   "source": [
    "# Features"
   ]
  },
  {
   "cell_type": "code",
   "execution_count": 4,
   "id": "2688023e",
   "metadata": {
    "ExecuteTime": {
     "end_time": "2023-04-20T01:20:04.082218Z",
     "start_time": "2023-04-20T01:20:04.056233Z"
    }
   },
   "outputs": [
    {
     "data": {
      "text/html": [
       "<div>\n",
       "<style scoped>\n",
       "    .dataframe tbody tr th:only-of-type {\n",
       "        vertical-align: middle;\n",
       "    }\n",
       "\n",
       "    .dataframe tbody tr th {\n",
       "        vertical-align: top;\n",
       "    }\n",
       "\n",
       "    .dataframe thead th {\n",
       "        text-align: right;\n",
       "    }\n",
       "</style>\n",
       "<table border=\"1\" class=\"dataframe\">\n",
       "  <thead>\n",
       "    <tr style=\"text-align: right;\">\n",
       "      <th></th>\n",
       "      <th>visualizacoes</th>\n",
       "      <th>visualizacoes_por_dia</th>\n",
       "    </tr>\n",
       "  </thead>\n",
       "  <tbody>\n",
       "    <tr>\n",
       "      <th>0</th>\n",
       "      <td>858.0</td>\n",
       "      <td>286.000000</td>\n",
       "    </tr>\n",
       "    <tr>\n",
       "      <th>1</th>\n",
       "      <td>2.0</td>\n",
       "      <td>0.285714</td>\n",
       "    </tr>\n",
       "    <tr>\n",
       "      <th>2</th>\n",
       "      <td>1.0</td>\n",
       "      <td>0.100000</td>\n",
       "    </tr>\n",
       "    <tr>\n",
       "      <th>3</th>\n",
       "      <td>653.0</td>\n",
       "      <td>59.363636</td>\n",
       "    </tr>\n",
       "    <tr>\n",
       "      <th>4</th>\n",
       "      <td>2.0</td>\n",
       "      <td>0.066667</td>\n",
       "    </tr>\n",
       "    <tr>\n",
       "      <th>...</th>\n",
       "      <td>...</td>\n",
       "      <td>...</td>\n",
       "    </tr>\n",
       "    <tr>\n",
       "      <th>1312</th>\n",
       "      <td>647.0</td>\n",
       "      <td>3.634831</td>\n",
       "    </tr>\n",
       "    <tr>\n",
       "      <th>1313</th>\n",
       "      <td>2.0</td>\n",
       "      <td>0.011236</td>\n",
       "    </tr>\n",
       "    <tr>\n",
       "      <th>1314</th>\n",
       "      <td>214.0</td>\n",
       "      <td>1.188889</td>\n",
       "    </tr>\n",
       "    <tr>\n",
       "      <th>1315</th>\n",
       "      <td>520.0</td>\n",
       "      <td>2.872928</td>\n",
       "    </tr>\n",
       "    <tr>\n",
       "      <th>1316</th>\n",
       "      <td>540.0</td>\n",
       "      <td>2.967033</td>\n",
       "    </tr>\n",
       "  </tbody>\n",
       "</table>\n",
       "<p>1314 rows × 2 columns</p>\n",
       "</div>"
      ],
      "text/plain": [
       "      visualizacoes  visualizacoes_por_dia\n",
       "0             858.0             286.000000\n",
       "1               2.0               0.285714\n",
       "2               1.0               0.100000\n",
       "3             653.0              59.363636\n",
       "4               2.0               0.066667\n",
       "...             ...                    ...\n",
       "1312          647.0               3.634831\n",
       "1313            2.0               0.011236\n",
       "1314          214.0               1.188889\n",
       "1315          520.0               2.872928\n",
       "1316          540.0               2.967033\n",
       "\n",
       "[1314 rows x 2 columns]"
      ]
     },
     "execution_count": 4,
     "metadata": {},
     "output_type": "execute_result"
    }
   ],
   "source": [
    "features = df[['visualizacoes', 'visualizacoes_por_dia']]\n",
    "features = features.astype(float)\n",
    "y = df['label'].copy()\n",
    "features"
   ]
  },
  {
   "cell_type": "code",
   "execution_count": 5,
   "id": "d2ce91b4",
   "metadata": {
    "ExecuteTime": {
     "end_time": "2023-04-20T01:20:04.647138Z",
     "start_time": "2023-04-20T01:20:04.636923Z"
    }
   },
   "outputs": [
    {
     "data": {
      "text/plain": [
       "((869, 2), (445, 2), (869,), (445,))"
      ]
     },
     "execution_count": 5,
     "metadata": {},
     "output_type": "execute_result"
    }
   ],
   "source": [
    "data_treino = (df['data_upload'] < '2023-03-01')\n",
    "data_teste = (df['data_upload'] >= '2023-03-01')\n",
    "\n",
    "X_train, X_test = features[data_treino], features[data_teste] \n",
    "y_train, y_test = y[data_treino], y[data_teste] \n",
    "X_train.shape, X_test.shape, y_train.shape, y_test.shape"
   ]
  },
  {
   "cell_type": "code",
   "execution_count": 6,
   "id": "5b2e5243",
   "metadata": {
    "ExecuteTime": {
     "end_time": "2023-04-20T01:20:05.204496Z",
     "start_time": "2023-04-20T01:20:05.136644Z"
    }
   },
   "outputs": [],
   "source": [
    "# TfidfVectorizer -> palavras que aparecerem pouco em muitos vídeos, mas aparecerem\n",
    "# muito em um vídeo, vão ter um peso maior. Palavras que aparecem muito em muitos vídeos\n",
    "# terão menos peso\n",
    "\n",
    "from sklearn.feature_extraction.text import TfidfVectorizer\n",
    "\n",
    "title_train = df[data_treino]['titulo']\n",
    "title_test = df[data_teste]['titulo']\n",
    "\n",
    "#min_df: número mínimo para que uma palavra precisa aparecer nos dados para que essa palavra vire uma coluna. Ex.: machine tem que aparecer em no mínimo dois vídeos para poder virar uma coluna de palavra\n",
    "title_vec = TfidfVectorizer(min_df=2, ngram_range=(1, 5)) \n",
    "title_bow_train = title_vec.fit_transform(title_train)\n",
    "title_bow_test = title_vec.transform(title_test)"
   ]
  },
  {
   "cell_type": "code",
   "execution_count": 7,
   "id": "41593bcc",
   "metadata": {
    "ExecuteTime": {
     "end_time": "2023-04-20T01:20:05.681225Z",
     "start_time": "2023-04-20T01:20:05.675661Z"
    }
   },
   "outputs": [
    {
     "data": {
      "text/plain": [
       "(869, 2165)"
      ]
     },
     "execution_count": 7,
     "metadata": {},
     "output_type": "execute_result"
    }
   ],
   "source": [
    "title_bow_train.shape"
   ]
  },
  {
   "cell_type": "code",
   "execution_count": 8,
   "id": "08c9f4b5",
   "metadata": {
    "ExecuteTime": {
     "end_time": "2023-04-20T01:20:06.178323Z",
     "start_time": "2023-04-20T01:20:06.170764Z"
    }
   },
   "outputs": [],
   "source": [
    "X_train_wtitle = hstack([X_train, title_bow_train])\n",
    "X_test_wtitle = hstack([X_test, title_bow_test])"
   ]
  },
  {
   "cell_type": "code",
   "execution_count": 9,
   "id": "a9f52de2",
   "metadata": {
    "ExecuteTime": {
     "end_time": "2023-04-20T01:20:06.698988Z",
     "start_time": "2023-04-20T01:20:06.690965Z"
    }
   },
   "outputs": [
    {
     "data": {
      "text/plain": [
       "((869, 2167), (445, 2167))"
      ]
     },
     "execution_count": 9,
     "metadata": {},
     "output_type": "execute_result"
    }
   ],
   "source": [
    "X_train_wtitle.shape, X_test_wtitle.shape"
   ]
  },
  {
   "cell_type": "markdown",
   "id": "fba0e583",
   "metadata": {},
   "source": [
    "# Random Forest"
   ]
  },
  {
   "cell_type": "code",
   "execution_count": 10,
   "id": "46123f39",
   "metadata": {
    "ExecuteTime": {
     "end_time": "2023-04-20T01:20:10.068395Z",
     "start_time": "2023-04-20T01:20:07.642157Z"
    }
   },
   "outputs": [
    {
     "name": "stdout",
     "output_type": "stream",
     "text": [
      "0.4864659892691304 0.8986624348220358\n"
     ]
    }
   ],
   "source": [
    "title_vec = TfidfVectorizer(min_df=1, ngram_range=(1, 5))\n",
    "title_bow_train = title_vec.fit_transform(title_train)\n",
    "title_bow_test = title_vec.transform(title_test)\n",
    "\n",
    "X_train_wtitle = hstack([X_train, title_bow_train])\n",
    "X_test_wtitle = hstack([X_test, title_bow_test])\n",
    "\n",
    "random_forest = RandomForestClassifier(max_depth=51, \n",
    "                                       max_features='sqrt', \n",
    "                                       min_samples_leaf=1,\n",
    "                                       min_samples_split=8, \n",
    "                                       n_estimators=993,\n",
    "                                       class_weight=\"balanced\", n_jobs=6,\n",
    "                                       random_state=160745)\n",
    "\n",
    "random_forest.fit(X_train_wtitle, y_train)\n",
    "probabilidade_rf = random_forest.predict_proba(X_test_wtitle)[:, 1]\n",
    "print(average_precision_score(y_test, probabilidade_rf), roc_auc_score(y_test, probabilidade_rf))"
   ]
  },
  {
   "cell_type": "markdown",
   "id": "2fb2ae48",
   "metadata": {},
   "source": [
    "|Modelo| Tipo de modelo| Precision | ROC AUC| Parâmetros\n",
    "|------|---------------|-----------|--------|-----------|\n",
    "|modelo 1 (Baseline)| Decision Tree|0.27195362537631207| 0.4626000842815002|\n",
    "|modelo 2 | Random Forest| 0.4190096457477138| 0.6517067003792667| \n",
    "|modelo 3 (aumento teste)| Random Forest| 0.3840157528914409| 0.6327519379844962|\n",
    "|modelo 3 (aumento treino)| Random Forest| 0.46846074116867686| 0.6336915297092287|\n",
    "|modelo 4 (normal)| Random Forest| 0.42419901378303854 | 0.877097030151893|\n",
    "|modelo 4 (tunado)| Random Forest| 0.47588711602407213 | 0.8925980503287236| [max_depth:51, max_features:'sqrt', min_samples_leaf:1, min_samples_split:8, n_estimators:993, min_df:1, ngram_range:3]\n",
    "|modelo 4 (normal)| LightGBM| 0.3900304192098481 | 0.8610292450691452|\n",
    "|modelo 4 (tunado)| LightGBM| 0.5064733173326582 | 0.8971321695760599| [lr:0.0014099928811969545, max_depth:9, min_child_samples:9, subsample:0.6502182010234373, colsample_bytree:0.6866210554187129, n_estimators:979,min_df:1, ngram_range:5]\n",
    "|modelo 4 (tunado)| Logistic Regression| 0.45449846483463946 | 0.8893674903649966| [C=10\n",
    "|modelo 5 (tunado)| Random Forest| 0.4864659892691304  | 0.8986624348220358 | [max_depth:51, max_features:'sqrt', min_samples_leaf:1, min_samples_split:8, n_estimators:993, min_df:1, ngram_range:5]\n",
    "\n"
   ]
  },
  {
   "cell_type": "markdown",
   "id": "58b1521e",
   "metadata": {},
   "source": [
    "# LightGBM"
   ]
  },
  {
   "cell_type": "code",
   "execution_count": 16,
   "id": "3dd11d61",
   "metadata": {
    "ExecuteTime": {
     "end_time": "2023-04-20T01:20:33.294261Z",
     "start_time": "2023-04-20T01:20:31.978371Z"
    }
   },
   "outputs": [
    {
     "name": "stdout",
     "output_type": "stream",
     "text": [
      "[LightGBM] [Warning] bagging_freq is set=1, subsample_freq=0 will be ignored. Current value: bagging_freq=1\n",
      "0.5064733173326582 0.8971321695760599\n"
     ]
    },
    {
     "name": "stderr",
     "output_type": "stream",
     "text": [
      "/home/fhfraga/anaconda3/lib/python3.9/site-packages/lightgbm/basic.py:597: UserWarning: Converting data to scipy sparse matrix.\n",
      "  warnings.warn('Converting data to scipy sparse matrix.')\n"
     ]
    }
   ],
   "source": [
    "title_vec = TfidfVectorizer(min_df=1, ngram_range=(1, 5))\n",
    "title_bow_train = title_vec.fit_transform(title_train)\n",
    "title_bow_test = title_vec.transform(title_test)\n",
    "\n",
    "X_train_wtitle = hstack([X_train, title_bow_train])\n",
    "X_test_wtitle = hstack([X_test, title_bow_test])\n",
    "\n",
    "lgbm = LGBMClassifier(learning_rate=0.0014099928811969545, num_leaves=2 ** 9,\n",
    "                     max_depth=9, min_child_samples=9,\n",
    "                     subsample=0.6502182010234373, colsample_bytree= 0.6866210554187129, \n",
    "                     bagging_freq=1, n_estimators=979, random_state=0,\n",
    "                     class_weight=\"balanced\", n_jobs=6)\n",
    "lgbm.fit(X_train_wtitle, y_train)\n",
    "probabilidade_lgbm = lgbm.predict_proba(X_test_wtitle)[:, 1]\n",
    "print(average_precision_score(y_test, probabilidade_lgbm), roc_auc_score(y_test, probabilidade_lgbm))"
   ]
  },
  {
   "cell_type": "markdown",
   "id": "9add064b",
   "metadata": {},
   "source": [
    "|Modelo| Tipo de modelo| Precision | ROC AUC| Parâmetros\n",
    "|------|---------------|-----------|--------|-----------|\n",
    "|modelo 1 (Baseline)| Decision Tree|0.27195362537631207| 0.4626000842815002|\n",
    "|modelo 2 | Random Forest| 0.4190096457477138| 0.6517067003792667| \n",
    "|modelo 3 (aumento teste)| Random Forest| 0.3840157528914409| 0.6327519379844962|\n",
    "|modelo 3 (aumento treino)| Random Forest| 0.46846074116867686| 0.6336915297092287|\n",
    "|modelo 4 (normal)| Random Forest| 0.42419901378303854 | 0.877097030151893|\n",
    "|modelo 4 (tunado)| Random Forest| 0.47588711602407213 | 0.8925980503287236| [max_depth:51, max_features:'sqrt', min_samples_leaf:1, min_samples_split:8, n_estimators:993, min_df:1, ngram_range:3]\n",
    "|modelo 4 (normal)| LightGBM| 0.3900304192098481 | 0.8610292450691452|\n",
    "|modelo 4 (tunado)| LightGBM| 0.5064733173326582 | 0.8971321695760599| [lr:0.0014099928811969545, max_depth:9, min_child_samples:9, subsample:0.6502182010234373, colsample_bytree:0.6866210554187129, n_estimators:979,min_df:1, ngram_range:5]\n",
    "|modelo 4 (tunado)| Logistic Regression| 0.45449846483463946 | 0.8893674903649966| [C=10\n",
    "|modelo 5 (tunado)| Random Forest| 0.4864659892691304  | 0.8986624348220358 | [max_depth:51, max_features:'sqrt', min_samples_leaf:1, min_samples_split:8, n_estimators:993, min_df:1, ngram_range:5]\n",
    "|modelo 5 (tunado)| LightGBM| 0.4564099413174987 | 0.8795057810020404| [lr:0.0014099928811969545, max_depth:9, min_child_samples:9, subsample:0.6502182010234373, colsample_bytree:0.6866210554187129, n_estimators:979,min_df:1, ngram_range:3]\n",
    "\n"
   ]
  },
  {
   "cell_type": "markdown",
   "id": "fdeae93f",
   "metadata": {},
   "source": [
    "# Regressão Logistíca"
   ]
  },
  {
   "cell_type": "code",
   "execution_count": 11,
   "id": "ec08ae7c",
   "metadata": {
    "ExecuteTime": {
     "end_time": "2023-04-20T01:20:10.631088Z",
     "start_time": "2023-04-20T01:20:10.626054Z"
    }
   },
   "outputs": [],
   "source": [
    "# maxabsclares: pega o maior valor da coluna, pega seu valor absoluto e dividi todos os outros valores por ele\n",
    "from sklearn.preprocessing import MaxAbsScaler, StandardScaler\n",
    "from scipy.sparse import csr_matrix\n",
    "from sklearn.pipeline import make_pipeline"
   ]
  },
  {
   "cell_type": "code",
   "execution_count": 12,
   "id": "8e3ddd87",
   "metadata": {
    "ExecuteTime": {
     "end_time": "2023-04-20T01:20:12.514645Z",
     "start_time": "2023-04-20T01:20:11.147957Z"
    }
   },
   "outputs": [
    {
     "data": {
      "text/plain": [
       "Pipeline(steps=[('maxabsscaler', MaxAbsScaler()),\n",
       "                ('logisticregression',\n",
       "                 LogisticRegression(C=10, n_jobs=6, random_state=0))])"
      ]
     },
     "execution_count": 12,
     "metadata": {},
     "output_type": "execute_result"
    }
   ],
   "source": [
    "X_train_wtitle2 = csr_matrix(X_train_wtitle.copy())\n",
    "X_test_wtitle2 = csr_matrix(X_test_wtitle.copy())\n",
    "\n",
    "# scaler = StandardScaler()\n",
    "# max_abs_scaler = MaxAbsScaler()\n",
    "\n",
    "# X_train_wtitle2[:, :2] = scaler.fit_transform(X_train_wtitle2[:, :2].todense())\n",
    "# X_test_wtitle2[:, :2] = scaler.fit_transform(X_test_wtitle2[:, :2].todense())\n",
    "\n",
    "#X_train_wtitle2 = max_abs_scaler.fit_transform(X_train_wtitle2)\n",
    "#X_test_wtitle2= max_abs_scaler.fit_transform(X_test_wtitle2)\n",
    "\n",
    "lr_pipeline = make_pipeline(MaxAbsScaler(), LogisticRegression(C=10, penalty='l2', n_jobs=6, random_state=0))\n",
    "lr_pipeline.fit(X_train_wtitle2, y_train)"
   ]
  },
  {
   "cell_type": "code",
   "execution_count": 13,
   "id": "295e9d72",
   "metadata": {
    "ExecuteTime": {
     "end_time": "2023-04-20T01:20:13.926782Z",
     "start_time": "2023-04-20T01:20:13.919958Z"
    }
   },
   "outputs": [],
   "source": [
    "probabilidade_lr = lr_pipeline.predict_proba(X_test_wtitle2)[:, 1]"
   ]
  },
  {
   "cell_type": "code",
   "execution_count": 14,
   "id": "b19404b9",
   "metadata": {
    "ExecuteTime": {
     "end_time": "2023-04-20T01:20:14.488903Z",
     "start_time": "2023-04-20T01:20:14.480056Z"
    }
   },
   "outputs": [
    {
     "name": "stdout",
     "output_type": "stream",
     "text": [
      "0.4276112689005667 0.8854568125141691\n"
     ]
    }
   ],
   "source": [
    "print(average_precision_score(y_test, probabilidade_lr), roc_auc_score(y_test, probabilidade_lr))"
   ]
  },
  {
   "cell_type": "markdown",
   "id": "6ac327a6",
   "metadata": {},
   "source": [
    "|Modelo| Tipo de modelo| Precision | ROC AUC| Parâmetros\n",
    "|------|---------------|-----------|--------|-----------|\n",
    "|modelo 1 (Baseline)| Decision Tree|0.27195362537631207| 0.4626000842815002|\n",
    "|modelo 2 | Random Forest| 0.4190096457477138| 0.6517067003792667| \n",
    "|modelo 3 (aumento teste)| Random Forest| 0.3840157528914409| 0.6327519379844962|\n",
    "|modelo 3 (aumento treino)| Random Forest| 0.46846074116867686| 0.6336915297092287|\n",
    "|modelo 4 (normal)| Random Forest| 0.42419901378303854 | 0.877097030151893|\n",
    "|modelo 4 (tunado)| Random Forest| 0.47588711602407213 | 0.8925980503287236| [max_depth:51, max_features:'sqrt', min_samples_leaf:1, min_samples_split:8, n_estimators:993, min_df:1, ngram_range:3]\n",
    "|modelo 4 (normal)| LightGBM| 0.3900304192098481 | 0.8610292450691452|\n",
    "|modelo 4 (tunado)| LightGBM| 0.5064733173326582 | 0.8971321695760599| [lr:0.0014099928811969545, max_depth:9, min_child_samples:9, subsample:0.6502182010234373, colsample_bytree:0.6866210554187129, n_estimators:979,min_df:1, ngram_range:5]\n",
    "|modelo 4 (tunado)| Logistic Regression| 0.45449846483463946 | 0.8893674903649966| [C=10\n",
    "|modelo 5 (tunado)| Random Forest| 0.4864659892691304  | 0.8986624348220358 | [max_depth:51, max_features:'sqrt', min_samples_leaf:1, min_samples_split:8, n_estimators:993, min_df:1, ngram_range:5]\n",
    "|modelo 5 (tunado)| LightGBM| 0.4564099413174987 | 0.8795057810020404| [lr:0.0014099928811969545, max_depth:9, min_child_samples:9, subsample:0.6502182010234373, colsample_bytree:0.6866210554187129, n_estimators:979,min_df:1, ngram_range:3]\n",
    "|modelo 5 (tunado)| Logistic Regression| 0.4191684005022833 | 0.8830763999093176 | Pipeline([C=10])"
   ]
  },
  {
   "cell_type": "markdown",
   "id": "b9e7007d",
   "metadata": {},
   "source": [
    "# Ensemble"
   ]
  },
  {
   "cell_type": "markdown",
   "id": "3bb8c23e",
   "metadata": {},
   "source": [
    "Selecionando os melhores modelos de cada algoritmo:\n",
    "\n",
    "|Modelo| Tipo de modelo| Precision | ROC AUC| Parâmetros\n",
    "|------|---------------|-----------|--------|-----------|\n",
    "|modelo 1 (Baseline)| Decision Tree|0.27195362537631207| 0.4626000842815002|\n",
    "|modelo 4 (tunado)| LightGBM| 0.5064733173326582 | 0.8971321695760599| [lr:0.0014099928811969545, max_depth:9, min_child_samples:9, subsample:0.6502182010234373, colsample_bytree:0.6866210554187129, n_estimators:979,min_df:1, ngram_range:5]\n",
    "|modelo 4 (tunado)| Logistic Regression| 0.45449846483463946 | 0.8893674903649966| [C=10\n",
    "|modelo 5 (tunado)| Random Forest| 0.4864659892691304  | 0.8986624348220358 | [max_depth:51, max_features:'sqrt', min_samples_leaf:1, min_samples_split:8, n_estimators:993, min_df:1, ngram_range:5]\n"
   ]
  },
  {
   "cell_type": "markdown",
   "id": "d7626fee",
   "metadata": {},
   "source": [
    "## Três modelos juntos"
   ]
  },
  {
   "cell_type": "code",
   "execution_count": 15,
   "id": "837506b0",
   "metadata": {
    "ExecuteTime": {
     "end_time": "2023-04-20T01:20:17.813575Z",
     "start_time": "2023-04-20T01:20:17.794139Z"
    }
   },
   "outputs": [
    {
     "ename": "NameError",
     "evalue": "name 'probabilidade_lgbm' is not defined",
     "output_type": "error",
     "traceback": [
      "\u001b[0;31m---------------------------------------------------------------------------\u001b[0m",
      "\u001b[0;31mNameError\u001b[0m                                 Traceback (most recent call last)",
      "\u001b[0;32m/tmp/ipykernel_109939/1218452699.py\u001b[0m in \u001b[0;36m<module>\u001b[0;34m\u001b[0m\n\u001b[0;32m----> 1\u001b[0;31m \u001b[0mprobabilidade_final\u001b[0m \u001b[0;34m=\u001b[0m \u001b[0;34m(\u001b[0m\u001b[0mprobabilidade_rf\u001b[0m \u001b[0;34m+\u001b[0m \u001b[0mprobabilidade_lgbm\u001b[0m \u001b[0;34m+\u001b[0m \u001b[0mprobabilidade_lr\u001b[0m\u001b[0;34m)\u001b[0m \u001b[0;34m/\u001b[0m \u001b[0;36m3\u001b[0m\u001b[0;34m\u001b[0m\u001b[0;34m\u001b[0m\u001b[0m\n\u001b[0m\u001b[1;32m      2\u001b[0m \u001b[0mprint\u001b[0m\u001b[0;34m(\u001b[0m\u001b[0maverage_precision_score\u001b[0m\u001b[0;34m(\u001b[0m\u001b[0my_test\u001b[0m\u001b[0;34m,\u001b[0m \u001b[0mprobabilidade_final\u001b[0m\u001b[0;34m)\u001b[0m\u001b[0;34m,\u001b[0m \u001b[0mroc_auc_score\u001b[0m\u001b[0;34m(\u001b[0m\u001b[0my_test\u001b[0m\u001b[0;34m,\u001b[0m \u001b[0mprobabilidade_final\u001b[0m\u001b[0;34m)\u001b[0m\u001b[0;34m)\u001b[0m\u001b[0;34m\u001b[0m\u001b[0;34m\u001b[0m\u001b[0m\n",
      "\u001b[0;31mNameError\u001b[0m: name 'probabilidade_lgbm' is not defined"
     ]
    }
   ],
   "source": [
    "probabilidade_final = (probabilidade_rf + probabilidade_lgbm + probabilidade_lr) / 3\n",
    "print(average_precision_score(y_test, probabilidade_final), roc_auc_score(y_test, probabilidade_final))"
   ]
  },
  {
   "cell_type": "markdown",
   "id": "838f426a",
   "metadata": {},
   "source": [
    "|Modelo| Tipo de modelo| Precision | ROC AUC| Parâmetros\n",
    "|------|---------------|-----------|--------|-----------|\n",
    "|modelo 1 (Baseline)| Decision Tree|0.27195362537631207| 0.4626000842815002|\n",
    "|modelo 4 (tunado)| LightGBM| 0.5064733173326582 | 0.8971321695760599| [lr:0.0014099928811969545, max_depth:9, min_child_samples:9, subsample:0.6502182010234373, colsample_bytree:0.6866210554187129, n_estimators:979,min_df:1, ngram_range:5]\n",
    "|modelo 4 (tunado)| Logistic Regression| 0.45449846483463946 | 0.8893674903649966| [C=10\n",
    "|modelo 5 (tunado)| Random Forest| 0.4864659892691304  | 0.8986624348220358 | [max_depth:51, max_features:'sqrt', min_samples_leaf:1, min_samples_split:8, n_estimators:993, min_df:1, ngram_range:5]\n",
    "|Modelo 5 |ensemble (RF + LGBM + RL)| 0.5164652821315261 | 0.9024030832010882"
   ]
  },
  {
   "cell_type": "code",
   "execution_count": 24,
   "id": "4f9c7ec9",
   "metadata": {
    "ExecuteTime": {
     "end_time": "2023-04-20T01:09:16.561823Z",
     "start_time": "2023-04-20T01:09:16.547931Z"
    }
   },
   "outputs": [
    {
     "data": {
      "text/html": [
       "<div>\n",
       "<style scoped>\n",
       "    .dataframe tbody tr th:only-of-type {\n",
       "        vertical-align: middle;\n",
       "    }\n",
       "\n",
       "    .dataframe tbody tr th {\n",
       "        vertical-align: top;\n",
       "    }\n",
       "\n",
       "    .dataframe thead th {\n",
       "        text-align: right;\n",
       "    }\n",
       "</style>\n",
       "<table border=\"1\" class=\"dataframe\">\n",
       "  <thead>\n",
       "    <tr style=\"text-align: right;\">\n",
       "      <th></th>\n",
       "      <th>LR</th>\n",
       "      <th>RF</th>\n",
       "      <th>LGBM</th>\n",
       "    </tr>\n",
       "  </thead>\n",
       "  <tbody>\n",
       "    <tr>\n",
       "      <th>LR</th>\n",
       "      <td>1.000000</td>\n",
       "      <td>0.696690</td>\n",
       "      <td>0.456896</td>\n",
       "    </tr>\n",
       "    <tr>\n",
       "      <th>RF</th>\n",
       "      <td>0.696690</td>\n",
       "      <td>1.000000</td>\n",
       "      <td>0.880958</td>\n",
       "    </tr>\n",
       "    <tr>\n",
       "      <th>LGBM</th>\n",
       "      <td>0.456896</td>\n",
       "      <td>0.880958</td>\n",
       "      <td>1.000000</td>\n",
       "    </tr>\n",
       "  </tbody>\n",
       "</table>\n",
       "</div>"
      ],
      "text/plain": [
       "            LR        RF      LGBM\n",
       "LR    1.000000  0.696690  0.456896\n",
       "RF    0.696690  1.000000  0.880958\n",
       "LGBM  0.456896  0.880958  1.000000"
      ]
     },
     "execution_count": 24,
     "metadata": {},
     "output_type": "execute_result"
    }
   ],
   "source": [
    "pd.DataFrame({'LR': probabilidade_lr, 'RF': probabilidade_rf, 'LGBM': probabilidade_lgbm}).corr()"
   ]
  },
  {
   "cell_type": "markdown",
   "id": "3b4215c5",
   "metadata": {},
   "source": [
    "# RF + LGBM"
   ]
  },
  {
   "cell_type": "code",
   "execution_count": 25,
   "id": "59c6925b",
   "metadata": {
    "ExecuteTime": {
     "end_time": "2023-04-20T01:09:31.029366Z",
     "start_time": "2023-04-20T01:09:31.020347Z"
    }
   },
   "outputs": [
    {
     "name": "stdout",
     "output_type": "stream",
     "text": [
      "0.5538789009146141 0.8981523464067105\n"
     ]
    }
   ],
   "source": [
    "probabilidade_final = (0.3 * probabilidade_rf + 0.7 * probabilidade_lgbm) / 2\n",
    "print(average_precision_score(y_test, probabilidade_final), roc_auc_score(y_test, probabilidade_final))"
   ]
  },
  {
   "cell_type": "markdown",
   "id": "3dc7ac03",
   "metadata": {},
   "source": [
    "|Modelo| Tipo de modelo| Precision | ROC AUC| Parâmetros| Modelo escolhido\n",
    "|------|---------------|-----------|--------|-----------|-----------------|\n",
    "|modelo 1 (Baseline)| Decision Tree|0.27195362537631207| 0.4626000842815002|\n",
    "|modelo 4 (tunado)| LightGBM| 0.5064733173326582 | 0.8971321695760599| [lr:0.0014099928811969545, max_depth:9, min_child_samples:9, subsample:0.6502182010234373, colsample_bytree:0.6866210554187129, n_estimators:979,min_df:1, ngram_range:5]\n",
    "|modelo 4 (tunado)| Logistic Regression| 0.45449846483463946 | 0.8893674903649966| [C=10\n",
    "|modelo 5 (tunado)| Random Forest| 0.4864659892691304  | 0.8986624348220358 | [max_depth:51, max_features:'sqrt', min_samples_leaf:1, min_samples_split:8, n_estimators:993, min_df:1, ngram_range:5]\n",
    "|Modelo 5 |ensemble 3 modelos(RF + LGBM + RL)| 0.5164652821315261 | 0.9024030832010882\n",
    "|**Modelo 5** |**ensemble 2 modelos (RF + LGBM)**| **0.5538789009146141** | **0.8981523464067105**| | **Modelo final**"
   ]
  },
  {
   "cell_type": "markdown",
   "id": "a8ded15d",
   "metadata": {},
   "source": [
    "# Salvar modelos"
   ]
  },
  {
   "cell_type": "code",
   "execution_count": 26,
   "id": "de5d735a",
   "metadata": {
    "ExecuteTime": {
     "end_time": "2023-04-20T01:11:23.686593Z",
     "start_time": "2023-04-20T01:11:23.683089Z"
    }
   },
   "outputs": [],
   "source": [
    "import joblib as jb"
   ]
  },
  {
   "cell_type": "code",
   "execution_count": 28,
   "id": "a553b287",
   "metadata": {
    "ExecuteTime": {
     "end_time": "2023-04-20T01:12:29.740488Z",
     "start_time": "2023-04-20T01:12:28.814462Z"
    }
   },
   "outputs": [
    {
     "data": {
      "text/plain": [
       "['modelos/title_vectorize_2023_04_19.pkl.z']"
      ]
     },
     "execution_count": 28,
     "metadata": {},
     "output_type": "execute_result"
    }
   ],
   "source": [
    "jb.dump(lgbm, 'modelos/lgbm_2023_04_19.pkl.z')\n",
    "jb.dump(random_forest, 'modelos/random_forest_2023_04_19.pkl.z')\n",
    "jb.dump(title_vec, 'modelos/title_vectorize_2023_04_19.pkl.z')"
   ]
  },
  {
   "cell_type": "code",
   "execution_count": null,
   "id": "ca27852c",
   "metadata": {},
   "outputs": [],
   "source": []
  }
 ],
 "metadata": {
  "kernelspec": {
   "display_name": "Python 3 (ipykernel)",
   "language": "python",
   "name": "python3"
  },
  "language_info": {
   "codemirror_mode": {
    "name": "ipython",
    "version": 3
   },
   "file_extension": ".py",
   "mimetype": "text/x-python",
   "name": "python",
   "nbconvert_exporter": "python",
   "pygments_lexer": "ipython3",
   "version": "3.9.13"
  },
  "latex_envs": {
   "LaTeX_envs_menu_present": true,
   "autoclose": false,
   "autocomplete": true,
   "bibliofile": "biblio.bib",
   "cite_by": "apalike",
   "current_citInitial": 1,
   "eqLabelWithNumbers": true,
   "eqNumInitial": 1,
   "hotkeys": {
    "equation": "Ctrl-E",
    "itemize": "Ctrl-I"
   },
   "labels_anchors": false,
   "latex_user_defs": false,
   "report_style_numbering": false,
   "user_envs_cfg": false
  },
  "nbTranslate": {
   "displayLangs": [
    "*"
   ],
   "hotkey": "alt-t",
   "langInMainMenu": true,
   "sourceLang": "en",
   "targetLang": "fr",
   "useGoogleTranslate": true
  },
  "toc": {
   "base_numbering": 1,
   "nav_menu": {},
   "number_sections": true,
   "sideBar": true,
   "skip_h1_title": false,
   "title_cell": "Table of Contents",
   "title_sidebar": "Contents",
   "toc_cell": false,
   "toc_position": {},
   "toc_section_display": true,
   "toc_window_display": false
  },
  "varInspector": {
   "cols": {
    "lenName": 16,
    "lenType": 16,
    "lenVar": 40
   },
   "kernels_config": {
    "python": {
     "delete_cmd_postfix": "",
     "delete_cmd_prefix": "del ",
     "library": "var_list.py",
     "varRefreshCmd": "print(var_dic_list())"
    },
    "r": {
     "delete_cmd_postfix": ") ",
     "delete_cmd_prefix": "rm(",
     "library": "var_list.r",
     "varRefreshCmd": "cat(var_dic_list()) "
    }
   },
   "types_to_exclude": [
    "module",
    "function",
    "builtin_function_or_method",
    "instance",
    "_Feature"
   ],
   "window_display": false
  }
 },
 "nbformat": 4,
 "nbformat_minor": 5
}
