{
 "cells": [
  {
   "cell_type": "code",
   "execution_count": 1,
   "id": "249dcaee",
   "metadata": {
    "ExecuteTime": {
     "end_time": "2023-04-19T21:19:54.470790Z",
     "start_time": "2023-04-19T21:19:54.230163Z"
    }
   },
   "outputs": [],
   "source": [
    "import pandas as pd\n",
    "import numpy as np\n",
    "import datetime\n",
    "#from datetime import datetime"
   ]
  },
  {
   "cell_type": "code",
   "execution_count": 2,
   "id": "7cb7417a",
   "metadata": {
    "ExecuteTime": {
     "end_time": "2023-04-19T21:19:56.614824Z",
     "start_time": "2023-04-19T21:19:55.682221Z"
    }
   },
   "outputs": [],
   "source": [
    "df_raw = pd.read_csv('dados/bronze/raw_data.csv', index_col=0)"
   ]
  },
  {
   "cell_type": "code",
   "execution_count": 3,
   "id": "5c5fba7c",
   "metadata": {
    "ExecuteTime": {
     "end_time": "2023-04-19T21:19:57.419664Z",
     "start_time": "2023-04-19T21:19:57.333529Z"
    }
   },
   "outputs": [
    {
     "name": "stdout",
     "output_type": "stream",
     "text": [
      "(1317, 66)\n"
     ]
    },
    {
     "data": {
      "text/html": [
       "<div>\n",
       "<style scoped>\n",
       "    .dataframe tbody tr th:only-of-type {\n",
       "        vertical-align: middle;\n",
       "    }\n",
       "\n",
       "    .dataframe tbody tr th {\n",
       "        vertical-align: top;\n",
       "    }\n",
       "\n",
       "    .dataframe thead th {\n",
       "        text-align: right;\n",
       "    }\n",
       "</style>\n",
       "<table border=\"1\" class=\"dataframe\">\n",
       "  <thead>\n",
       "    <tr style=\"text-align: right;\">\n",
       "      <th></th>\n",
       "      <th>id</th>\n",
       "      <th>uploader</th>\n",
       "      <th>uploader_id</th>\n",
       "      <th>uploader_url</th>\n",
       "      <th>channel_id</th>\n",
       "      <th>channel_url</th>\n",
       "      <th>upload_date</th>\n",
       "      <th>license</th>\n",
       "      <th>creator</th>\n",
       "      <th>title</th>\n",
       "      <th>alt_title</th>\n",
       "      <th>thumbnails</th>\n",
       "      <th>description</th>\n",
       "      <th>categories</th>\n",
       "      <th>tags</th>\n",
       "      <th>subtitles</th>\n",
       "      <th>automatic_captions</th>\n",
       "      <th>duration</th>\n",
       "      <th>age_limit</th>\n",
       "      <th>annotations</th>\n",
       "      <th>chapters</th>\n",
       "      <th>webpage_url</th>\n",
       "      <th>view_count</th>\n",
       "      <th>like_count</th>\n",
       "      <th>dislike_count</th>\n",
       "      <th>average_rating</th>\n",
       "      <th>formats</th>\n",
       "      <th>is_live</th>\n",
       "      <th>start_time</th>\n",
       "      <th>end_time</th>\n",
       "      <th>series</th>\n",
       "      <th>season_number</th>\n",
       "      <th>episode_number</th>\n",
       "      <th>track</th>\n",
       "      <th>artist</th>\n",
       "      <th>album</th>\n",
       "      <th>release_date</th>\n",
       "      <th>release_year</th>\n",
       "      <th>subscriber_count</th>\n",
       "      <th>extractor</th>\n",
       "      <th>webpage_url_basename</th>\n",
       "      <th>extractor_key</th>\n",
       "      <th>n_entries</th>\n",
       "      <th>playlist</th>\n",
       "      <th>playlist_id</th>\n",
       "      <th>playlist_title</th>\n",
       "      <th>playlist_uploader</th>\n",
       "      <th>playlist_uploader_id</th>\n",
       "      <th>playlist_index</th>\n",
       "      <th>thumbnail</th>\n",
       "      <th>display_id</th>\n",
       "      <th>requested_subtitles</th>\n",
       "      <th>requested_formats</th>\n",
       "      <th>format</th>\n",
       "      <th>format_id</th>\n",
       "      <th>ext</th>\n",
       "      <th>width</th>\n",
       "      <th>height</th>\n",
       "      <th>resolution</th>\n",
       "      <th>fps</th>\n",
       "      <th>vcodec</th>\n",
       "      <th>vbr</th>\n",
       "      <th>stretched_ratio</th>\n",
       "      <th>acodec</th>\n",
       "      <th>abr</th>\n",
       "      <th>query</th>\n",
       "    </tr>\n",
       "  </thead>\n",
       "  <tbody>\n",
       "    <tr>\n",
       "      <th>0</th>\n",
       "      <td>kE9gYQDyVr0</td>\n",
       "      <td>Hashtag Programação</td>\n",
       "      <td>NaN</td>\n",
       "      <td>http://www.youtube.com/@HashtagProgramacao</td>\n",
       "      <td>UCafFexaRoRylOKdzGBU6Pgg</td>\n",
       "      <td>http://www.youtube.com/channel/UCafFexaRoRylOK...</td>\n",
       "      <td>20230417</td>\n",
       "      <td>NaN</td>\n",
       "      <td>NaN</td>\n",
       "      <td>Trabalhando com Bases de Dados (Datasets) Desb...</td>\n",
       "      <td>NaN</td>\n",
       "      <td>[{'url': 'https://i.ytimg.com/vi/kE9gYQDyVr0/h...</td>\n",
       "      <td>Quer saber mais sobre o nosso Curso Completo d...</td>\n",
       "      <td>['Education']</td>\n",
       "      <td>['Bases de dados desbalanceadas', 'Datasets de...</td>\n",
       "      <td>{}</td>\n",
       "      <td>{}</td>\n",
       "      <td>1326.0</td>\n",
       "      <td>0</td>\n",
       "      <td>NaN</td>\n",
       "      <td>NaN</td>\n",
       "      <td>https://www.youtube.com/watch?v=kE9gYQDyVr0</td>\n",
       "      <td>858</td>\n",
       "      <td>72.0</td>\n",
       "      <td>NaN</td>\n",
       "      <td>NaN</td>\n",
       "      <td>[{'format_id': '249', 'url': 'https://rr1---sn...</td>\n",
       "      <td>NaN</td>\n",
       "      <td>NaN</td>\n",
       "      <td>NaN</td>\n",
       "      <td>NaN</td>\n",
       "      <td>NaN</td>\n",
       "      <td>NaN</td>\n",
       "      <td>NaN</td>\n",
       "      <td>NaN</td>\n",
       "      <td>NaN</td>\n",
       "      <td>NaN</td>\n",
       "      <td>NaN</td>\n",
       "      <td>NaN</td>\n",
       "      <td>youtube</td>\n",
       "      <td>kE9gYQDyVr0</td>\n",
       "      <td>Youtube</td>\n",
       "      <td>232</td>\n",
       "      <td>ciencia+de+dados</td>\n",
       "      <td>ciencia+de+dados</td>\n",
       "      <td>NaN</td>\n",
       "      <td>NaN</td>\n",
       "      <td>NaN</td>\n",
       "      <td>1</td>\n",
       "      <td>https://i.ytimg.com/vi_webp/kE9gYQDyVr0/maxres...</td>\n",
       "      <td>kE9gYQDyVr0</td>\n",
       "      <td>NaN</td>\n",
       "      <td>[{'format_id': '137', 'url': 'https://rr1---sn...</td>\n",
       "      <td>137 - 1920x1080 (1080p)+140 - audio only (tiny)</td>\n",
       "      <td>137+140</td>\n",
       "      <td>mp4</td>\n",
       "      <td>1920</td>\n",
       "      <td>1080</td>\n",
       "      <td>NaN</td>\n",
       "      <td>30</td>\n",
       "      <td>avc1.640028</td>\n",
       "      <td>NaN</td>\n",
       "      <td>NaN</td>\n",
       "      <td>mp4a.40.2</td>\n",
       "      <td>128.0</td>\n",
       "      <td>ciencia+de+dados</td>\n",
       "    </tr>\n",
       "    <tr>\n",
       "      <th>1</th>\n",
       "      <td>GgEUPkAG1ho</td>\n",
       "      <td>Jonas Silva</td>\n",
       "      <td>NaN</td>\n",
       "      <td>http://www.youtube.com/@jonassilva1500</td>\n",
       "      <td>UC93r1MGydg0Wd9_spsG4W9Q</td>\n",
       "      <td>http://www.youtube.com/channel/UC93r1MGydg0Wd9...</td>\n",
       "      <td>20230413</td>\n",
       "      <td>NaN</td>\n",
       "      <td>NaN</td>\n",
       "      <td>Trabalho ciencia de dados-parte-1</td>\n",
       "      <td>NaN</td>\n",
       "      <td>[{'url': 'https://i.ytimg.com/vi/GgEUPkAG1ho/h...</td>\n",
       "      <td>NaN</td>\n",
       "      <td>['People &amp; Blogs']</td>\n",
       "      <td>NaN</td>\n",
       "      <td>{}</td>\n",
       "      <td>{}</td>\n",
       "      <td>389.0</td>\n",
       "      <td>0</td>\n",
       "      <td>NaN</td>\n",
       "      <td>NaN</td>\n",
       "      <td>https://www.youtube.com/watch?v=GgEUPkAG1ho</td>\n",
       "      <td>2</td>\n",
       "      <td>NaN</td>\n",
       "      <td>NaN</td>\n",
       "      <td>NaN</td>\n",
       "      <td>[{'format_id': '251', 'url': 'https://rr1---sn...</td>\n",
       "      <td>NaN</td>\n",
       "      <td>NaN</td>\n",
       "      <td>NaN</td>\n",
       "      <td>NaN</td>\n",
       "      <td>NaN</td>\n",
       "      <td>NaN</td>\n",
       "      <td>NaN</td>\n",
       "      <td>NaN</td>\n",
       "      <td>NaN</td>\n",
       "      <td>NaN</td>\n",
       "      <td>NaN</td>\n",
       "      <td>NaN</td>\n",
       "      <td>youtube</td>\n",
       "      <td>GgEUPkAG1ho</td>\n",
       "      <td>Youtube</td>\n",
       "      <td>232</td>\n",
       "      <td>ciencia+de+dados</td>\n",
       "      <td>ciencia+de+dados</td>\n",
       "      <td>NaN</td>\n",
       "      <td>NaN</td>\n",
       "      <td>NaN</td>\n",
       "      <td>2</td>\n",
       "      <td>https://i.ytimg.com/vi/GgEUPkAG1ho/maxresdefau...</td>\n",
       "      <td>GgEUPkAG1ho</td>\n",
       "      <td>NaN</td>\n",
       "      <td>[{'format_id': '137', 'url': 'https://rr1---sn...</td>\n",
       "      <td>137 - 1920x1080 (1080p)+140 - audio only (tiny)</td>\n",
       "      <td>137+140</td>\n",
       "      <td>mp4</td>\n",
       "      <td>1920</td>\n",
       "      <td>1080</td>\n",
       "      <td>NaN</td>\n",
       "      <td>25</td>\n",
       "      <td>avc1.640028</td>\n",
       "      <td>NaN</td>\n",
       "      <td>NaN</td>\n",
       "      <td>mp4a.40.2</td>\n",
       "      <td>128.0</td>\n",
       "      <td>ciencia+de+dados</td>\n",
       "    </tr>\n",
       "    <tr>\n",
       "      <th>2</th>\n",
       "      <td>U1a_Tp0O1Co</td>\n",
       "      <td>Hashtag Programação</td>\n",
       "      <td>NaN</td>\n",
       "      <td>http://www.youtube.com/@HashtagProgramacao</td>\n",
       "      <td>UCafFexaRoRylOKdzGBU6Pgg</td>\n",
       "      <td>http://www.youtube.com/channel/UCafFexaRoRylOK...</td>\n",
       "      <td>20230410</td>\n",
       "      <td>NaN</td>\n",
       "      <td>NaN</td>\n",
       "      <td>Como Aprender CIÊNCIA DE DADOS do ZERO?</td>\n",
       "      <td>NaN</td>\n",
       "      <td>[{'url': 'https://i.ytimg.com/vi/U1a_Tp0O1Co/h...</td>\n",
       "      <td>Quer saber mais sobre o nosso Curso Completo d...</td>\n",
       "      <td>['Education']</td>\n",
       "      <td>['Como aprender ciência de dados', 'Como apren...</td>\n",
       "      <td>{}</td>\n",
       "      <td>{}</td>\n",
       "      <td>1514.0</td>\n",
       "      <td>0</td>\n",
       "      <td>NaN</td>\n",
       "      <td>NaN</td>\n",
       "      <td>https://www.youtube.com/watch?v=U1a_Tp0O1Co</td>\n",
       "      <td>1</td>\n",
       "      <td>173.0</td>\n",
       "      <td>NaN</td>\n",
       "      <td>NaN</td>\n",
       "      <td>[{'format_id': '249', 'url': 'https://rr1---sn...</td>\n",
       "      <td>NaN</td>\n",
       "      <td>NaN</td>\n",
       "      <td>NaN</td>\n",
       "      <td>NaN</td>\n",
       "      <td>NaN</td>\n",
       "      <td>NaN</td>\n",
       "      <td>NaN</td>\n",
       "      <td>NaN</td>\n",
       "      <td>NaN</td>\n",
       "      <td>NaN</td>\n",
       "      <td>NaN</td>\n",
       "      <td>NaN</td>\n",
       "      <td>youtube</td>\n",
       "      <td>U1a_Tp0O1Co</td>\n",
       "      <td>Youtube</td>\n",
       "      <td>232</td>\n",
       "      <td>ciencia+de+dados</td>\n",
       "      <td>ciencia+de+dados</td>\n",
       "      <td>NaN</td>\n",
       "      <td>NaN</td>\n",
       "      <td>NaN</td>\n",
       "      <td>3</td>\n",
       "      <td>https://i.ytimg.com/vi_webp/U1a_Tp0O1Co/maxres...</td>\n",
       "      <td>U1a_Tp0O1Co</td>\n",
       "      <td>NaN</td>\n",
       "      <td>[{'format_id': '137', 'url': 'https://rr1---sn...</td>\n",
       "      <td>137 - 1920x1080 (1080p)+140 - audio only (tiny)</td>\n",
       "      <td>137+140</td>\n",
       "      <td>mp4</td>\n",
       "      <td>1920</td>\n",
       "      <td>1080</td>\n",
       "      <td>NaN</td>\n",
       "      <td>30</td>\n",
       "      <td>avc1.640028</td>\n",
       "      <td>NaN</td>\n",
       "      <td>NaN</td>\n",
       "      <td>mp4a.40.2</td>\n",
       "      <td>128.0</td>\n",
       "      <td>ciencia+de+dados</td>\n",
       "    </tr>\n",
       "  </tbody>\n",
       "</table>\n",
       "</div>"
      ],
      "text/plain": [
       "            id             uploader  uploader_id  \\\n",
       "0  kE9gYQDyVr0  Hashtag Programação          NaN   \n",
       "1  GgEUPkAG1ho          Jonas Silva          NaN   \n",
       "2  U1a_Tp0O1Co  Hashtag Programação          NaN   \n",
       "\n",
       "                                 uploader_url                channel_id  \\\n",
       "0  http://www.youtube.com/@HashtagProgramacao  UCafFexaRoRylOKdzGBU6Pgg   \n",
       "1      http://www.youtube.com/@jonassilva1500  UC93r1MGydg0Wd9_spsG4W9Q   \n",
       "2  http://www.youtube.com/@HashtagProgramacao  UCafFexaRoRylOKdzGBU6Pgg   \n",
       "\n",
       "                                         channel_url  upload_date  license  \\\n",
       "0  http://www.youtube.com/channel/UCafFexaRoRylOK...     20230417      NaN   \n",
       "1  http://www.youtube.com/channel/UC93r1MGydg0Wd9...     20230413      NaN   \n",
       "2  http://www.youtube.com/channel/UCafFexaRoRylOK...     20230410      NaN   \n",
       "\n",
       "   creator                                              title  alt_title  \\\n",
       "0      NaN  Trabalhando com Bases de Dados (Datasets) Desb...        NaN   \n",
       "1      NaN                  Trabalho ciencia de dados-parte-1        NaN   \n",
       "2      NaN            Como Aprender CIÊNCIA DE DADOS do ZERO?        NaN   \n",
       "\n",
       "                                          thumbnails  \\\n",
       "0  [{'url': 'https://i.ytimg.com/vi/kE9gYQDyVr0/h...   \n",
       "1  [{'url': 'https://i.ytimg.com/vi/GgEUPkAG1ho/h...   \n",
       "2  [{'url': 'https://i.ytimg.com/vi/U1a_Tp0O1Co/h...   \n",
       "\n",
       "                                         description          categories  \\\n",
       "0  Quer saber mais sobre o nosso Curso Completo d...       ['Education']   \n",
       "1                                                NaN  ['People & Blogs']   \n",
       "2  Quer saber mais sobre o nosso Curso Completo d...       ['Education']   \n",
       "\n",
       "                                                tags subtitles  \\\n",
       "0  ['Bases de dados desbalanceadas', 'Datasets de...        {}   \n",
       "1                                                NaN        {}   \n",
       "2  ['Como aprender ciência de dados', 'Como apren...        {}   \n",
       "\n",
       "  automatic_captions  duration  age_limit  annotations  chapters  \\\n",
       "0                 {}    1326.0          0          NaN       NaN   \n",
       "1                 {}     389.0          0          NaN       NaN   \n",
       "2                 {}    1514.0          0          NaN       NaN   \n",
       "\n",
       "                                   webpage_url  view_count  like_count  \\\n",
       "0  https://www.youtube.com/watch?v=kE9gYQDyVr0         858        72.0   \n",
       "1  https://www.youtube.com/watch?v=GgEUPkAG1ho           2         NaN   \n",
       "2  https://www.youtube.com/watch?v=U1a_Tp0O1Co           1       173.0   \n",
       "\n",
       "   dislike_count  average_rating  \\\n",
       "0            NaN             NaN   \n",
       "1            NaN             NaN   \n",
       "2            NaN             NaN   \n",
       "\n",
       "                                             formats  is_live  start_time  \\\n",
       "0  [{'format_id': '249', 'url': 'https://rr1---sn...      NaN         NaN   \n",
       "1  [{'format_id': '251', 'url': 'https://rr1---sn...      NaN         NaN   \n",
       "2  [{'format_id': '249', 'url': 'https://rr1---sn...      NaN         NaN   \n",
       "\n",
       "   end_time  series  season_number  episode_number  track  artist  album  \\\n",
       "0       NaN     NaN            NaN             NaN    NaN     NaN    NaN   \n",
       "1       NaN     NaN            NaN             NaN    NaN     NaN    NaN   \n",
       "2       NaN     NaN            NaN             NaN    NaN     NaN    NaN   \n",
       "\n",
       "   release_date  release_year  subscriber_count extractor  \\\n",
       "0           NaN           NaN               NaN   youtube   \n",
       "1           NaN           NaN               NaN   youtube   \n",
       "2           NaN           NaN               NaN   youtube   \n",
       "\n",
       "  webpage_url_basename extractor_key  n_entries          playlist  \\\n",
       "0          kE9gYQDyVr0       Youtube        232  ciencia+de+dados   \n",
       "1          GgEUPkAG1ho       Youtube        232  ciencia+de+dados   \n",
       "2          U1a_Tp0O1Co       Youtube        232  ciencia+de+dados   \n",
       "\n",
       "        playlist_id  playlist_title  playlist_uploader  playlist_uploader_id  \\\n",
       "0  ciencia+de+dados             NaN                NaN                   NaN   \n",
       "1  ciencia+de+dados             NaN                NaN                   NaN   \n",
       "2  ciencia+de+dados             NaN                NaN                   NaN   \n",
       "\n",
       "   playlist_index                                          thumbnail  \\\n",
       "0               1  https://i.ytimg.com/vi_webp/kE9gYQDyVr0/maxres...   \n",
       "1               2  https://i.ytimg.com/vi/GgEUPkAG1ho/maxresdefau...   \n",
       "2               3  https://i.ytimg.com/vi_webp/U1a_Tp0O1Co/maxres...   \n",
       "\n",
       "    display_id  requested_subtitles  \\\n",
       "0  kE9gYQDyVr0                  NaN   \n",
       "1  GgEUPkAG1ho                  NaN   \n",
       "2  U1a_Tp0O1Co                  NaN   \n",
       "\n",
       "                                   requested_formats  \\\n",
       "0  [{'format_id': '137', 'url': 'https://rr1---sn...   \n",
       "1  [{'format_id': '137', 'url': 'https://rr1---sn...   \n",
       "2  [{'format_id': '137', 'url': 'https://rr1---sn...   \n",
       "\n",
       "                                            format format_id  ext  width  \\\n",
       "0  137 - 1920x1080 (1080p)+140 - audio only (tiny)   137+140  mp4   1920   \n",
       "1  137 - 1920x1080 (1080p)+140 - audio only (tiny)   137+140  mp4   1920   \n",
       "2  137 - 1920x1080 (1080p)+140 - audio only (tiny)   137+140  mp4   1920   \n",
       "\n",
       "   height  resolution  fps       vcodec  vbr  stretched_ratio     acodec  \\\n",
       "0    1080         NaN   30  avc1.640028  NaN              NaN  mp4a.40.2   \n",
       "1    1080         NaN   25  avc1.640028  NaN              NaN  mp4a.40.2   \n",
       "2    1080         NaN   30  avc1.640028  NaN              NaN  mp4a.40.2   \n",
       "\n",
       "     abr             query  \n",
       "0  128.0  ciencia+de+dados  \n",
       "1  128.0  ciencia+de+dados  \n",
       "2  128.0  ciencia+de+dados  "
      ]
     },
     "execution_count": 3,
     "metadata": {},
     "output_type": "execute_result"
    }
   ],
   "source": [
    "print(df_raw.shape)\n",
    "pd.set_option(\"display.max_columns\", 70)\n",
    "df_raw.head(3)"
   ]
  },
  {
   "cell_type": "code",
   "execution_count": 4,
   "id": "6830887b",
   "metadata": {
    "ExecuteTime": {
     "end_time": "2023-04-19T21:19:58.066974Z",
     "start_time": "2023-04-19T21:19:58.046247Z"
    }
   },
   "outputs": [
    {
     "name": "stdout",
     "output_type": "stream",
     "text": [
      "<class 'pandas.core.frame.DataFrame'>\n",
      "Int64Index: 1317 entries, 0 to 1316\n",
      "Data columns (total 66 columns):\n",
      " #   Column                Non-Null Count  Dtype  \n",
      "---  ------                --------------  -----  \n",
      " 0   id                    1317 non-null   object \n",
      " 1   uploader              1316 non-null   object \n",
      " 2   uploader_id           0 non-null      float64\n",
      " 3   uploader_url          1317 non-null   object \n",
      " 4   channel_id            1317 non-null   object \n",
      " 5   channel_url           1317 non-null   object \n",
      " 6   upload_date           1317 non-null   int64  \n",
      " 7   license               0 non-null      float64\n",
      " 8   creator               0 non-null      float64\n",
      " 9   title                 1317 non-null   object \n",
      " 10  alt_title             0 non-null      float64\n",
      " 11  thumbnails            1317 non-null   object \n",
      " 12  description           1207 non-null   object \n",
      " 13  categories            1317 non-null   object \n",
      " 14  tags                  938 non-null    object \n",
      " 15  subtitles             1317 non-null   object \n",
      " 16  automatic_captions    1317 non-null   object \n",
      " 17  duration              1317 non-null   float64\n",
      " 18  age_limit             1317 non-null   int64  \n",
      " 19  annotations           0 non-null      float64\n",
      " 20  chapters              0 non-null      float64\n",
      " 21  webpage_url           1317 non-null   object \n",
      " 22  view_count            1317 non-null   int64  \n",
      " 23  like_count            1213 non-null   float64\n",
      " 24  dislike_count         0 non-null      float64\n",
      " 25  average_rating        0 non-null      float64\n",
      " 26  formats               1317 non-null   object \n",
      " 27  is_live               0 non-null      float64\n",
      " 28  start_time            0 non-null      float64\n",
      " 29  end_time              0 non-null      float64\n",
      " 30  series                0 non-null      float64\n",
      " 31  season_number         0 non-null      float64\n",
      " 32  episode_number        0 non-null      float64\n",
      " 33  track                 0 non-null      float64\n",
      " 34  artist                0 non-null      float64\n",
      " 35  album                 0 non-null      float64\n",
      " 36  release_date          0 non-null      float64\n",
      " 37  release_year          0 non-null      float64\n",
      " 38  subscriber_count      0 non-null      float64\n",
      " 39  extractor             1317 non-null   object \n",
      " 40  webpage_url_basename  1317 non-null   object \n",
      " 41  extractor_key         1317 non-null   object \n",
      " 42  n_entries             1317 non-null   int64  \n",
      " 43  playlist              1317 non-null   object \n",
      " 44  playlist_id           1317 non-null   object \n",
      " 45  playlist_title        0 non-null      float64\n",
      " 46  playlist_uploader     0 non-null      float64\n",
      " 47  playlist_uploader_id  0 non-null      float64\n",
      " 48  playlist_index        1317 non-null   int64  \n",
      " 49  thumbnail             1317 non-null   object \n",
      " 50  display_id            1317 non-null   object \n",
      " 51  requested_subtitles   0 non-null      float64\n",
      " 52  requested_formats     1317 non-null   object \n",
      " 53  format                1317 non-null   object \n",
      " 54  format_id             1317 non-null   object \n",
      " 55  ext                   1317 non-null   object \n",
      " 56  width                 1317 non-null   int64  \n",
      " 57  height                1317 non-null   int64  \n",
      " 58  resolution            0 non-null      float64\n",
      " 59  fps                   1317 non-null   int64  \n",
      " 60  vcodec                1317 non-null   object \n",
      " 61  vbr                   0 non-null      float64\n",
      " 62  stretched_ratio       0 non-null      float64\n",
      " 63  acodec                1317 non-null   object \n",
      " 64  abr                   1314 non-null   float64\n",
      " 65  query                 1317 non-null   object \n",
      "dtypes: float64(30), int64(8), object(28)\n",
      "memory usage: 689.4+ KB\n"
     ]
    }
   ],
   "source": [
    "df_raw.info()"
   ]
  },
  {
   "cell_type": "markdown",
   "id": "f56da375",
   "metadata": {},
   "source": [
    "# Tratamento dos dados"
   ]
  },
  {
   "cell_type": "markdown",
   "id": "3fe99068",
   "metadata": {},
   "source": [
    "## Tratando valores ausentes"
   ]
  },
  {
   "cell_type": "code",
   "execution_count": 5,
   "id": "ff643fa9",
   "metadata": {
    "ExecuteTime": {
     "end_time": "2023-04-19T21:19:59.724589Z",
     "start_time": "2023-04-19T21:19:59.708753Z"
    }
   },
   "outputs": [],
   "source": [
    "df1 = df_raw.copy()\n",
    "df1[['uploader', 'tags', 'like_count']] = df1[['uploader', 'tags', 'like_count']].fillna('Sem valor')"
   ]
  },
  {
   "cell_type": "code",
   "execution_count": 6,
   "id": "d90bd417",
   "metadata": {
    "ExecuteTime": {
     "end_time": "2023-04-19T21:20:00.274409Z",
     "start_time": "2023-04-19T21:20:00.269852Z"
    }
   },
   "outputs": [],
   "source": [
    "def split(df, coluna, coluna_vazia, padrao):\n",
    "    for numero, string in enumerate(df[coluna_vazia]):\n",
    "        index = numero \n",
    "        if string == 'Sem valor':\n",
    "            print(df[coluna][index])\n",
    "            valor = df[coluna][index]\n",
    "            print(valor)\n",
    "            df[coluna_vazia][index] = valor.split(padrao)[1]"
   ]
  },
  {
   "cell_type": "code",
   "execution_count": 7,
   "id": "6a55ff94",
   "metadata": {
    "ExecuteTime": {
     "end_time": "2023-04-19T21:20:00.838179Z",
     "start_time": "2023-04-19T21:20:00.833391Z"
    }
   },
   "outputs": [
    {
     "name": "stdout",
     "output_type": "stream",
     "text": [
      "http://www.youtube.com/@CavalcantiKarlinha\n",
      "http://www.youtube.com/@CavalcantiKarlinha\n"
     ]
    },
    {
     "name": "stderr",
     "output_type": "stream",
     "text": [
      "/tmp/ipykernel_60664/1667779886.py:8: SettingWithCopyWarning: \n",
      "A value is trying to be set on a copy of a slice from a DataFrame\n",
      "\n",
      "See the caveats in the documentation: https://pandas.pydata.org/pandas-docs/stable/user_guide/indexing.html#returning-a-view-versus-a-copy\n",
      "  df[coluna_vazia][index] = valor.split(padrao)[1]\n"
     ]
    }
   ],
   "source": [
    "split(df1, 'uploader_url', 'uploader', '@')"
   ]
  },
  {
   "cell_type": "code",
   "execution_count": 8,
   "id": "5310d3d5",
   "metadata": {
    "ExecuteTime": {
     "end_time": "2023-04-19T21:20:01.407068Z",
     "start_time": "2023-04-19T21:20:01.398533Z"
    }
   },
   "outputs": [],
   "source": [
    "df1['tags'] = df1['tags'].replace('Sem valor', '')\n",
    "df1['like_count'] = df1['like_count'].replace('Sem valor', 0)"
   ]
  },
  {
   "cell_type": "code",
   "execution_count": 9,
   "id": "cd57d2de",
   "metadata": {
    "ExecuteTime": {
     "end_time": "2023-04-19T21:20:02.223247Z",
     "start_time": "2023-04-19T21:20:02.188447Z"
    }
   },
   "outputs": [
    {
     "name": "stdout",
     "output_type": "stream",
     "text": [
      "<class 'pandas.core.frame.DataFrame'>\n",
      "Int64Index: 1317 entries, 0 to 1316\n",
      "Data columns (total 37 columns):\n",
      " #   Column                Non-Null Count  Dtype  \n",
      "---  ------                --------------  -----  \n",
      " 0   id                    1317 non-null   object \n",
      " 1   uploader              1317 non-null   object \n",
      " 2   uploader_url          1317 non-null   object \n",
      " 3   channel_id            1317 non-null   object \n",
      " 4   channel_url           1317 non-null   object \n",
      " 5   upload_date           1317 non-null   int64  \n",
      " 6   title                 1317 non-null   object \n",
      " 7   thumbnails            1317 non-null   object \n",
      " 8   categories            1317 non-null   object \n",
      " 9   tags                  1317 non-null   object \n",
      " 10  subtitles             1317 non-null   object \n",
      " 11  automatic_captions    1317 non-null   object \n",
      " 12  duration              1317 non-null   float64\n",
      " 13  age_limit             1317 non-null   int64  \n",
      " 14  webpage_url           1317 non-null   object \n",
      " 15  view_count            1317 non-null   int64  \n",
      " 16  like_count            1317 non-null   float64\n",
      " 17  formats               1317 non-null   object \n",
      " 18  extractor             1317 non-null   object \n",
      " 19  webpage_url_basename  1317 non-null   object \n",
      " 20  extractor_key         1317 non-null   object \n",
      " 21  n_entries             1317 non-null   int64  \n",
      " 22  playlist              1317 non-null   object \n",
      " 23  playlist_id           1317 non-null   object \n",
      " 24  playlist_index        1317 non-null   int64  \n",
      " 25  thumbnail             1317 non-null   object \n",
      " 26  display_id            1317 non-null   object \n",
      " 27  requested_formats     1317 non-null   object \n",
      " 28  format                1317 non-null   object \n",
      " 29  format_id             1317 non-null   object \n",
      " 30  ext                   1317 non-null   object \n",
      " 31  width                 1317 non-null   int64  \n",
      " 32  height                1317 non-null   int64  \n",
      " 33  fps                   1317 non-null   int64  \n",
      " 34  vcodec                1317 non-null   object \n",
      " 35  acodec                1317 non-null   object \n",
      " 36  query                 1317 non-null   object \n",
      "dtypes: float64(2), int64(8), object(27)\n",
      "memory usage: 423.3+ KB\n"
     ]
    }
   ],
   "source": [
    "df1 = df1.dropna(axis=1)\n",
    "df1.info()"
   ]
  },
  {
   "cell_type": "code",
   "execution_count": 10,
   "id": "b950ae24",
   "metadata": {
    "ExecuteTime": {
     "end_time": "2023-04-19T21:20:05.631438Z",
     "start_time": "2023-04-19T21:20:05.624258Z"
    }
   },
   "outputs": [],
   "source": [
    "df2 = df1[['id', 'title', 'uploader', 'upload_date', 'categories', 'tags',\n",
    "           'duration', 'webpage_url', 'view_count', 'like_count', 'query']]"
   ]
  },
  {
   "cell_type": "markdown",
   "id": "88294469",
   "metadata": {},
   "source": [
    "## Ajuste de id"
   ]
  },
  {
   "cell_type": "code",
   "execution_count": 11,
   "id": "4465aaf8",
   "metadata": {
    "ExecuteTime": {
     "end_time": "2023-04-19T21:20:06.611926Z",
     "start_time": "2023-04-19T21:20:06.605225Z"
    }
   },
   "outputs": [],
   "source": [
    "df3 = df2.copy()\n",
    "df3['id'] = 'watch?v='+df3['id']"
   ]
  },
  {
   "cell_type": "markdown",
   "id": "5fa979d2",
   "metadata": {},
   "source": [
    "## Limpeza da data"
   ]
  },
  {
   "cell_type": "code",
   "execution_count": 12,
   "id": "e64634dc",
   "metadata": {
    "ExecuteTime": {
     "end_time": "2023-04-19T21:20:07.822511Z",
     "start_time": "2023-04-19T21:20:07.781703Z"
    }
   },
   "outputs": [
    {
     "data": {
      "text/html": [
       "<div>\n",
       "<style scoped>\n",
       "    .dataframe tbody tr th:only-of-type {\n",
       "        vertical-align: middle;\n",
       "    }\n",
       "\n",
       "    .dataframe tbody tr th {\n",
       "        vertical-align: top;\n",
       "    }\n",
       "\n",
       "    .dataframe thead th {\n",
       "        text-align: right;\n",
       "    }\n",
       "</style>\n",
       "<table border=\"1\" class=\"dataframe\">\n",
       "  <thead>\n",
       "    <tr style=\"text-align: right;\">\n",
       "      <th></th>\n",
       "      <th>id</th>\n",
       "      <th>title</th>\n",
       "      <th>uploader</th>\n",
       "      <th>upload_date</th>\n",
       "      <th>categories</th>\n",
       "      <th>tags</th>\n",
       "      <th>duration</th>\n",
       "      <th>webpage_url</th>\n",
       "      <th>view_count</th>\n",
       "      <th>like_count</th>\n",
       "      <th>query</th>\n",
       "    </tr>\n",
       "  </thead>\n",
       "  <tbody>\n",
       "    <tr>\n",
       "      <th>0</th>\n",
       "      <td>watch?v=kE9gYQDyVr0</td>\n",
       "      <td>Trabalhando com Bases de Dados (Datasets) Desb...</td>\n",
       "      <td>Hashtag Programação</td>\n",
       "      <td>2023-04-17</td>\n",
       "      <td>['Education']</td>\n",
       "      <td>['Bases de dados desbalanceadas', 'Datasets de...</td>\n",
       "      <td>1326.0</td>\n",
       "      <td>https://www.youtube.com/watch?v=kE9gYQDyVr0</td>\n",
       "      <td>858</td>\n",
       "      <td>72.0</td>\n",
       "      <td>ciencia+de+dados</td>\n",
       "    </tr>\n",
       "    <tr>\n",
       "      <th>1</th>\n",
       "      <td>watch?v=GgEUPkAG1ho</td>\n",
       "      <td>Trabalho ciencia de dados-parte-1</td>\n",
       "      <td>Jonas Silva</td>\n",
       "      <td>2023-04-13</td>\n",
       "      <td>['People &amp; Blogs']</td>\n",
       "      <td></td>\n",
       "      <td>389.0</td>\n",
       "      <td>https://www.youtube.com/watch?v=GgEUPkAG1ho</td>\n",
       "      <td>2</td>\n",
       "      <td>0.0</td>\n",
       "      <td>ciencia+de+dados</td>\n",
       "    </tr>\n",
       "  </tbody>\n",
       "</table>\n",
       "</div>"
      ],
      "text/plain": [
       "                    id                                              title  \\\n",
       "0  watch?v=kE9gYQDyVr0  Trabalhando com Bases de Dados (Datasets) Desb...   \n",
       "1  watch?v=GgEUPkAG1ho                  Trabalho ciencia de dados-parte-1   \n",
       "\n",
       "              uploader upload_date          categories  \\\n",
       "0  Hashtag Programação  2023-04-17       ['Education']   \n",
       "1          Jonas Silva  2023-04-13  ['People & Blogs']   \n",
       "\n",
       "                                                tags  duration  \\\n",
       "0  ['Bases de dados desbalanceadas', 'Datasets de...    1326.0   \n",
       "1                                                        389.0   \n",
       "\n",
       "                                   webpage_url  view_count  like_count  \\\n",
       "0  https://www.youtube.com/watch?v=kE9gYQDyVr0         858        72.0   \n",
       "1  https://www.youtube.com/watch?v=GgEUPkAG1ho           2         0.0   \n",
       "\n",
       "              query  \n",
       "0  ciencia+de+dados  \n",
       "1  ciencia+de+dados  "
      ]
     },
     "execution_count": 12,
     "metadata": {},
     "output_type": "execute_result"
    }
   ],
   "source": [
    "df3['upload_date'] = df3['upload_date'].astype(str).apply(lambda x: datetime.datetime.strptime(x, '%Y%m%d').strftime('%Y-%m-%d'))\n",
    "df3['upload_date'] = pd.to_datetime(df3['upload_date'], format='%Y-%m-%d')\n",
    "df3.head(2)"
   ]
  },
  {
   "cell_type": "code",
   "execution_count": 13,
   "id": "aadfc50e",
   "metadata": {
    "ExecuteTime": {
     "end_time": "2023-04-19T21:20:11.577812Z",
     "start_time": "2023-04-19T21:20:11.559341Z"
    }
   },
   "outputs": [
    {
     "data": {
      "text/html": [
       "<div>\n",
       "<style scoped>\n",
       "    .dataframe tbody tr th:only-of-type {\n",
       "        vertical-align: middle;\n",
       "    }\n",
       "\n",
       "    .dataframe tbody tr th {\n",
       "        vertical-align: top;\n",
       "    }\n",
       "\n",
       "    .dataframe thead th {\n",
       "        text-align: right;\n",
       "    }\n",
       "</style>\n",
       "<table border=\"1\" class=\"dataframe\">\n",
       "  <thead>\n",
       "    <tr style=\"text-align: right;\">\n",
       "      <th></th>\n",
       "      <th>id</th>\n",
       "      <th>titulo</th>\n",
       "      <th>canal</th>\n",
       "      <th>data_upload</th>\n",
       "      <th>categoria</th>\n",
       "      <th>tags</th>\n",
       "      <th>duracao_segundos</th>\n",
       "      <th>link</th>\n",
       "      <th>visualizacoes</th>\n",
       "      <th>quantidade_likes</th>\n",
       "      <th>query</th>\n",
       "    </tr>\n",
       "  </thead>\n",
       "  <tbody>\n",
       "    <tr>\n",
       "      <th>0</th>\n",
       "      <td>watch?v=kE9gYQDyVr0</td>\n",
       "      <td>Trabalhando com Bases de Dados (Datasets) Desb...</td>\n",
       "      <td>Hashtag Programação</td>\n",
       "      <td>2023-04-17</td>\n",
       "      <td>['Education']</td>\n",
       "      <td>['Bases de dados desbalanceadas', 'Datasets de...</td>\n",
       "      <td>1326.0</td>\n",
       "      <td>https://www.youtube.com/watch?v=kE9gYQDyVr0</td>\n",
       "      <td>858</td>\n",
       "      <td>72.0</td>\n",
       "      <td>ciencia+de+dados</td>\n",
       "    </tr>\n",
       "    <tr>\n",
       "      <th>1</th>\n",
       "      <td>watch?v=GgEUPkAG1ho</td>\n",
       "      <td>Trabalho ciencia de dados-parte-1</td>\n",
       "      <td>Jonas Silva</td>\n",
       "      <td>2023-04-13</td>\n",
       "      <td>['People &amp; Blogs']</td>\n",
       "      <td></td>\n",
       "      <td>389.0</td>\n",
       "      <td>https://www.youtube.com/watch?v=GgEUPkAG1ho</td>\n",
       "      <td>2</td>\n",
       "      <td>0.0</td>\n",
       "      <td>ciencia+de+dados</td>\n",
       "    </tr>\n",
       "  </tbody>\n",
       "</table>\n",
       "</div>"
      ],
      "text/plain": [
       "                    id                                             titulo  \\\n",
       "0  watch?v=kE9gYQDyVr0  Trabalhando com Bases de Dados (Datasets) Desb...   \n",
       "1  watch?v=GgEUPkAG1ho                  Trabalho ciencia de dados-parte-1   \n",
       "\n",
       "                 canal data_upload           categoria  \\\n",
       "0  Hashtag Programação  2023-04-17       ['Education']   \n",
       "1          Jonas Silva  2023-04-13  ['People & Blogs']   \n",
       "\n",
       "                                                tags  duracao_segundos  \\\n",
       "0  ['Bases de dados desbalanceadas', 'Datasets de...            1326.0   \n",
       "1                                                                389.0   \n",
       "\n",
       "                                          link  visualizacoes  \\\n",
       "0  https://www.youtube.com/watch?v=kE9gYQDyVr0            858   \n",
       "1  https://www.youtube.com/watch?v=GgEUPkAG1ho              2   \n",
       "\n",
       "   quantidade_likes             query  \n",
       "0              72.0  ciencia+de+dados  \n",
       "1               0.0  ciencia+de+dados  "
      ]
     },
     "execution_count": 13,
     "metadata": {},
     "output_type": "execute_result"
    }
   ],
   "source": [
    "colunas = ['id', 'titulo', 'canal', 'data_upload', 'categoria', 'tags',\n",
    "           'duracao_segundos', 'link', 'visualizacoes', 'quantidade_likes',\n",
    "           'query']\n",
    "df3.columns = colunas\n",
    "df3.head(2)"
   ]
  },
  {
   "cell_type": "code",
   "execution_count": 20,
   "id": "1a3ebc95",
   "metadata": {
    "ExecuteTime": {
     "end_time": "2023-04-19T21:42:22.581264Z",
     "start_time": "2023-04-19T21:42:22.495920Z"
    }
   },
   "outputs": [],
   "source": [
    "# Salvando os dados tratados\n",
    "df3.to_csv('dados/silver/dados_tratados.csv')"
   ]
  },
  {
   "cell_type": "markdown",
   "id": "5406749b",
   "metadata": {},
   "source": [
    "# Feature Engineering"
   ]
  },
  {
   "cell_type": "code",
   "execution_count": 14,
   "id": "08553310",
   "metadata": {
    "ExecuteTime": {
     "end_time": "2023-04-19T21:20:17.086325Z",
     "start_time": "2023-04-19T21:20:17.078487Z"
    }
   },
   "outputs": [],
   "source": [
    "df4 = df3.copy()"
   ]
  },
  {
   "cell_type": "code",
   "execution_count": 15,
   "id": "60966d1a",
   "metadata": {
    "ExecuteTime": {
     "end_time": "2023-04-19T21:20:17.453592Z",
     "start_time": "2023-04-19T21:20:17.425291Z"
    }
   },
   "outputs": [
    {
     "name": "stdout",
     "output_type": "stream",
     "text": [
      "<class 'pandas.core.frame.DataFrame'>\n",
      "Int64Index: 1317 entries, 0 to 1316\n",
      "Data columns (total 11 columns):\n",
      " #   Column            Non-Null Count  Dtype         \n",
      "---  ------            --------------  -----         \n",
      " 0   id                1317 non-null   object        \n",
      " 1   titulo            1317 non-null   object        \n",
      " 2   canal             1317 non-null   object        \n",
      " 3   data_upload       1317 non-null   datetime64[ns]\n",
      " 4   categoria         1317 non-null   object        \n",
      " 5   tags              1317 non-null   object        \n",
      " 6   duracao_segundos  1317 non-null   float64       \n",
      " 7   link              1317 non-null   object        \n",
      " 8   visualizacoes     1317 non-null   int64         \n",
      " 9   quantidade_likes  1317 non-null   float64       \n",
      " 10  query             1317 non-null   object        \n",
      "dtypes: datetime64[ns](1), float64(2), int64(1), object(7)\n",
      "memory usage: 155.8+ KB\n"
     ]
    }
   ],
   "source": [
    "df4.info()"
   ]
  },
  {
   "cell_type": "code",
   "execution_count": 17,
   "id": "fb0abbce",
   "metadata": {
    "ExecuteTime": {
     "end_time": "2023-04-19T21:20:26.770237Z",
     "start_time": "2023-04-19T21:20:26.747607Z"
    },
    "scrolled": true
   },
   "outputs": [
    {
     "data": {
      "text/html": [
       "<div>\n",
       "<style scoped>\n",
       "    .dataframe tbody tr th:only-of-type {\n",
       "        vertical-align: middle;\n",
       "    }\n",
       "\n",
       "    .dataframe tbody tr th {\n",
       "        vertical-align: top;\n",
       "    }\n",
       "\n",
       "    .dataframe thead th {\n",
       "        text-align: right;\n",
       "    }\n",
       "</style>\n",
       "<table border=\"1\" class=\"dataframe\">\n",
       "  <thead>\n",
       "    <tr style=\"text-align: right;\">\n",
       "      <th></th>\n",
       "      <th>id</th>\n",
       "      <th>titulo</th>\n",
       "      <th>canal</th>\n",
       "      <th>data_upload</th>\n",
       "      <th>categoria</th>\n",
       "      <th>tags</th>\n",
       "      <th>duracao_segundos</th>\n",
       "      <th>link</th>\n",
       "      <th>visualizacoes</th>\n",
       "      <th>quantidade_likes</th>\n",
       "      <th>query</th>\n",
       "      <th>tempo_desde_pub</th>\n",
       "      <th>visualizacoes_por_dia</th>\n",
       "    </tr>\n",
       "  </thead>\n",
       "  <tbody>\n",
       "    <tr>\n",
       "      <th>0</th>\n",
       "      <td>watch?v=kE9gYQDyVr0</td>\n",
       "      <td>Trabalhando com Bases de Dados (Datasets) Desb...</td>\n",
       "      <td>Hashtag Programação</td>\n",
       "      <td>2023-04-17</td>\n",
       "      <td>['Education']</td>\n",
       "      <td>['Bases de dados desbalanceadas', 'Datasets de...</td>\n",
       "      <td>1326.0</td>\n",
       "      <td>https://www.youtube.com/watch?v=kE9gYQDyVr0</td>\n",
       "      <td>858</td>\n",
       "      <td>72.0</td>\n",
       "      <td>ciencia+de+dados</td>\n",
       "      <td>3.0</td>\n",
       "      <td>286.000000</td>\n",
       "    </tr>\n",
       "    <tr>\n",
       "      <th>1</th>\n",
       "      <td>watch?v=GgEUPkAG1ho</td>\n",
       "      <td>Trabalho ciencia de dados-parte-1</td>\n",
       "      <td>Jonas Silva</td>\n",
       "      <td>2023-04-13</td>\n",
       "      <td>['People &amp; Blogs']</td>\n",
       "      <td></td>\n",
       "      <td>389.0</td>\n",
       "      <td>https://www.youtube.com/watch?v=GgEUPkAG1ho</td>\n",
       "      <td>2</td>\n",
       "      <td>0.0</td>\n",
       "      <td>ciencia+de+dados</td>\n",
       "      <td>7.0</td>\n",
       "      <td>0.285714</td>\n",
       "    </tr>\n",
       "    <tr>\n",
       "      <th>2</th>\n",
       "      <td>watch?v=U1a_Tp0O1Co</td>\n",
       "      <td>Como Aprender CIÊNCIA DE DADOS do ZERO?</td>\n",
       "      <td>Hashtag Programação</td>\n",
       "      <td>2023-04-10</td>\n",
       "      <td>['Education']</td>\n",
       "      <td>['Como aprender ciência de dados', 'Como apren...</td>\n",
       "      <td>1514.0</td>\n",
       "      <td>https://www.youtube.com/watch?v=U1a_Tp0O1Co</td>\n",
       "      <td>1</td>\n",
       "      <td>173.0</td>\n",
       "      <td>ciencia+de+dados</td>\n",
       "      <td>10.0</td>\n",
       "      <td>0.100000</td>\n",
       "    </tr>\n",
       "  </tbody>\n",
       "</table>\n",
       "</div>"
      ],
      "text/plain": [
       "                    id                                             titulo  \\\n",
       "0  watch?v=kE9gYQDyVr0  Trabalhando com Bases de Dados (Datasets) Desb...   \n",
       "1  watch?v=GgEUPkAG1ho                  Trabalho ciencia de dados-parte-1   \n",
       "2  watch?v=U1a_Tp0O1Co            Como Aprender CIÊNCIA DE DADOS do ZERO?   \n",
       "\n",
       "                 canal data_upload           categoria  \\\n",
       "0  Hashtag Programação  2023-04-17       ['Education']   \n",
       "1          Jonas Silva  2023-04-13  ['People & Blogs']   \n",
       "2  Hashtag Programação  2023-04-10       ['Education']   \n",
       "\n",
       "                                                tags  duracao_segundos  \\\n",
       "0  ['Bases de dados desbalanceadas', 'Datasets de...            1326.0   \n",
       "1                                                                389.0   \n",
       "2  ['Como aprender ciência de dados', 'Como apren...            1514.0   \n",
       "\n",
       "                                          link  visualizacoes  \\\n",
       "0  https://www.youtube.com/watch?v=kE9gYQDyVr0            858   \n",
       "1  https://www.youtube.com/watch?v=GgEUPkAG1ho              2   \n",
       "2  https://www.youtube.com/watch?v=U1a_Tp0O1Co              1   \n",
       "\n",
       "   quantidade_likes             query  tempo_desde_pub  visualizacoes_por_dia  \n",
       "0              72.0  ciencia+de+dados              3.0             286.000000  \n",
       "1               0.0  ciencia+de+dados              7.0               0.285714  \n",
       "2             173.0  ciencia+de+dados             10.0               0.100000  "
      ]
     },
     "execution_count": 17,
     "metadata": {},
     "output_type": "execute_result"
    }
   ],
   "source": [
    "dia_posterior_atual = str(datetime.date.today() + datetime.timedelta(1)) # para evitar divisões por zero\n",
    "df4['tempo_desde_pub'] = (pd.to_datetime(dia_posterior_atual) - df4['data_upload']) / np.timedelta64(1, 'D')\n",
    "df4['visualizacoes_por_dia'] = df4['visualizacoes'] / df4['tempo_desde_pub']\n",
    "df4.head(3)"
   ]
  },
  {
   "cell_type": "code",
   "execution_count": 19,
   "id": "e14fd2f7",
   "metadata": {
    "ExecuteTime": {
     "end_time": "2023-04-19T21:41:17.810489Z",
     "start_time": "2023-04-19T21:41:16.666764Z"
    }
   },
   "outputs": [
    {
     "data": {
      "text/plain": [
       "<AxesSubplot:>"
      ]
     },
     "execution_count": 19,
     "metadata": {},
     "output_type": "execute_result"
    },
    {
     "data": {
      "image/png": "[encoded data removed]",
      "text/plain": [
       "<Figure size 2000x1000 with 1 Axes>"
      ]
     },
     "metadata": {},
     "output_type": "display_data"
    }
   ],
   "source": [
    "df4['data_upload'].value_counts().plot(figsize=(20, 10))"
   ]
  },
  {
   "cell_type": "code",
   "execution_count": 21,
   "id": "7f9aaa92",
   "metadata": {
    "ExecuteTime": {
     "end_time": "2023-04-19T21:43:02.889761Z",
     "start_time": "2023-04-19T21:43:02.836432Z"
    }
   },
   "outputs": [],
   "source": [
    "# Salvando os dados tratados\n",
    "df4.to_csv('dados/silver/dados_tratados_com_features_novas.csv')"
   ]
  },
  {
   "cell_type": "code",
   "execution_count": 22,
   "id": "8bf3b2e5",
   "metadata": {
    "ExecuteTime": {
     "end_time": "2023-04-19T21:51:44.944840Z",
     "start_time": "2023-04-19T21:51:44.936428Z"
    }
   },
   "outputs": [
    {
     "data": {
      "text/plain": [
       "(1317, 13)"
      ]
     },
     "execution_count": 22,
     "metadata": {},
     "output_type": "execute_result"
    }
   ],
   "source": [
    "df4.shape"
   ]
  },
  {
   "cell_type": "code",
   "execution_count": null,
   "id": "b86d337a",
   "metadata": {},
   "outputs": [],
   "source": []
  }
 ],
 "metadata": {
  "kernelspec": {
   "display_name": "Python 3 (ipykernel)",
   "language": "python",
   "name": "python3"
  },
  "language_info": {
   "codemirror_mode": {
    "name": "ipython",
    "version": 3
   },
   "file_extension": ".py",
   "mimetype": "text/x-python",
   "name": "python",
   "nbconvert_exporter": "python",
   "pygments_lexer": "ipython3",
   "version": "3.9.13"
  },
  "latex_envs": {
   "LaTeX_envs_menu_present": true,
   "autoclose": false,
   "autocomplete": true,
   "bibliofile": "biblio.bib",
   "cite_by": "apalike",
   "current_citInitial": 1,
   "eqLabelWithNumbers": true,
   "eqNumInitial": 1,
   "hotkeys": {
    "equation": "Ctrl-E",
    "itemize": "Ctrl-I"
   },
   "labels_anchors": false,
   "latex_user_defs": false,
   "report_style_numbering": false,
   "user_envs_cfg": false
  },
  "nbTranslate": {
   "displayLangs": [
    "*"
   ],
   "hotkey": "alt-t",
   "langInMainMenu": true,
   "sourceLang": "en",
   "targetLang": "fr",
   "useGoogleTranslate": true
  },
  "toc": {
   "base_numbering": 1,
   "nav_menu": {},
   "number_sections": true,
   "sideBar": true,
   "skip_h1_title": false,
   "title_cell": "Table of Contents",
   "title_sidebar": "Contents",
   "toc_cell": false,
   "toc_position": {},
   "toc_section_display": true,
   "toc_window_display": false
  },
  "varInspector": {
   "cols": {
    "lenName": 16,
    "lenType": 16,
    "lenVar": 40
   },
   "kernels_config": {
    "python": {
     "delete_cmd_postfix": "",
     "delete_cmd_prefix": "del ",
     "library": "var_list.py",
     "varRefreshCmd": "print(var_dic_list())"
    },
    "r": {
     "delete_cmd_postfix": ") ",
     "delete_cmd_prefix": "rm(",
     "library": "var_list.r",
     "varRefreshCmd": "cat(var_dic_list()) "
    }
   },
   "types_to_exclude": [
    "module",
    "function",
    "builtin_function_or_method",
    "instance",
    "_Feature"
   ],
   "window_display": false
  }
 },
 "nbformat": 4,
 "nbformat_minor": 5
}
