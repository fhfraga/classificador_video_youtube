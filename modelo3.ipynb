{
 "cells": [
  {
   "cell_type": "code",
   "execution_count": 1,
   "id": "249dcaee",
   "metadata": {
    "ExecuteTime": {
     "end_time": "2023-04-20T00:23:13.494394Z",
     "start_time": "2023-04-20T00:23:12.852057Z"
    }
   },
   "outputs": [],
   "source": [
    "import pandas as pd\n",
    "import numpy as np\n",
    "import datetime\n",
    "\n",
    "from scipy.sparse import hstack, vstack\n",
    "from sklearn.ensemble import RandomForestClassifier\n",
    "from sklearn.feature_extraction.text import TfidfVectorizer\n",
    "from sklearn.metrics import roc_auc_score, average_precision_score"
   ]
  },
  {
   "cell_type": "code",
   "execution_count": 2,
   "id": "7cb7417a",
   "metadata": {
    "ExecuteTime": {
     "end_time": "2023-04-20T00:23:16.016091Z",
     "start_time": "2023-04-20T00:23:15.991404Z"
    }
   },
   "outputs": [
    {
     "name": "stdout",
     "output_type": "stream",
     "text": [
      "(500, 14)\n"
     ]
    }
   ],
   "source": [
    "df1 = pd.read_csv('dados/silver/dados_tratados_com_features_novas_com_labels.csv', index_col=0)\n",
    "df1 = df1[df1['label'].notnull()]\n",
    "df1 = df1.reset_index().drop('index', axis=1)\n",
    "print(df1.shape)"
   ]
  },
  {
   "cell_type": "code",
   "execution_count": 3,
   "id": "5c5fba7c",
   "metadata": {
    "ExecuteTime": {
     "end_time": "2023-04-20T00:23:16.988821Z",
     "start_time": "2023-04-20T00:23:16.972641Z"
    }
   },
   "outputs": [
    {
     "data": {
      "text/plain": [
       "(100, 16)"
      ]
     },
     "execution_count": 3,
     "metadata": {},
     "output_type": "execute_result"
    }
   ],
   "source": [
    "df2 = pd.read_csv('dados/silver/active_label1_done.csv', index_col=0)\n",
    "df2 = df2[df2['label'].notnull()]\n",
    "df2['novo'] = 1\n",
    "df2.shape"
   ]
  },
  {
   "cell_type": "code",
   "execution_count": 4,
   "id": "921300d0",
   "metadata": {
    "ExecuteTime": {
     "end_time": "2023-04-20T00:23:17.790639Z",
     "start_time": "2023-04-20T00:23:17.754377Z"
    }
   },
   "outputs": [
    {
     "data": {
      "text/html": [
       "<div>\n",
       "<style scoped>\n",
       "    .dataframe tbody tr th:only-of-type {\n",
       "        vertical-align: middle;\n",
       "    }\n",
       "\n",
       "    .dataframe tbody tr th {\n",
       "        vertical-align: top;\n",
       "    }\n",
       "\n",
       "    .dataframe thead th {\n",
       "        text-align: right;\n",
       "    }\n",
       "</style>\n",
       "<table border=\"1\" class=\"dataframe\">\n",
       "  <thead>\n",
       "    <tr style=\"text-align: right;\">\n",
       "      <th></th>\n",
       "      <th>id</th>\n",
       "      <th>titulo</th>\n",
       "      <th>label</th>\n",
       "      <th>canal</th>\n",
       "      <th>data_upload</th>\n",
       "      <th>categoria</th>\n",
       "      <th>tags</th>\n",
       "      <th>duracao_segundos</th>\n",
       "      <th>link</th>\n",
       "      <th>visualizacoes</th>\n",
       "      <th>quantidade_likes</th>\n",
       "      <th>query</th>\n",
       "      <th>tempo_desde_pub</th>\n",
       "      <th>visualizacoes_por_dia</th>\n",
       "      <th>probabilidade</th>\n",
       "      <th>novo</th>\n",
       "    </tr>\n",
       "  </thead>\n",
       "  <tbody>\n",
       "    <tr>\n",
       "      <th>503</th>\n",
       "      <td>watch?v=3Ie39phKdpk</td>\n",
       "      <td>Manual machine - learning BMX racing bike skills!</td>\n",
       "      <td>0</td>\n",
       "      <td>Rockstar Harley</td>\n",
       "      <td>2022-10-11</td>\n",
       "      <td>['Sports']</td>\n",
       "      <td>['bmx racing', 'bike skills', 'dream', 'fun ki...</td>\n",
       "      <td>11.0</td>\n",
       "      <td>https://www.youtube.com/watch?v=3Ie39phKdpk</td>\n",
       "      <td>53</td>\n",
       "      <td>954870.0</td>\n",
       "      <td>machine+learning</td>\n",
       "      <td>191.0</td>\n",
       "      <td>0.277487</td>\n",
       "      <td>309.0</td>\n",
       "      <td>1</td>\n",
       "    </tr>\n",
       "    <tr>\n",
       "      <th>523</th>\n",
       "      <td>watch?v=wtolixa9XTg</td>\n",
       "      <td>How I would learn Machine Learning (if I could...</td>\n",
       "      <td>0</td>\n",
       "      <td>AssemblyAI</td>\n",
       "      <td>2022-09-03</td>\n",
       "      <td>['People &amp; Blogs']</td>\n",
       "      <td>NaN</td>\n",
       "      <td>463.0</td>\n",
       "      <td>https://www.youtube.com/watch?v=wtolixa9XTg</td>\n",
       "      <td>210</td>\n",
       "      <td>10423.0</td>\n",
       "      <td>machine+learning</td>\n",
       "      <td>229.0</td>\n",
       "      <td>0.917031</td>\n",
       "      <td>338.0</td>\n",
       "      <td>1</td>\n",
       "    </tr>\n",
       "  </tbody>\n",
       "</table>\n",
       "</div>"
      ],
      "text/plain": [
       "                      id                                             titulo  \\\n",
       "503  watch?v=3Ie39phKdpk  Manual machine - learning BMX racing bike skills!   \n",
       "523  watch?v=wtolixa9XTg  How I would learn Machine Learning (if I could...   \n",
       "\n",
       "     label            canal data_upload           categoria  \\\n",
       "503      0  Rockstar Harley  2022-10-11          ['Sports']   \n",
       "523      0       AssemblyAI  2022-09-03  ['People & Blogs']   \n",
       "\n",
       "                                                  tags  duracao_segundos  \\\n",
       "503  ['bmx racing', 'bike skills', 'dream', 'fun ki...              11.0   \n",
       "523                                                NaN             463.0   \n",
       "\n",
       "                                            link  visualizacoes  \\\n",
       "503  https://www.youtube.com/watch?v=3Ie39phKdpk             53   \n",
       "523  https://www.youtube.com/watch?v=wtolixa9XTg            210   \n",
       "\n",
       "     quantidade_likes             query  tempo_desde_pub  \\\n",
       "503          954870.0  machine+learning            191.0   \n",
       "523           10423.0  machine+learning            229.0   \n",
       "\n",
       "     visualizacoes_por_dia  probabilidade  novo  \n",
       "503               0.277487          309.0     1  \n",
       "523               0.917031          338.0     1  "
      ]
     },
     "execution_count": 4,
     "metadata": {},
     "output_type": "execute_result"
    }
   ],
   "source": [
    "df2.head(2)"
   ]
  },
  {
   "cell_type": "code",
   "execution_count": 5,
   "id": "5edc98b3",
   "metadata": {
    "ExecuteTime": {
     "end_time": "2023-04-20T00:23:18.455536Z",
     "start_time": "2023-04-20T00:23:18.438818Z"
    }
   },
   "outputs": [
    {
     "data": {
      "text/plain": [
       "(0.43295339460466015, 0.62625)"
      ]
     },
     "execution_count": 5,
     "metadata": {},
     "output_type": "execute_result"
    }
   ],
   "source": [
    "average_precision_score(df2['label'], df2['probabilidade']), roc_auc_score(df2['label'], df2['probabilidade'])"
   ]
  },
  {
   "cell_type": "code",
   "execution_count": 6,
   "id": "e1633e15",
   "metadata": {
    "ExecuteTime": {
     "end_time": "2023-04-20T00:23:18.989842Z",
     "start_time": "2023-04-20T00:23:18.980739Z"
    }
   },
   "outputs": [
    {
     "name": "stdout",
     "output_type": "stream",
     "text": [
      "(600, 15)\n"
     ]
    }
   ],
   "source": [
    "df = pd.concat([df1, df2.drop('probabilidade', axis=1)])\n",
    "df['novo'] = df['novo'].fillna(0)\n",
    "df.head(3)\n",
    "print(df.shape)"
   ]
  },
  {
   "cell_type": "markdown",
   "id": "5406749b",
   "metadata": {},
   "source": [
    "# Features"
   ]
  },
  {
   "cell_type": "code",
   "execution_count": 7,
   "id": "fb0abbce",
   "metadata": {
    "ExecuteTime": {
     "end_time": "2023-04-20T00:23:20.051054Z",
     "start_time": "2023-04-20T00:23:20.038146Z"
    }
   },
   "outputs": [
    {
     "data": {
      "text/html": [
       "<div>\n",
       "<style scoped>\n",
       "    .dataframe tbody tr th:only-of-type {\n",
       "        vertical-align: middle;\n",
       "    }\n",
       "\n",
       "    .dataframe tbody tr th {\n",
       "        vertical-align: top;\n",
       "    }\n",
       "\n",
       "    .dataframe thead th {\n",
       "        text-align: right;\n",
       "    }\n",
       "</style>\n",
       "<table border=\"1\" class=\"dataframe\">\n",
       "  <thead>\n",
       "    <tr style=\"text-align: right;\">\n",
       "      <th></th>\n",
       "      <th>visualizacoes</th>\n",
       "      <th>visualizacoes_por_dia</th>\n",
       "    </tr>\n",
       "  </thead>\n",
       "  <tbody>\n",
       "    <tr>\n",
       "      <th>0</th>\n",
       "      <td>858.0</td>\n",
       "      <td>286.000000</td>\n",
       "    </tr>\n",
       "    <tr>\n",
       "      <th>1</th>\n",
       "      <td>2.0</td>\n",
       "      <td>0.285714</td>\n",
       "    </tr>\n",
       "    <tr>\n",
       "      <th>2</th>\n",
       "      <td>1.0</td>\n",
       "      <td>0.100000</td>\n",
       "    </tr>\n",
       "    <tr>\n",
       "      <th>3</th>\n",
       "      <td>653.0</td>\n",
       "      <td>59.363636</td>\n",
       "    </tr>\n",
       "    <tr>\n",
       "      <th>4</th>\n",
       "      <td>2.0</td>\n",
       "      <td>0.066667</td>\n",
       "    </tr>\n",
       "    <tr>\n",
       "      <th>...</th>\n",
       "      <td>...</td>\n",
       "      <td>...</td>\n",
       "    </tr>\n",
       "    <tr>\n",
       "      <th>875</th>\n",
       "      <td>10.0</td>\n",
       "      <td>1.250000</td>\n",
       "    </tr>\n",
       "    <tr>\n",
       "      <th>660</th>\n",
       "      <td>232.0</td>\n",
       "      <td>0.334294</td>\n",
       "    </tr>\n",
       "    <tr>\n",
       "      <th>537</th>\n",
       "      <td>595.0</td>\n",
       "      <td>2.195572</td>\n",
       "    </tr>\n",
       "    <tr>\n",
       "      <th>1040</th>\n",
       "      <td>2.0</td>\n",
       "      <td>0.045455</td>\n",
       "    </tr>\n",
       "    <tr>\n",
       "      <th>853</th>\n",
       "      <td>24.0</td>\n",
       "      <td>8.000000</td>\n",
       "    </tr>\n",
       "  </tbody>\n",
       "</table>\n",
       "<p>600 rows × 2 columns</p>\n",
       "</div>"
      ],
      "text/plain": [
       "      visualizacoes  visualizacoes_por_dia\n",
       "0             858.0             286.000000\n",
       "1               2.0               0.285714\n",
       "2               1.0               0.100000\n",
       "3             653.0              59.363636\n",
       "4               2.0               0.066667\n",
       "...             ...                    ...\n",
       "875            10.0               1.250000\n",
       "660           232.0               0.334294\n",
       "537           595.0               2.195572\n",
       "1040            2.0               0.045455\n",
       "853            24.0               8.000000\n",
       "\n",
       "[600 rows x 2 columns]"
      ]
     },
     "execution_count": 7,
     "metadata": {},
     "output_type": "execute_result"
    }
   ],
   "source": [
    "features = df[['visualizacoes', 'visualizacoes_por_dia']]\n",
    "features = features.astype(float)\n",
    "y = df['label'].copy()\n",
    "features"
   ]
  },
  {
   "cell_type": "markdown",
   "id": "c060534c",
   "metadata": {},
   "source": [
    "# Aumenta validação"
   ]
  },
  {
   "cell_type": "code",
   "execution_count": 8,
   "id": "d2ce91b4",
   "metadata": {
    "ExecuteTime": {
     "end_time": "2023-04-20T00:23:21.038788Z",
     "start_time": "2023-04-20T00:23:21.029285Z"
    }
   },
   "outputs": [
    {
     "data": {
      "text/plain": [
       "((345, 2), (175, 2), (345,), (175,))"
      ]
     },
     "execution_count": 8,
     "metadata": {},
     "output_type": "execute_result"
    }
   ],
   "source": [
    "data_treino = (df['data_upload'] < '2023-03-01') & (df['novo'] == 0)\n",
    "data_teste = (df['data_upload'] >= '2023-03-01')\n",
    "\n",
    "X_train, X_test = features[data_treino], features[data_teste] \n",
    "y_train, y_test = y[data_treino], y[data_teste] \n",
    "X_train.shape, X_test.shape, y_train.shape, y_test.shape"
   ]
  },
  {
   "cell_type": "code",
   "execution_count": 9,
   "id": "5b2e5243",
   "metadata": {
    "ExecuteTime": {
     "end_time": "2023-04-20T00:23:22.498940Z",
     "start_time": "2023-04-20T00:23:22.467623Z"
    }
   },
   "outputs": [],
   "source": [
    "# TfidfVectorizer -> palavras que aparecerem pouco em muitos vídeos, mas aparecerem\n",
    "# muito em um vídeo, vão ter um peso maior. Palavras que aparecem muito em muitos vídeos\n",
    "# terão menos peso\n",
    "\n",
    "from sklearn.feature_extraction.text import TfidfVectorizer\n",
    "\n",
    "title_train = df[data_treino]['titulo']\n",
    "title_test = df[data_teste]['titulo']\n",
    "\n",
    "#min_df: número mínimo para que uma palavra precisa aparecer nos dados para que essa palavra vire uma coluna. Ex.: machine tem que aparecer em no mínimo dois vídeos para poder virar uma coluna de palavra\n",
    "title_vec = TfidfVectorizer(min_df=2) \n",
    "title_bow_train = title_vec.fit_transform(title_train)\n",
    "title_bow_test = title_vec.transform(title_test)"
   ]
  },
  {
   "cell_type": "code",
   "execution_count": 10,
   "id": "41593bcc",
   "metadata": {
    "ExecuteTime": {
     "end_time": "2023-04-20T00:23:23.102255Z",
     "start_time": "2023-04-20T00:23:23.094658Z"
    }
   },
   "outputs": [
    {
     "data": {
      "text/plain": [
       "(345, 277)"
      ]
     },
     "execution_count": 10,
     "metadata": {},
     "output_type": "execute_result"
    }
   ],
   "source": [
    "title_bow_train.shape #linhas e colunas, logo achou 188 palavras que repetem 2 ou mais vezes"
   ]
  },
  {
   "cell_type": "code",
   "execution_count": 11,
   "id": "1036d841",
   "metadata": {
    "ExecuteTime": {
     "end_time": "2023-04-20T00:23:23.573912Z",
     "start_time": "2023-04-20T00:23:23.569252Z"
    }
   },
   "outputs": [
    {
     "data": {
      "text/plain": [
       "<175x277 sparse matrix of type '<class 'numpy.float64'>'\n",
       "\twith 797 stored elements in Compressed Sparse Row format>"
      ]
     },
     "execution_count": 11,
     "metadata": {},
     "output_type": "execute_result"
    }
   ],
   "source": [
    "title_bow_test\n",
    "# matriz esparsa -> matriz com elementos somente diferente de 0"
   ]
  },
  {
   "cell_type": "code",
   "execution_count": 12,
   "id": "08c9f4b5",
   "metadata": {
    "ExecuteTime": {
     "end_time": "2023-04-20T00:23:24.311488Z",
     "start_time": "2023-04-20T00:23:24.306818Z"
    }
   },
   "outputs": [],
   "source": [
    "X_train_wtitle = hstack([X_train, title_bow_train])\n",
    "X_test_wtitle = hstack([X_test, title_bow_test])"
   ]
  },
  {
   "cell_type": "code",
   "execution_count": 13,
   "id": "a9f52de2",
   "metadata": {
    "ExecuteTime": {
     "end_time": "2023-04-20T00:23:24.829857Z",
     "start_time": "2023-04-20T00:23:24.825296Z"
    }
   },
   "outputs": [
    {
     "data": {
      "text/plain": [
       "((345, 279), (175, 279))"
      ]
     },
     "execution_count": 13,
     "metadata": {},
     "output_type": "execute_result"
    }
   ],
   "source": [
    "X_train_wtitle.shape, X_test_wtitle.shape"
   ]
  },
  {
   "cell_type": "code",
   "execution_count": 14,
   "id": "55dc852b",
   "metadata": {
    "ExecuteTime": {
     "end_time": "2023-04-20T00:23:26.999504Z",
     "start_time": "2023-04-20T00:23:25.297435Z"
    }
   },
   "outputs": [
    {
     "data": {
      "text/plain": [
       "RandomForestClassifier(class_weight='balanced', n_estimators=1000, n_jobs=6,\n",
       "                       random_state=0)"
      ]
     },
     "execution_count": 14,
     "metadata": {},
     "output_type": "execute_result"
    }
   ],
   "source": [
    "random_forest = RandomForestClassifier(n_estimators=1000, random_state=0, class_weight='balanced', n_jobs=6)\n",
    "random_forest.fit(X_train_wtitle, y_train)"
   ]
  },
  {
   "cell_type": "code",
   "execution_count": 15,
   "id": "b7ccba17",
   "metadata": {
    "ExecuteTime": {
     "end_time": "2023-04-20T00:23:27.945601Z",
     "start_time": "2023-04-20T00:23:27.757223Z"
    }
   },
   "outputs": [],
   "source": [
    "probabilidade = random_forest.predict_proba(X_test_wtitle)[:, 1]"
   ]
  },
  {
   "cell_type": "code",
   "execution_count": 16,
   "id": "2a5dad25",
   "metadata": {
    "ExecuteTime": {
     "end_time": "2023-04-20T00:23:28.457160Z",
     "start_time": "2023-04-20T00:23:28.449441Z"
    }
   },
   "outputs": [
    {
     "data": {
      "text/plain": [
       "0.3840157528914409"
      ]
     },
     "execution_count": 16,
     "metadata": {},
     "output_type": "execute_result"
    }
   ],
   "source": [
    "average_precision_score(y_test, probabilidade)"
   ]
  },
  {
   "cell_type": "code",
   "execution_count": 17,
   "id": "9ffa8207",
   "metadata": {
    "ExecuteTime": {
     "end_time": "2023-04-20T00:23:28.987853Z",
     "start_time": "2023-04-20T00:23:28.974457Z"
    }
   },
   "outputs": [
    {
     "data": {
      "text/plain": [
       "0.6327519379844962"
      ]
     },
     "execution_count": 17,
     "metadata": {},
     "output_type": "execute_result"
    }
   ],
   "source": [
    "roc_auc_score(y_test, probabilidade)"
   ]
  },
  {
   "cell_type": "markdown",
   "id": "0bae8879",
   "metadata": {},
   "source": [
    "|Modelo| Tipo de modelo| Precision | ROC AUC| \n",
    "|------|---------------|-----------|--------|\n",
    "|modelo 1 (Baseline)| Decision Tree|0.27195362537631207| 0.4626000842815002|\n",
    "|modelo 2 | Random Forest| 0.4190096457477138| 0.6517067003792667| \n",
    "|modelo 3 (aumento teste)| Random Forest| 0.3840157528914409| 0.6327519379844962|"
   ]
  },
  {
   "cell_type": "markdown",
   "id": "9ee7799c",
   "metadata": {},
   "source": [
    "# Aumenta o treino"
   ]
  },
  {
   "cell_type": "code",
   "execution_count": 18,
   "id": "e60ec2b6",
   "metadata": {
    "ExecuteTime": {
     "end_time": "2023-04-20T00:23:30.560197Z",
     "start_time": "2023-04-20T00:23:30.548360Z"
    }
   },
   "outputs": [
    {
     "data": {
      "text/plain": [
       "((425, 2), (155, 2), (425,), (155,))"
      ]
     },
     "execution_count": 18,
     "metadata": {},
     "output_type": "execute_result"
    }
   ],
   "source": [
    "data_treino = (df['data_upload'] < '2023-03-01') \n",
    "data_teste = (df['data_upload'] >= '2023-03-01') & (df['novo'] == 0)\n",
    "\n",
    "X_train, X_test = features[data_treino], features[data_teste] \n",
    "y_train, y_test = y[data_treino], y[data_teste] \n",
    "X_train.shape, X_test.shape, y_train.shape, y_test.shape"
   ]
  },
  {
   "cell_type": "code",
   "execution_count": 19,
   "id": "0954b4ce",
   "metadata": {
    "ExecuteTime": {
     "end_time": "2023-04-20T00:23:31.020749Z",
     "start_time": "2023-04-20T00:23:31.003772Z"
    }
   },
   "outputs": [],
   "source": [
    "title_train = df[data_treino]['titulo']\n",
    "title_test = df[data_teste]['titulo']\n",
    "\n",
    "title_vec = TfidfVectorizer(min_df=2) \n",
    "title_bow_train = title_vec.fit_transform(title_train)\n",
    "title_bow_test = title_vec.transform(title_test)"
   ]
  },
  {
   "cell_type": "code",
   "execution_count": 20,
   "id": "3051f2a9",
   "metadata": {
    "ExecuteTime": {
     "end_time": "2023-04-20T00:23:31.463492Z",
     "start_time": "2023-04-20T00:23:31.455204Z"
    }
   },
   "outputs": [],
   "source": [
    "X_train_wtitle = hstack([X_train, title_bow_train])\n",
    "X_test_wtitle = hstack([X_test, title_bow_test])"
   ]
  },
  {
   "cell_type": "code",
   "execution_count": 21,
   "id": "c99c758f",
   "metadata": {
    "ExecuteTime": {
     "end_time": "2023-04-20T00:23:33.596459Z",
     "start_time": "2023-04-20T00:23:31.907075Z"
    }
   },
   "outputs": [
    {
     "data": {
      "text/plain": [
       "RandomForestClassifier(class_weight='balanced', n_estimators=1000, n_jobs=6,\n",
       "                       random_state=0)"
      ]
     },
     "execution_count": 21,
     "metadata": {},
     "output_type": "execute_result"
    }
   ],
   "source": [
    "random_forest = RandomForestClassifier(n_estimators=1000, random_state=0, class_weight='balanced', n_jobs=6)\n",
    "random_forest.fit(X_train_wtitle, y_train)"
   ]
  },
  {
   "cell_type": "code",
   "execution_count": 22,
   "id": "b3ea9454",
   "metadata": {
    "ExecuteTime": {
     "end_time": "2023-04-20T00:23:35.753970Z",
     "start_time": "2023-04-20T00:23:35.575586Z"
    }
   },
   "outputs": [],
   "source": [
    "probabilidade = random_forest.predict_proba(X_test_wtitle)[:, 1]"
   ]
  },
  {
   "cell_type": "code",
   "execution_count": 23,
   "id": "e218d272",
   "metadata": {
    "ExecuteTime": {
     "end_time": "2023-04-20T00:23:35.969924Z",
     "start_time": "2023-04-20T00:23:35.962643Z"
    }
   },
   "outputs": [
    {
     "data": {
      "text/plain": [
       "0.46846074116867686"
      ]
     },
     "execution_count": 23,
     "metadata": {},
     "output_type": "execute_result"
    }
   ],
   "source": [
    "average_precision_score(y_test, probabilidade)"
   ]
  },
  {
   "cell_type": "code",
   "execution_count": 24,
   "id": "873ccd12",
   "metadata": {
    "ExecuteTime": {
     "end_time": "2023-04-20T00:23:36.619236Z",
     "start_time": "2023-04-20T00:23:36.611090Z"
    }
   },
   "outputs": [
    {
     "data": {
      "text/plain": [
       "0.6336915297092287"
      ]
     },
     "execution_count": 24,
     "metadata": {},
     "output_type": "execute_result"
    }
   ],
   "source": [
    "roc_auc_score(y_test, probabilidade)"
   ]
  },
  {
   "cell_type": "markdown",
   "id": "6913be37",
   "metadata": {},
   "source": [
    "|Modelo| Tipo de modelo| Precision | ROC AUC| \n",
    "|------|---------------|-----------|--------|\n",
    "|modelo 1 (Baseline)| Decision Tree|0.27195362537631207| 0.4626000842815002|\n",
    "|modelo 2 | Random Forest| 0.4190096457477138| 0.6517067003792667| \n",
    "|modelo 3 (aumento teste)| Random Forest| 0.3840157528914409| 0.6327519379844962|\n",
    "|modelo 3 (aumento treino)| Random Forest| 0.46846074116867686| 0.6336915297092287|"
   ]
  },
  {
   "cell_type": "code",
   "execution_count": null,
   "id": "059c1751",
   "metadata": {},
   "outputs": [],
   "source": []
  }
 ],
 "metadata": {
  "kernelspec": {
   "display_name": "Python 3 (ipykernel)",
   "language": "python",
   "name": "python3"
  },
  "language_info": {
   "codemirror_mode": {
    "name": "ipython",
    "version": 3
   },
   "file_extension": ".py",
   "mimetype": "text/x-python",
   "name": "python",
   "nbconvert_exporter": "python",
   "pygments_lexer": "ipython3",
   "version": "3.9.13"
  },
  "latex_envs": {
   "LaTeX_envs_menu_present": true,
   "autoclose": false,
   "autocomplete": true,
   "bibliofile": "biblio.bib",
   "cite_by": "apalike",
   "current_citInitial": 1,
   "eqLabelWithNumbers": true,
   "eqNumInitial": 1,
   "hotkeys": {
    "equation": "Ctrl-E",
    "itemize": "Ctrl-I"
   },
   "labels_anchors": false,
   "latex_user_defs": false,
   "report_style_numbering": false,
   "user_envs_cfg": false
  },
  "nbTranslate": {
   "displayLangs": [
    "*"
   ],
   "hotkey": "alt-t",
   "langInMainMenu": true,
   "sourceLang": "en",
   "targetLang": "fr",
   "useGoogleTranslate": true
  },
  "toc": {
   "base_numbering": 1,
   "nav_menu": {},
   "number_sections": true,
   "sideBar": true,
   "skip_h1_title": false,
   "title_cell": "Table of Contents",
   "title_sidebar": "Contents",
   "toc_cell": false,
   "toc_position": {},
   "toc_section_display": true,
   "toc_window_display": false
  },
  "varInspector": {
   "cols": {
    "lenName": 16,
    "lenType": 16,
    "lenVar": 40
   },
   "kernels_config": {
    "python": {
     "delete_cmd_postfix": "",
     "delete_cmd_prefix": "del ",
     "library": "var_list.py",
     "varRefreshCmd": "print(var_dic_list())"
    },
    "r": {
     "delete_cmd_postfix": ") ",
     "delete_cmd_prefix": "rm(",
     "library": "var_list.r",
     "varRefreshCmd": "cat(var_dic_list()) "
    }
   },
   "types_to_exclude": [
    "module",
    "function",
    "builtin_function_or_method",
    "instance",
    "_Feature"
   ],
   "window_display": false
  }
 },
 "nbformat": 4,
 "nbformat_minor": 5
}
