{
 "cells": [
  {
   "cell_type": "code",
   "execution_count": 1,
   "id": "3fb4b3dc",
   "metadata": {
    "ExecuteTime": {
     "end_time": "2023-04-20T00:00:36.304978Z",
     "start_time": "2023-04-20T00:00:35.016300Z"
    }
   },
   "outputs": [],
   "source": [
    "import pandas as pd\n",
    "import numpy as np\n",
    "import datetime\n",
    "import matplotlib.pyplot as plt\n",
    "\n",
    "from sklearn.tree import DecisionTreeClassifier\n",
    "from sklearn.ensemble import RandomForestClassifier\n",
    "from sklearn.metrics import roc_auc_score, average_precision_score"
   ]
  },
  {
   "cell_type": "code",
   "execution_count": 2,
   "id": "7cb7417a",
   "metadata": {
    "ExecuteTime": {
     "end_time": "2023-04-20T00:00:38.561268Z",
     "start_time": "2023-04-20T00:00:38.508410Z"
    }
   },
   "outputs": [
    {
     "name": "stdout",
     "output_type": "stream",
     "text": [
      "(500, 14) (500,)\n"
     ]
    }
   ],
   "source": [
    "df = pd.read_csv('dados/silver/dados_tratados_com_features_novas_com_labels.csv', index_col=0)\n",
    "df = df[df['label'].notnull()]\n",
    "df = df.reset_index().drop('index', axis=1)\n",
    "y = df['label'].astype('int')\n",
    "print(df.shape, y.shape)"
   ]
  },
  {
   "cell_type": "markdown",
   "id": "702e63eb",
   "metadata": {},
   "source": [
    "# Features"
   ]
  },
  {
   "cell_type": "code",
   "execution_count": 3,
   "id": "e14fd2f7",
   "metadata": {
    "ExecuteTime": {
     "end_time": "2023-04-20T00:00:39.509705Z",
     "start_time": "2023-04-20T00:00:39.501773Z"
    }
   },
   "outputs": [],
   "source": [
    "features = df[['visualizacoes', 'visualizacoes_por_dia']]\n",
    "features = features.astype(float)"
   ]
  },
  {
   "cell_type": "code",
   "execution_count": 4,
   "id": "b2795995",
   "metadata": {
    "ExecuteTime": {
     "end_time": "2023-04-20T00:00:40.039080Z",
     "start_time": "2023-04-20T00:00:40.021195Z"
    }
   },
   "outputs": [
    {
     "data": {
      "text/html": [
       "<div>\n",
       "<style scoped>\n",
       "    .dataframe tbody tr th:only-of-type {\n",
       "        vertical-align: middle;\n",
       "    }\n",
       "\n",
       "    .dataframe tbody tr th {\n",
       "        vertical-align: top;\n",
       "    }\n",
       "\n",
       "    .dataframe thead th {\n",
       "        text-align: right;\n",
       "    }\n",
       "</style>\n",
       "<table border=\"1\" class=\"dataframe\">\n",
       "  <thead>\n",
       "    <tr style=\"text-align: right;\">\n",
       "      <th></th>\n",
       "      <th>visualizacoes</th>\n",
       "      <th>visualizacoes_por_dia</th>\n",
       "    </tr>\n",
       "  </thead>\n",
       "  <tbody>\n",
       "    <tr>\n",
       "      <th>0</th>\n",
       "      <td>858.0</td>\n",
       "      <td>286.000000</td>\n",
       "    </tr>\n",
       "    <tr>\n",
       "      <th>1</th>\n",
       "      <td>2.0</td>\n",
       "      <td>0.285714</td>\n",
       "    </tr>\n",
       "    <tr>\n",
       "      <th>2</th>\n",
       "      <td>1.0</td>\n",
       "      <td>0.100000</td>\n",
       "    </tr>\n",
       "    <tr>\n",
       "      <th>3</th>\n",
       "      <td>653.0</td>\n",
       "      <td>59.363636</td>\n",
       "    </tr>\n",
       "    <tr>\n",
       "      <th>4</th>\n",
       "      <td>2.0</td>\n",
       "      <td>0.066667</td>\n",
       "    </tr>\n",
       "    <tr>\n",
       "      <th>...</th>\n",
       "      <td>...</td>\n",
       "      <td>...</td>\n",
       "    </tr>\n",
       "    <tr>\n",
       "      <th>495</th>\n",
       "      <td>37.0</td>\n",
       "      <td>0.248322</td>\n",
       "    </tr>\n",
       "    <tr>\n",
       "      <th>496</th>\n",
       "      <td>260.0</td>\n",
       "      <td>1.721854</td>\n",
       "    </tr>\n",
       "    <tr>\n",
       "      <th>497</th>\n",
       "      <td>114.0</td>\n",
       "      <td>0.740260</td>\n",
       "    </tr>\n",
       "    <tr>\n",
       "      <th>498</th>\n",
       "      <td>241.0</td>\n",
       "      <td>1.554839</td>\n",
       "    </tr>\n",
       "    <tr>\n",
       "      <th>499</th>\n",
       "      <td>716.0</td>\n",
       "      <td>4.619355</td>\n",
       "    </tr>\n",
       "  </tbody>\n",
       "</table>\n",
       "<p>500 rows × 2 columns</p>\n",
       "</div>"
      ],
      "text/plain": [
       "     visualizacoes  visualizacoes_por_dia\n",
       "0            858.0             286.000000\n",
       "1              2.0               0.285714\n",
       "2              1.0               0.100000\n",
       "3            653.0              59.363636\n",
       "4              2.0               0.066667\n",
       "..             ...                    ...\n",
       "495           37.0               0.248322\n",
       "496          260.0               1.721854\n",
       "497          114.0               0.740260\n",
       "498          241.0               1.554839\n",
       "499          716.0               4.619355\n",
       "\n",
       "[500 rows x 2 columns]"
      ]
     },
     "execution_count": 4,
     "metadata": {},
     "output_type": "execute_result"
    }
   ],
   "source": [
    "features"
   ]
  },
  {
   "cell_type": "code",
   "execution_count": 5,
   "id": "a67f0317",
   "metadata": {
    "ExecuteTime": {
     "end_time": "2023-04-20T00:00:40.480452Z",
     "start_time": "2023-04-20T00:00:40.471408Z"
    }
   },
   "outputs": [],
   "source": [
    "data_treino = df['data_upload'] < '2023-03-01'\n",
    "data_teste = df['data_upload'] >= '2023-03-01'\n",
    "\n",
    "X_train, X_test = features[data_treino], features[data_teste] \n",
    "y_train, y_test = y[data_treino], y[data_teste] "
   ]
  },
  {
   "cell_type": "code",
   "execution_count": 6,
   "id": "f79f6aca",
   "metadata": {
    "ExecuteTime": {
     "end_time": "2023-04-20T00:00:41.338479Z",
     "start_time": "2023-04-20T00:00:41.334624Z"
    }
   },
   "outputs": [
    {
     "name": "stdout",
     "output_type": "stream",
     "text": [
      "(345, 2) (345,)\n"
     ]
    }
   ],
   "source": [
    "print(X_train.shape, y_train.shape)"
   ]
  },
  {
   "cell_type": "code",
   "execution_count": 7,
   "id": "fffb66b8",
   "metadata": {
    "ExecuteTime": {
     "end_time": "2023-04-20T00:00:41.684870Z",
     "start_time": "2023-04-20T00:00:41.680969Z"
    }
   },
   "outputs": [
    {
     "name": "stdout",
     "output_type": "stream",
     "text": [
      "(155, 2) (155,)\n"
     ]
    }
   ],
   "source": [
    "print(X_test.shape, y_test.shape)"
   ]
  },
  {
   "cell_type": "code",
   "execution_count": 8,
   "id": "5b2e5243",
   "metadata": {
    "ExecuteTime": {
     "end_time": "2023-04-20T00:00:42.135117Z",
     "start_time": "2023-04-20T00:00:42.114093Z"
    }
   },
   "outputs": [],
   "source": [
    "# TfidfVectorizer -> palavras que aparecerem pouco em muitos vídeos, mas aparecerem\n",
    "# muito em um vídeo, vão ter um peso maior. Palavras que aparecem muito em muitos vídeos\n",
    "# terão menos peso\n",
    "\n",
    "from sklearn.feature_extraction.text import TfidfVectorizer\n",
    "\n",
    "title_train = df[data_treino]['titulo']\n",
    "title_test = df[data_teste]['titulo']\n",
    "\n",
    "#min_df: número mínimo para que uma palavra precisa aparecer nos dados para que essa palavra vire uma coluna. Ex.: machine tem que aparecer em no mínimo dois vídeos para poder virar uma coluna de palavra\n",
    "title_vec = TfidfVectorizer(min_df=2) \n",
    "title_bow_train = title_vec.fit_transform(title_train)\n",
    "title_bow_test = title_vec.transform(title_test)"
   ]
  },
  {
   "cell_type": "code",
   "execution_count": 9,
   "id": "41593bcc",
   "metadata": {
    "ExecuteTime": {
     "end_time": "2023-04-20T00:00:42.607115Z",
     "start_time": "2023-04-20T00:00:42.600011Z"
    }
   },
   "outputs": [
    {
     "data": {
      "text/plain": [
       "(345, 277)"
      ]
     },
     "execution_count": 9,
     "metadata": {},
     "output_type": "execute_result"
    }
   ],
   "source": [
    "title_bow_train.shape #linhas e colunas, logo achou 188 palavras que repetem 2 ou mais vezes"
   ]
  },
  {
   "cell_type": "code",
   "execution_count": 10,
   "id": "1036d841",
   "metadata": {
    "ExecuteTime": {
     "end_time": "2023-04-20T00:00:42.986601Z",
     "start_time": "2023-04-20T00:00:42.979499Z"
    }
   },
   "outputs": [
    {
     "data": {
      "text/plain": [
       "<155x277 sparse matrix of type '<class 'numpy.float64'>'\n",
       "\twith 714 stored elements in Compressed Sparse Row format>"
      ]
     },
     "execution_count": 10,
     "metadata": {},
     "output_type": "execute_result"
    }
   ],
   "source": [
    "title_bow_test\n",
    "# matriz esparsa -> matriz com elementos somente diferente de 0"
   ]
  },
  {
   "cell_type": "code",
   "execution_count": 11,
   "id": "d79220af",
   "metadata": {
    "ExecuteTime": {
     "end_time": "2023-04-20T00:00:43.307808Z",
     "start_time": "2023-04-20T00:00:43.302674Z"
    }
   },
   "outputs": [
    {
     "data": {
      "text/plain": [
       "0.9617822792188866"
      ]
     },
     "execution_count": 11,
     "metadata": {},
     "output_type": "execute_result"
    }
   ],
   "source": [
    "1 - 1049/(146*188) # mais de 96% da matriz é composta de elementos 0"
   ]
  },
  {
   "cell_type": "markdown",
   "id": "4d6084c4",
   "metadata": {},
   "source": [
    "* hstack:\n",
    "    * $$[1, 2], [3, 4] -> [1, 2, 3, 4]$$\n",
    "* vstack:\n",
    "    * $$[1, 2], [3, 4] -> \\begin{bmatrix} 1 & 2 \\\\ 3 & 4\\end{bmatrix}$$"
   ]
  },
  {
   "cell_type": "code",
   "execution_count": 12,
   "id": "08c9f4b5",
   "metadata": {
    "ExecuteTime": {
     "end_time": "2023-04-20T00:00:44.003409Z",
     "start_time": "2023-04-20T00:00:43.996479Z"
    }
   },
   "outputs": [],
   "source": [
    "from scipy.sparse import hstack, vstack\n",
    "\n",
    "X_train_wtitle = hstack([X_train, title_bow_train])\n",
    "X_test_wtitle = hstack([X_test, title_bow_test])"
   ]
  },
  {
   "cell_type": "code",
   "execution_count": 13,
   "id": "a9f52de2",
   "metadata": {
    "ExecuteTime": {
     "end_time": "2023-04-20T00:00:44.393801Z",
     "start_time": "2023-04-20T00:00:44.385656Z"
    }
   },
   "outputs": [
    {
     "data": {
      "text/plain": [
       "((345, 279), (155, 279))"
      ]
     },
     "execution_count": 13,
     "metadata": {},
     "output_type": "execute_result"
    }
   ],
   "source": [
    "X_train_wtitle.shape, X_test_wtitle.shape"
   ]
  },
  {
   "cell_type": "code",
   "execution_count": 14,
   "id": "55dc852b",
   "metadata": {
    "ExecuteTime": {
     "end_time": "2023-04-20T00:00:46.510451Z",
     "start_time": "2023-04-20T00:00:44.729930Z"
    }
   },
   "outputs": [
    {
     "data": {
      "text/plain": [
       "RandomForestClassifier(class_weight='balanced', n_estimators=1000, n_jobs=6,\n",
       "                       random_state=0)"
      ]
     },
     "execution_count": 14,
     "metadata": {},
     "output_type": "execute_result"
    }
   ],
   "source": [
    "random_forest = RandomForestClassifier(n_estimators=1000, random_state=0, class_weight='balanced', n_jobs=6)\n",
    "random_forest.fit(X_train_wtitle, y_train)"
   ]
  },
  {
   "cell_type": "code",
   "execution_count": 15,
   "id": "a23e6d0d",
   "metadata": {
    "ExecuteTime": {
     "end_time": "2023-04-20T00:00:49.182980Z",
     "start_time": "2023-04-20T00:00:49.169754Z"
    }
   },
   "outputs": [
    {
     "data": {
      "text/plain": [
       "DecisionTreeClassifier(class_weight='balanced', max_depth=2, random_state=0)"
      ]
     },
     "execution_count": 15,
     "metadata": {},
     "output_type": "execute_result"
    }
   ],
   "source": [
    "decision_tree = DecisionTreeClassifier(random_state=0, max_depth=2, class_weight=\"balanced\")\n",
    "decision_tree.fit(X_train_wtitle, y_train)"
   ]
  },
  {
   "cell_type": "code",
   "execution_count": 16,
   "id": "b7ccba17",
   "metadata": {
    "ExecuteTime": {
     "end_time": "2023-04-20T00:00:50.012934Z",
     "start_time": "2023-04-20T00:00:49.809473Z"
    }
   },
   "outputs": [],
   "source": [
    "probabilidade1 = random_forest.predict_proba(X_test_wtitle)[:, 1]\n",
    "probabilidade2 = decision_tree.predict_proba(X_test_wtitle)[:, 1]\n"
   ]
  },
  {
   "cell_type": "code",
   "execution_count": 17,
   "id": "2a5dad25",
   "metadata": {
    "ExecuteTime": {
     "end_time": "2023-04-20T00:00:50.575732Z",
     "start_time": "2023-04-20T00:00:50.568392Z"
    }
   },
   "outputs": [
    {
     "name": "stdout",
     "output_type": "stream",
     "text": [
      "Average precision Random Forest:0.4190096457477138\n",
      "Average precision Decision Tree:0.28247788548122255\n"
     ]
    }
   ],
   "source": [
    "print(f'Average precision Random Forest:{average_precision_score(y_test, probabilidade1)}')\n",
    "print(f'Average precision Decision Tree:{average_precision_score(y_test, probabilidade2)}') "
   ]
  },
  {
   "cell_type": "code",
   "execution_count": 18,
   "id": "9ffa8207",
   "metadata": {
    "ExecuteTime": {
     "end_time": "2023-04-20T00:00:51.162533Z",
     "start_time": "2023-04-20T00:00:51.154072Z"
    }
   },
   "outputs": [
    {
     "name": "stdout",
     "output_type": "stream",
     "text": [
      "ROC AUC Random Forest:0.6517067003792667\n",
      "ROC AUC Decision Tree:0.5279182469447956\n"
     ]
    }
   ],
   "source": [
    "print(f'ROC AUC Random Forest:{roc_auc_score(y_test, probabilidade1)}')\n",
    "print(f'ROC AUC Decision Tree:{roc_auc_score(y_test, probabilidade2)}')"
   ]
  },
  {
   "cell_type": "markdown",
   "id": "359cc7d6",
   "metadata": {},
   "source": [
    "|Modelo| Tipo de modelo| Precision | ROC AUC| \n",
    "|------|---------------|-----------|--------|\n",
    "|modelo 1 (Baseline)| Decision Tree|0.27195362537631207| 0.4626000842815002|\n",
    "|modelo 2 | Random Forest| 0.4190096457477138| 0.6517067003792667| "
   ]
  },
  {
   "cell_type": "markdown",
   "id": "7ae6e596",
   "metadata": {},
   "source": [
    "# Active Learning"
   ]
  },
  {
   "cell_type": "markdown",
   "id": "6981e31d",
   "metadata": {
    "ExecuteTime": {
     "end_time": "2023-04-14T12:52:42.448294Z",
     "start_time": "2023-04-14T12:52:42.444701Z"
    }
   },
   "source": [
    "70 exemplos que o modelo tenha dificuldade\n",
    "\n",
    "30 exemplos aleatoriamente"
   ]
  },
  {
   "cell_type": "code",
   "execution_count": 19,
   "id": "9dcc50dc",
   "metadata": {
    "ExecuteTime": {
     "end_time": "2023-04-20T00:00:54.724291Z",
     "start_time": "2023-04-20T00:00:54.675226Z"
    }
   },
   "outputs": [
    {
     "data": {
      "text/plain": [
       "(817, 14)"
      ]
     },
     "execution_count": 19,
     "metadata": {},
     "output_type": "execute_result"
    }
   ],
   "source": [
    "df_unlabeled = pd.read_csv('dados/silver/dados_tratados_com_features_novas_com_labels.csv', index_col=0)\n",
    "df_unlabeled = df_unlabeled[df_unlabeled['label'].isnull()].dropna(how='all')\n",
    "df_unlabeled.shape"
   ]
  },
  {
   "cell_type": "code",
   "execution_count": 20,
   "id": "8ad24ae8",
   "metadata": {
    "ExecuteTime": {
     "end_time": "2023-04-20T00:00:55.227851Z",
     "start_time": "2023-04-20T00:00:55.222191Z"
    }
   },
   "outputs": [],
   "source": [
    "features_u = df_unlabeled[['visualizacoes', 'visualizacoes_por_dia']]\n",
    "features_u = features_u.astype(float)"
   ]
  },
  {
   "cell_type": "code",
   "execution_count": 21,
   "id": "1facb5c1",
   "metadata": {
    "ExecuteTime": {
     "end_time": "2023-04-20T00:01:04.061672Z",
     "start_time": "2023-04-20T00:01:04.029239Z"
    }
   },
   "outputs": [],
   "source": [
    "# TfidfVectorizer -> palavras que aparecerem pouco em muitos vídeos, mas aparecerem\n",
    "# muito em um vídeo, vão ter um peso maior. Palavras que aparecem muito em muitos vídeos\n",
    "# terão menos peso\n",
    "\n",
    "from sklearn.feature_extraction.text import TfidfVectorizer\n",
    "\n",
    "title_u = df_unlabeled['titulo']\n",
    "\n",
    "#min_df: número mínimo para que uma palavra precisa aparecer nos dados para que essa palavra vire uma coluna. Ex.: machine tem que aparecer em no mínimo dois vídeos para poder virar uma coluna de palavra\n",
    "#title_vec = TfidfVectorizer(min_df=2) \n",
    "title_bow_u = title_vec.transform(title_u)\n",
    "# não criamos outro tfidVectorize pq já temos um treinado e queremos as previsões dele"
   ]
  },
  {
   "cell_type": "code",
   "execution_count": 22,
   "id": "d98baee2",
   "metadata": {
    "ExecuteTime": {
     "end_time": "2023-04-20T00:01:04.645956Z",
     "start_time": "2023-04-20T00:01:04.635887Z"
    }
   },
   "outputs": [
    {
     "data": {
      "text/plain": [
       "<817x277 sparse matrix of type '<class 'numpy.float64'>'\n",
       "\twith 3679 stored elements in Compressed Sparse Row format>"
      ]
     },
     "execution_count": 22,
     "metadata": {},
     "output_type": "execute_result"
    }
   ],
   "source": [
    "title_bow_u"
   ]
  },
  {
   "cell_type": "code",
   "execution_count": 23,
   "id": "88f314a8",
   "metadata": {
    "ExecuteTime": {
     "end_time": "2023-04-20T00:01:05.110489Z",
     "start_time": "2023-04-20T00:01:05.105064Z"
    }
   },
   "outputs": [],
   "source": [
    "Xu_wtitle = hstack([features_u, title_bow_u])"
   ]
  },
  {
   "cell_type": "code",
   "execution_count": 24,
   "id": "984c70cd",
   "metadata": {
    "ExecuteTime": {
     "end_time": "2023-04-20T00:01:05.526344Z",
     "start_time": "2023-04-20T00:01:05.520316Z"
    }
   },
   "outputs": [
    {
     "data": {
      "text/plain": [
       "<817x279 sparse matrix of type '<class 'numpy.float64'>'\n",
       "\twith 5313 stored elements in COOrdinate format>"
      ]
     },
     "execution_count": 24,
     "metadata": {},
     "output_type": "execute_result"
    }
   ],
   "source": [
    "Xu_wtitle"
   ]
  },
  {
   "cell_type": "code",
   "execution_count": 25,
   "id": "fe8dc3a5",
   "metadata": {
    "ExecuteTime": {
     "end_time": "2023-04-20T00:01:06.167894Z",
     "start_time": "2023-04-20T00:01:05.948628Z"
    }
   },
   "outputs": [],
   "source": [
    "probabilidade_u = random_forest.predict_proba(Xu_wtitle)[:, 1]"
   ]
  },
  {
   "cell_type": "code",
   "execution_count": 26,
   "id": "76ae28b6",
   "metadata": {
    "ExecuteTime": {
     "end_time": "2023-04-20T00:01:06.497133Z",
     "start_time": "2023-04-20T00:01:06.493117Z"
    }
   },
   "outputs": [],
   "source": [
    "df_unlabeled['probabilidade'] = probabilidade_u"
   ]
  },
  {
   "cell_type": "code",
   "execution_count": 27,
   "id": "79f3d09e",
   "metadata": {
    "ExecuteTime": {
     "end_time": "2023-04-20T00:01:07.070131Z",
     "start_time": "2023-04-20T00:01:07.033459Z"
    }
   },
   "outputs": [
    {
     "data": {
      "text/html": [
       "<div>\n",
       "<style scoped>\n",
       "    .dataframe tbody tr th:only-of-type {\n",
       "        vertical-align: middle;\n",
       "    }\n",
       "\n",
       "    .dataframe tbody tr th {\n",
       "        vertical-align: top;\n",
       "    }\n",
       "\n",
       "    .dataframe thead th {\n",
       "        text-align: right;\n",
       "    }\n",
       "</style>\n",
       "<table border=\"1\" class=\"dataframe\">\n",
       "  <thead>\n",
       "    <tr style=\"text-align: right;\">\n",
       "      <th></th>\n",
       "      <th>id</th>\n",
       "      <th>titulo</th>\n",
       "      <th>label</th>\n",
       "      <th>canal</th>\n",
       "      <th>data_upload</th>\n",
       "      <th>categoria</th>\n",
       "      <th>tags</th>\n",
       "      <th>duracao_segundos</th>\n",
       "      <th>link</th>\n",
       "      <th>visualizacoes</th>\n",
       "      <th>quantidade_likes</th>\n",
       "      <th>query</th>\n",
       "      <th>tempo_desde_pub</th>\n",
       "      <th>visualizacoes_por_dia</th>\n",
       "      <th>probabilidade</th>\n",
       "    </tr>\n",
       "  </thead>\n",
       "  <tbody>\n",
       "    <tr>\n",
       "      <th>500</th>\n",
       "      <td>watch?v=PVEXKbfxTuI</td>\n",
       "      <td>The Future of Machine Learning</td>\n",
       "      <td>NaN</td>\n",
       "      <td>the data janitor</td>\n",
       "      <td>2022-11-14</td>\n",
       "      <td>['People &amp; Blogs']</td>\n",
       "      <td>NaN</td>\n",
       "      <td>103.0</td>\n",
       "      <td>https://www.youtube.com/watch?v=PVEXKbfxTuI</td>\n",
       "      <td>1</td>\n",
       "      <td>101.0</td>\n",
       "      <td>machine+learning</td>\n",
       "      <td>157.0</td>\n",
       "      <td>0.006369</td>\n",
       "      <td>0.063</td>\n",
       "    </tr>\n",
       "    <tr>\n",
       "      <th>501</th>\n",
       "      <td>watch?v=NqHKr9CGWJ0</td>\n",
       "      <td>Quantum Machine Learning Explained</td>\n",
       "      <td>NaN</td>\n",
       "      <td>IBM Technology</td>\n",
       "      <td>2022-10-19</td>\n",
       "      <td>['Education']</td>\n",
       "      <td>['IBM', 'Quantum', 'Quantum Computing', 'Quant...</td>\n",
       "      <td>358.0</td>\n",
       "      <td>https://www.youtube.com/watch?v=NqHKr9CGWJ0</td>\n",
       "      <td>16</td>\n",
       "      <td>592.0</td>\n",
       "      <td>machine+learning</td>\n",
       "      <td>183.0</td>\n",
       "      <td>0.087432</td>\n",
       "      <td>0.204</td>\n",
       "    </tr>\n",
       "    <tr>\n",
       "      <th>502</th>\n",
       "      <td>watch?v=-TjLX93w64A</td>\n",
       "      <td>How I Became A Self-Taught Machine Learning En...</td>\n",
       "      <td>NaN</td>\n",
       "      <td>Smitha Kolan - Machine Learning Engineer</td>\n",
       "      <td>2022-10-14</td>\n",
       "      <td>['Science &amp; Technology']</td>\n",
       "      <td>['how to learn machine learning', 'machine lea...</td>\n",
       "      <td>403.0</td>\n",
       "      <td>https://www.youtube.com/watch?v=-TjLX93w64A</td>\n",
       "      <td>17</td>\n",
       "      <td>837.0</td>\n",
       "      <td>machine+learning</td>\n",
       "      <td>188.0</td>\n",
       "      <td>0.090426</td>\n",
       "      <td>0.187</td>\n",
       "    </tr>\n",
       "    <tr>\n",
       "      <th>503</th>\n",
       "      <td>watch?v=3Ie39phKdpk</td>\n",
       "      <td>Manual machine - learning BMX racing bike skills!</td>\n",
       "      <td>NaN</td>\n",
       "      <td>Rockstar Harley</td>\n",
       "      <td>2022-10-11</td>\n",
       "      <td>['Sports']</td>\n",
       "      <td>['bmx racing', 'bike skills', 'dream', 'fun ki...</td>\n",
       "      <td>11.0</td>\n",
       "      <td>https://www.youtube.com/watch?v=3Ie39phKdpk</td>\n",
       "      <td>53</td>\n",
       "      <td>954870.0</td>\n",
       "      <td>machine+learning</td>\n",
       "      <td>191.0</td>\n",
       "      <td>0.277487</td>\n",
       "      <td>0.309</td>\n",
       "    </tr>\n",
       "    <tr>\n",
       "      <th>504</th>\n",
       "      <td>watch?v=V_xro1bcAuA</td>\n",
       "      <td>PyTorch for Deep Learning &amp; Machine Learning –...</td>\n",
       "      <td>NaN</td>\n",
       "      <td>freeCodeCamp.org</td>\n",
       "      <td>2022-10-06</td>\n",
       "      <td>['Education']</td>\n",
       "      <td>NaN</td>\n",
       "      <td>92246.0</td>\n",
       "      <td>https://www.youtube.com/watch?v=V_xro1bcAuA</td>\n",
       "      <td>505</td>\n",
       "      <td>16524.0</td>\n",
       "      <td>machine+learning</td>\n",
       "      <td>196.0</td>\n",
       "      <td>2.576531</td>\n",
       "      <td>0.138</td>\n",
       "    </tr>\n",
       "    <tr>\n",
       "      <th>505</th>\n",
       "      <td>watch?v=wIHW1rpKhoc</td>\n",
       "      <td>Curso de Introducción al Machine Learning 💻 (C...</td>\n",
       "      <td>NaN</td>\n",
       "      <td>AfiEscuela</td>\n",
       "      <td>2022-10-04</td>\n",
       "      <td>['Education']</td>\n",
       "      <td>['banca', 'finanzas', 'economía', 'educación']</td>\n",
       "      <td>8613.0</td>\n",
       "      <td>https://www.youtube.com/watch?v=wIHW1rpKhoc</td>\n",
       "      <td>2</td>\n",
       "      <td>65.0</td>\n",
       "      <td>machine+learning</td>\n",
       "      <td>198.0</td>\n",
       "      <td>0.010101</td>\n",
       "      <td>0.031</td>\n",
       "    </tr>\n",
       "    <tr>\n",
       "      <th>506</th>\n",
       "      <td>watch?v=B8LT-2JhrRE</td>\n",
       "      <td>Difference between Machine Learning and Deep L...</td>\n",
       "      <td>NaN</td>\n",
       "      <td>Karthik's Show</td>\n",
       "      <td>2022-10-02</td>\n",
       "      <td>['Education']</td>\n",
       "      <td>['machine learning', 'deep learning', 'artific...</td>\n",
       "      <td>519.0</td>\n",
       "      <td>https://www.youtube.com/watch?v=B8LT-2JhrRE</td>\n",
       "      <td>7</td>\n",
       "      <td>421.0</td>\n",
       "      <td>machine+learning</td>\n",
       "      <td>200.0</td>\n",
       "      <td>35.000000</td>\n",
       "      <td>0.245</td>\n",
       "    </tr>\n",
       "    <tr>\n",
       "      <th>507</th>\n",
       "      <td>watch?v=o_EbGPzItik</td>\n",
       "      <td>Método de Machine Learning \"Support-Vector Mac...</td>\n",
       "      <td>NaN</td>\n",
       "      <td>FutPythonTrader</td>\n",
       "      <td>2022-09-29</td>\n",
       "      <td>['Science &amp; Technology']</td>\n",
       "      <td>['trader esportivo', 'punter', 'python tutoria...</td>\n",
       "      <td>676.0</td>\n",
       "      <td>https://www.youtube.com/watch?v=o_EbGPzItik</td>\n",
       "      <td>409</td>\n",
       "      <td>43.0</td>\n",
       "      <td>machine+learning</td>\n",
       "      <td>203.0</td>\n",
       "      <td>2.014778</td>\n",
       "      <td>0.136</td>\n",
       "    </tr>\n",
       "    <tr>\n",
       "      <th>508</th>\n",
       "      <td>watch?v=i_LwzRVP7bg</td>\n",
       "      <td>Machine Learning for Everybody – Full Course</td>\n",
       "      <td>NaN</td>\n",
       "      <td>freeCodeCamp.org</td>\n",
       "      <td>2022-09-26</td>\n",
       "      <td>['Education']</td>\n",
       "      <td>NaN</td>\n",
       "      <td>14033.0</td>\n",
       "      <td>https://www.youtube.com/watch?v=i_LwzRVP7bg</td>\n",
       "      <td>1</td>\n",
       "      <td>24012.0</td>\n",
       "      <td>machine+learning</td>\n",
       "      <td>206.0</td>\n",
       "      <td>0.004854</td>\n",
       "      <td>0.098</td>\n",
       "    </tr>\n",
       "    <tr>\n",
       "      <th>509</th>\n",
       "      <td>watch?v=KFtz_t1XNP8</td>\n",
       "      <td>Aplicaciones (más comunes) en Machine Learning</td>\n",
       "      <td>NaN</td>\n",
       "      <td>Rafa Gonzalez Gouveia</td>\n",
       "      <td>2022-09-23</td>\n",
       "      <td>['Education']</td>\n",
       "      <td>['gonzalezgouveia', 'data science español', 'r...</td>\n",
       "      <td>348.0</td>\n",
       "      <td>https://www.youtube.com/watch?v=KFtz_t1XNP8</td>\n",
       "      <td>4</td>\n",
       "      <td>320.0</td>\n",
       "      <td>machine+learning</td>\n",
       "      <td>209.0</td>\n",
       "      <td>0.019139</td>\n",
       "      <td>0.033</td>\n",
       "    </tr>\n",
       "    <tr>\n",
       "      <th>510</th>\n",
       "      <td>watch?v=n-DflQldMuc</td>\n",
       "      <td>MACHINE LEARNING explicado de forma SENCILLA</td>\n",
       "      <td>NaN</td>\n",
       "      <td>Rafa Gonzalez Gouveia</td>\n",
       "      <td>2022-09-16</td>\n",
       "      <td>['Education']</td>\n",
       "      <td>['gonzalezgouveia', 'data science español', 'r...</td>\n",
       "      <td>368.0</td>\n",
       "      <td>https://www.youtube.com/watch?v=n-DflQldMuc</td>\n",
       "      <td>5</td>\n",
       "      <td>423.0</td>\n",
       "      <td>machine+learning</td>\n",
       "      <td>216.0</td>\n",
       "      <td>0.023148</td>\n",
       "      <td>0.175</td>\n",
       "    </tr>\n",
       "    <tr>\n",
       "      <th>511</th>\n",
       "      <td>watch?v=1vkb7BCMQd0</td>\n",
       "      <td>Making Friends with Machine Learning: The Enti...</td>\n",
       "      <td>NaN</td>\n",
       "      <td>Cassie Kozyrkov</td>\n",
       "      <td>2022-09-15</td>\n",
       "      <td>['Science &amp; Technology']</td>\n",
       "      <td>['DataScience', 'Data', 'DecisionIntelligence'...</td>\n",
       "      <td>22949.0</td>\n",
       "      <td>https://www.youtube.com/watch?v=1vkb7BCMQd0</td>\n",
       "      <td>49</td>\n",
       "      <td>1426.0</td>\n",
       "      <td>machine+learning</td>\n",
       "      <td>217.0</td>\n",
       "      <td>0.225806</td>\n",
       "      <td>0.154</td>\n",
       "    </tr>\n",
       "    <tr>\n",
       "      <th>512</th>\n",
       "      <td>watch?v=BchuIViGiUg</td>\n",
       "      <td>6# DIAS - RIDGE, LASSO e ELASTICNET  - REGULAR...</td>\n",
       "      <td>NaN</td>\n",
       "      <td>Eduardo | Ciência dos Dados</td>\n",
       "      <td>2022-09-12</td>\n",
       "      <td>['Science &amp; Technology']</td>\n",
       "      <td>NaN</td>\n",
       "      <td>1412.0</td>\n",
       "      <td>https://www.youtube.com/watch?v=BchuIViGiUg</td>\n",
       "      <td>868</td>\n",
       "      <td>38.0</td>\n",
       "      <td>machine+learning</td>\n",
       "      <td>220.0</td>\n",
       "      <td>3.945455</td>\n",
       "      <td>0.047</td>\n",
       "    </tr>\n",
       "    <tr>\n",
       "      <th>513</th>\n",
       "      <td>watch?v=yTNTvv5KdLI</td>\n",
       "      <td>😧 Treinei meu computador para decidir minhas a...</td>\n",
       "      <td>NaN</td>\n",
       "      <td>Danki Code</td>\n",
       "      <td>2022-09-10</td>\n",
       "      <td>['Entertainment']</td>\n",
       "      <td>NaN</td>\n",
       "      <td>59.0</td>\n",
       "      <td>https://www.youtube.com/watch?v=yTNTvv5KdLI</td>\n",
       "      <td>9</td>\n",
       "      <td>636.0</td>\n",
       "      <td>machine+learning</td>\n",
       "      <td>222.0</td>\n",
       "      <td>0.040541</td>\n",
       "      <td>0.086</td>\n",
       "    </tr>\n",
       "    <tr>\n",
       "      <th>514</th>\n",
       "      <td>watch?v=gsZWNojKdi4</td>\n",
       "      <td>Machine Learning e Ai em 5 minutos</td>\n",
       "      <td>NaN</td>\n",
       "      <td>SQL Cerebro - Luis Renato de Souza</td>\n",
       "      <td>2022-09-10</td>\n",
       "      <td>['Science &amp; Technology']</td>\n",
       "      <td>['Azure', 'Luis Renato de Souza', 'Algoritmo d...</td>\n",
       "      <td>366.0</td>\n",
       "      <td>https://www.youtube.com/watch?v=gsZWNojKdi4</td>\n",
       "      <td>120</td>\n",
       "      <td>18.0</td>\n",
       "      <td>machine+learning</td>\n",
       "      <td>222.0</td>\n",
       "      <td>0.540541</td>\n",
       "      <td>0.191</td>\n",
       "    </tr>\n",
       "    <tr>\n",
       "      <th>515</th>\n",
       "      <td>watch?v=0aK8CmQko0s</td>\n",
       "      <td>Top Machine Learning Certifications That Will ...</td>\n",
       "      <td>NaN</td>\n",
       "      <td>Smitha Kolan - Machine Learning Engineer</td>\n",
       "      <td>2022-09-10</td>\n",
       "      <td>['Science &amp; Technology']</td>\n",
       "      <td>['how to learn machine learning', 'machine lea...</td>\n",
       "      <td>802.0</td>\n",
       "      <td>https://www.youtube.com/watch?v=0aK8CmQko0s</td>\n",
       "      <td>22</td>\n",
       "      <td>879.0</td>\n",
       "      <td>machine+learning</td>\n",
       "      <td>222.0</td>\n",
       "      <td>0.099099</td>\n",
       "      <td>0.274</td>\n",
       "    </tr>\n",
       "    <tr>\n",
       "      <th>516</th>\n",
       "      <td>watch?v=mAXkBeE9Pm0</td>\n",
       "      <td>NASA Symposium on Turbulence Modeling: Roadblo...</td>\n",
       "      <td>NaN</td>\n",
       "      <td>P. S. Volpiani</td>\n",
       "      <td>2022-09-10</td>\n",
       "      <td>['Education']</td>\n",
       "      <td>['symposium', 'Data-driven', 'turbulence', 'mo...</td>\n",
       "      <td>894.0</td>\n",
       "      <td>https://www.youtube.com/watch?v=mAXkBeE9Pm0</td>\n",
       "      <td>152</td>\n",
       "      <td>6.0</td>\n",
       "      <td>machine+learning</td>\n",
       "      <td>222.0</td>\n",
       "      <td>0.684685</td>\n",
       "      <td>0.124</td>\n",
       "    </tr>\n",
       "    <tr>\n",
       "      <th>517</th>\n",
       "      <td>watch?v=nuGAZugmF-o</td>\n",
       "      <td>Web Development &amp; Machine Learning? How to cho...</td>\n",
       "      <td>NaN</td>\n",
       "      <td>BEPEC by Kanth - #BuildExperience &amp; Get Hired!</td>\n",
       "      <td>2022-09-07</td>\n",
       "      <td>['Education']</td>\n",
       "      <td>['Web Development &amp; Machine Learning', 'web de...</td>\n",
       "      <td>61.0</td>\n",
       "      <td>https://www.youtube.com/watch?v=nuGAZugmF-o</td>\n",
       "      <td>1</td>\n",
       "      <td>32.0</td>\n",
       "      <td>machine+learning</td>\n",
       "      <td>225.0</td>\n",
       "      <td>0.004444</td>\n",
       "      <td>0.196</td>\n",
       "    </tr>\n",
       "    <tr>\n",
       "      <th>518</th>\n",
       "      <td>watch?v=ptDTAcCeTH0</td>\n",
       "      <td>Machine Learning Lineage with Microsoft Purview</td>\n",
       "      <td>NaN</td>\n",
       "      <td>MG</td>\n",
       "      <td>2022-09-06</td>\n",
       "      <td>['Science &amp; Technology']</td>\n",
       "      <td>['azure purview', 'data governance', 'azure pu...</td>\n",
       "      <td>3210.0</td>\n",
       "      <td>https://www.youtube.com/watch?v=ptDTAcCeTH0</td>\n",
       "      <td>380</td>\n",
       "      <td>6.0</td>\n",
       "      <td>machine+learning</td>\n",
       "      <td>226.0</td>\n",
       "      <td>1.681416</td>\n",
       "      <td>0.048</td>\n",
       "    </tr>\n",
       "    <tr>\n",
       "      <th>519</th>\n",
       "      <td>watch?v=jPGrWmx6Mm0</td>\n",
       "      <td>Integrate with Machine Learning APIs Challenge...</td>\n",
       "      <td>NaN</td>\n",
       "      <td>Cyrus Wong</td>\n",
       "      <td>2022-09-05</td>\n",
       "      <td>['Science &amp; Technology']</td>\n",
       "      <td>NaN</td>\n",
       "      <td>1057.0</td>\n",
       "      <td>https://www.youtube.com/watch?v=jPGrWmx6Mm0</td>\n",
       "      <td>311</td>\n",
       "      <td>2.0</td>\n",
       "      <td>machine+learning</td>\n",
       "      <td>227.0</td>\n",
       "      <td>1.370044</td>\n",
       "      <td>0.213</td>\n",
       "    </tr>\n",
       "    <tr>\n",
       "      <th>520</th>\n",
       "      <td>watch?v=LcWFedjaR4Q</td>\n",
       "      <td>Complete Machine Learning Course in 60 Hours -...</td>\n",
       "      <td>NaN</td>\n",
       "      <td>Siddhardhan</td>\n",
       "      <td>2022-09-05</td>\n",
       "      <td>['Education']</td>\n",
       "      <td>['Machine Learning Full Course', 'machine lear...</td>\n",
       "      <td>41742.0</td>\n",
       "      <td>https://www.youtube.com/watch?v=LcWFedjaR4Q</td>\n",
       "      <td>56</td>\n",
       "      <td>1195.0</td>\n",
       "      <td>machine+learning</td>\n",
       "      <td>227.0</td>\n",
       "      <td>0.246696</td>\n",
       "      <td>0.103</td>\n",
       "    </tr>\n",
       "    <tr>\n",
       "      <th>521</th>\n",
       "      <td>watch?v=vQ8_iWt2XAA</td>\n",
       "      <td>Como fazer PROJEÇÕES DE FUTEBOL no ALTERYX | O...</td>\n",
       "      <td>NaN</td>\n",
       "      <td>dr_transformaçãodigital</td>\n",
       "      <td>2022-09-14</td>\n",
       "      <td>['Science &amp; Technology']</td>\n",
       "      <td>['alteryx', 'etl', 'algoritmo over/under', 'al...</td>\n",
       "      <td>2602.0</td>\n",
       "      <td>https://www.youtube.com/watch?v=vQ8_iWt2XAA</td>\n",
       "      <td>221</td>\n",
       "      <td>18.0</td>\n",
       "      <td>machine+learning</td>\n",
       "      <td>218.0</td>\n",
       "      <td>1.013761</td>\n",
       "      <td>0.274</td>\n",
       "    </tr>\n",
       "    <tr>\n",
       "      <th>522</th>\n",
       "      <td>watch?v=0zVGBbYk3DY</td>\n",
       "      <td>Google Just Launched Machine Learning Crash Co...</td>\n",
       "      <td>NaN</td>\n",
       "      <td>Seed IT Solution</td>\n",
       "      <td>2022-09-08</td>\n",
       "      <td>['Education']</td>\n",
       "      <td>['Google Free certificate', 'Google Free Cours...</td>\n",
       "      <td>384.0</td>\n",
       "      <td>https://www.youtube.com/watch?v=0zVGBbYk3DY</td>\n",
       "      <td>6</td>\n",
       "      <td>195.0</td>\n",
       "      <td>machine+learning</td>\n",
       "      <td>224.0</td>\n",
       "      <td>0.026786</td>\n",
       "      <td>0.132</td>\n",
       "    </tr>\n",
       "    <tr>\n",
       "      <th>523</th>\n",
       "      <td>watch?v=wtolixa9XTg</td>\n",
       "      <td>How I would learn Machine Learning (if I could...</td>\n",
       "      <td>NaN</td>\n",
       "      <td>AssemblyAI</td>\n",
       "      <td>2022-09-03</td>\n",
       "      <td>['People &amp; Blogs']</td>\n",
       "      <td>NaN</td>\n",
       "      <td>463.0</td>\n",
       "      <td>https://www.youtube.com/watch?v=wtolixa9XTg</td>\n",
       "      <td>210</td>\n",
       "      <td>10423.0</td>\n",
       "      <td>machine+learning</td>\n",
       "      <td>229.0</td>\n",
       "      <td>0.917031</td>\n",
       "      <td>0.338</td>\n",
       "    </tr>\n",
       "    <tr>\n",
       "      <th>524</th>\n",
       "      <td>watch?v=AopGnnPPczY</td>\n",
       "      <td>How I use Machine Learning as a Data Analyst</td>\n",
       "      <td>NaN</td>\n",
       "      <td>Luke Barousse</td>\n",
       "      <td>2022-08-30</td>\n",
       "      <td>['Science &amp; Technology']</td>\n",
       "      <td>['data viz by luke', 'business intelligence', ...</td>\n",
       "      <td>710.0</td>\n",
       "      <td>https://www.youtube.com/watch?v=AopGnnPPczY</td>\n",
       "      <td>94</td>\n",
       "      <td>3334.0</td>\n",
       "      <td>machine+learning</td>\n",
       "      <td>233.0</td>\n",
       "      <td>0.403433</td>\n",
       "      <td>0.303</td>\n",
       "    </tr>\n",
       "    <tr>\n",
       "      <th>525</th>\n",
       "      <td>watch?v=MJ1vWb1rGwM</td>\n",
       "      <td>End To End Machine Learning Project Implementa...</td>\n",
       "      <td>NaN</td>\n",
       "      <td>Krish Naik</td>\n",
       "      <td>2022-08-29</td>\n",
       "      <td>['Education']</td>\n",
       "      <td>['yt:cc=on', 'end to end machine learning proj...</td>\n",
       "      <td>9896.0</td>\n",
       "      <td>https://www.youtube.com/watch?v=MJ1vWb1rGwM</td>\n",
       "      <td>164</td>\n",
       "      <td>4139.0</td>\n",
       "      <td>machine+learning</td>\n",
       "      <td>234.0</td>\n",
       "      <td>0.700855</td>\n",
       "      <td>0.212</td>\n",
       "    </tr>\n",
       "    <tr>\n",
       "      <th>526</th>\n",
       "      <td>watch?v=u9fhLChk3mE</td>\n",
       "      <td>The Fastest Way To Become A Machine Learning E...</td>\n",
       "      <td>NaN</td>\n",
       "      <td>Smitha Kolan - Machine Learning Engineer</td>\n",
       "      <td>2022-08-20</td>\n",
       "      <td>['Science &amp; Technology']</td>\n",
       "      <td>['how to learn machine learning', 'machine lea...</td>\n",
       "      <td>694.0</td>\n",
       "      <td>https://www.youtube.com/watch?v=u9fhLChk3mE</td>\n",
       "      <td>20</td>\n",
       "      <td>880.0</td>\n",
       "      <td>machine+learning</td>\n",
       "      <td>243.0</td>\n",
       "      <td>0.082305</td>\n",
       "      <td>0.227</td>\n",
       "    </tr>\n",
       "    <tr>\n",
       "      <th>527</th>\n",
       "      <td>watch?v=EuFsNLWDT2k</td>\n",
       "      <td>Templates MetaTrader 5 live trading using Pyth...</td>\n",
       "      <td>NaN</td>\n",
       "      <td>Quantreo</td>\n",
       "      <td>2022-08-19</td>\n",
       "      <td>['People &amp; Blogs']</td>\n",
       "      <td>['metatrader 5 live trading', 'metatrader 5 py...</td>\n",
       "      <td>298.0</td>\n",
       "      <td>https://www.youtube.com/watch?v=EuFsNLWDT2k</td>\n",
       "      <td>939</td>\n",
       "      <td>20.0</td>\n",
       "      <td>machine+learning</td>\n",
       "      <td>244.0</td>\n",
       "      <td>3.848361</td>\n",
       "      <td>0.048</td>\n",
       "    </tr>\n",
       "    <tr>\n",
       "      <th>528</th>\n",
       "      <td>watch?v=1hNxd2ldlRY</td>\n",
       "      <td>Machine Learning nima? | Data Science va Sun'i...</td>\n",
       "      <td>NaN</td>\n",
       "      <td>Mohirdev</td>\n",
       "      <td>2022-08-16</td>\n",
       "      <td>['Entertainment']</td>\n",
       "      <td>['mohirdev uz', 'dasturlash asoslari', 'veb sa...</td>\n",
       "      <td>435.0</td>\n",
       "      <td>https://www.youtube.com/watch?v=1hNxd2ldlRY</td>\n",
       "      <td>2</td>\n",
       "      <td>115.0</td>\n",
       "      <td>machine+learning</td>\n",
       "      <td>247.0</td>\n",
       "      <td>0.008097</td>\n",
       "      <td>0.139</td>\n",
       "    </tr>\n",
       "    <tr>\n",
       "      <th>529</th>\n",
       "      <td>watch?v=C82lT9cWQiA</td>\n",
       "      <td>Building a Machine Learning API in 15 Minutes ...</td>\n",
       "      <td>NaN</td>\n",
       "      <td>Nicholas Renotte</td>\n",
       "      <td>2022-08-10</td>\n",
       "      <td>['Science &amp; Technology']</td>\n",
       "      <td>['coding challenge', 'python', 'machine learni...</td>\n",
       "      <td>1204.0</td>\n",
       "      <td>https://www.youtube.com/watch?v=C82lT9cWQiA</td>\n",
       "      <td>61</td>\n",
       "      <td>2225.0</td>\n",
       "      <td>machine+learning</td>\n",
       "      <td>253.0</td>\n",
       "      <td>0.241107</td>\n",
       "      <td>0.390</td>\n",
       "    </tr>\n",
       "  </tbody>\n",
       "</table>\n",
       "</div>"
      ],
      "text/plain": [
       "                      id                                             titulo  \\\n",
       "500  watch?v=PVEXKbfxTuI                     The Future of Machine Learning   \n",
       "501  watch?v=NqHKr9CGWJ0                 Quantum Machine Learning Explained   \n",
       "502  watch?v=-TjLX93w64A  How I Became A Self-Taught Machine Learning En...   \n",
       "503  watch?v=3Ie39phKdpk  Manual machine - learning BMX racing bike skills!   \n",
       "504  watch?v=V_xro1bcAuA  PyTorch for Deep Learning & Machine Learning –...   \n",
       "505  watch?v=wIHW1rpKhoc  Curso de Introducción al Machine Learning 💻 (C...   \n",
       "506  watch?v=B8LT-2JhrRE  Difference between Machine Learning and Deep L...   \n",
       "507  watch?v=o_EbGPzItik  Método de Machine Learning \"Support-Vector Mac...   \n",
       "508  watch?v=i_LwzRVP7bg       Machine Learning for Everybody – Full Course   \n",
       "509  watch?v=KFtz_t1XNP8     Aplicaciones (más comunes) en Machine Learning   \n",
       "510  watch?v=n-DflQldMuc       MACHINE LEARNING explicado de forma SENCILLA   \n",
       "511  watch?v=1vkb7BCMQd0  Making Friends with Machine Learning: The Enti...   \n",
       "512  watch?v=BchuIViGiUg  6# DIAS - RIDGE, LASSO e ELASTICNET  - REGULAR...   \n",
       "513  watch?v=yTNTvv5KdLI  😧 Treinei meu computador para decidir minhas a...   \n",
       "514  watch?v=gsZWNojKdi4                 Machine Learning e Ai em 5 minutos   \n",
       "515  watch?v=0aK8CmQko0s  Top Machine Learning Certifications That Will ...   \n",
       "516  watch?v=mAXkBeE9Pm0  NASA Symposium on Turbulence Modeling: Roadblo...   \n",
       "517  watch?v=nuGAZugmF-o  Web Development & Machine Learning? How to cho...   \n",
       "518  watch?v=ptDTAcCeTH0    Machine Learning Lineage with Microsoft Purview   \n",
       "519  watch?v=jPGrWmx6Mm0  Integrate with Machine Learning APIs Challenge...   \n",
       "520  watch?v=LcWFedjaR4Q  Complete Machine Learning Course in 60 Hours -...   \n",
       "521  watch?v=vQ8_iWt2XAA  Como fazer PROJEÇÕES DE FUTEBOL no ALTERYX | O...   \n",
       "522  watch?v=0zVGBbYk3DY  Google Just Launched Machine Learning Crash Co...   \n",
       "523  watch?v=wtolixa9XTg  How I would learn Machine Learning (if I could...   \n",
       "524  watch?v=AopGnnPPczY       How I use Machine Learning as a Data Analyst   \n",
       "525  watch?v=MJ1vWb1rGwM  End To End Machine Learning Project Implementa...   \n",
       "526  watch?v=u9fhLChk3mE  The Fastest Way To Become A Machine Learning E...   \n",
       "527  watch?v=EuFsNLWDT2k  Templates MetaTrader 5 live trading using Pyth...   \n",
       "528  watch?v=1hNxd2ldlRY  Machine Learning nima? | Data Science va Sun'i...   \n",
       "529  watch?v=C82lT9cWQiA  Building a Machine Learning API in 15 Minutes ...   \n",
       "\n",
       "     label                                           canal data_upload  \\\n",
       "500    NaN                                the data janitor  2022-11-14   \n",
       "501    NaN                                  IBM Technology  2022-10-19   \n",
       "502    NaN        Smitha Kolan - Machine Learning Engineer  2022-10-14   \n",
       "503    NaN                                 Rockstar Harley  2022-10-11   \n",
       "504    NaN                                freeCodeCamp.org  2022-10-06   \n",
       "505    NaN                                      AfiEscuela  2022-10-04   \n",
       "506    NaN                                  Karthik's Show  2022-10-02   \n",
       "507    NaN                                 FutPythonTrader  2022-09-29   \n",
       "508    NaN                                freeCodeCamp.org  2022-09-26   \n",
       "509    NaN                           Rafa Gonzalez Gouveia  2022-09-23   \n",
       "510    NaN                           Rafa Gonzalez Gouveia  2022-09-16   \n",
       "511    NaN                                 Cassie Kozyrkov  2022-09-15   \n",
       "512    NaN                     Eduardo | Ciência dos Dados  2022-09-12   \n",
       "513    NaN                                      Danki Code  2022-09-10   \n",
       "514    NaN              SQL Cerebro - Luis Renato de Souza  2022-09-10   \n",
       "515    NaN        Smitha Kolan - Machine Learning Engineer  2022-09-10   \n",
       "516    NaN                                  P. S. Volpiani  2022-09-10   \n",
       "517    NaN  BEPEC by Kanth - #BuildExperience & Get Hired!  2022-09-07   \n",
       "518    NaN                                              MG  2022-09-06   \n",
       "519    NaN                                      Cyrus Wong  2022-09-05   \n",
       "520    NaN                                     Siddhardhan  2022-09-05   \n",
       "521    NaN                         dr_transformaçãodigital  2022-09-14   \n",
       "522    NaN                                Seed IT Solution  2022-09-08   \n",
       "523    NaN                                      AssemblyAI  2022-09-03   \n",
       "524    NaN                                   Luke Barousse  2022-08-30   \n",
       "525    NaN                                      Krish Naik  2022-08-29   \n",
       "526    NaN        Smitha Kolan - Machine Learning Engineer  2022-08-20   \n",
       "527    NaN                                        Quantreo  2022-08-19   \n",
       "528    NaN                                        Mohirdev  2022-08-16   \n",
       "529    NaN                                Nicholas Renotte  2022-08-10   \n",
       "\n",
       "                    categoria  \\\n",
       "500        ['People & Blogs']   \n",
       "501             ['Education']   \n",
       "502  ['Science & Technology']   \n",
       "503                ['Sports']   \n",
       "504             ['Education']   \n",
       "505             ['Education']   \n",
       "506             ['Education']   \n",
       "507  ['Science & Technology']   \n",
       "508             ['Education']   \n",
       "509             ['Education']   \n",
       "510             ['Education']   \n",
       "511  ['Science & Technology']   \n",
       "512  ['Science & Technology']   \n",
       "513         ['Entertainment']   \n",
       "514  ['Science & Technology']   \n",
       "515  ['Science & Technology']   \n",
       "516             ['Education']   \n",
       "517             ['Education']   \n",
       "518  ['Science & Technology']   \n",
       "519  ['Science & Technology']   \n",
       "520             ['Education']   \n",
       "521  ['Science & Technology']   \n",
       "522             ['Education']   \n",
       "523        ['People & Blogs']   \n",
       "524  ['Science & Technology']   \n",
       "525             ['Education']   \n",
       "526  ['Science & Technology']   \n",
       "527        ['People & Blogs']   \n",
       "528         ['Entertainment']   \n",
       "529  ['Science & Technology']   \n",
       "\n",
       "                                                  tags  duracao_segundos  \\\n",
       "500                                                NaN             103.0   \n",
       "501  ['IBM', 'Quantum', 'Quantum Computing', 'Quant...             358.0   \n",
       "502  ['how to learn machine learning', 'machine lea...             403.0   \n",
       "503  ['bmx racing', 'bike skills', 'dream', 'fun ki...              11.0   \n",
       "504                                                NaN           92246.0   \n",
       "505     ['banca', 'finanzas', 'economía', 'educación']            8613.0   \n",
       "506  ['machine learning', 'deep learning', 'artific...             519.0   \n",
       "507  ['trader esportivo', 'punter', 'python tutoria...             676.0   \n",
       "508                                                NaN           14033.0   \n",
       "509  ['gonzalezgouveia', 'data science español', 'r...             348.0   \n",
       "510  ['gonzalezgouveia', 'data science español', 'r...             368.0   \n",
       "511  ['DataScience', 'Data', 'DecisionIntelligence'...           22949.0   \n",
       "512                                                NaN            1412.0   \n",
       "513                                                NaN              59.0   \n",
       "514  ['Azure', 'Luis Renato de Souza', 'Algoritmo d...             366.0   \n",
       "515  ['how to learn machine learning', 'machine lea...             802.0   \n",
       "516  ['symposium', 'Data-driven', 'turbulence', 'mo...             894.0   \n",
       "517  ['Web Development & Machine Learning', 'web de...              61.0   \n",
       "518  ['azure purview', 'data governance', 'azure pu...            3210.0   \n",
       "519                                                NaN            1057.0   \n",
       "520  ['Machine Learning Full Course', 'machine lear...           41742.0   \n",
       "521  ['alteryx', 'etl', 'algoritmo over/under', 'al...            2602.0   \n",
       "522  ['Google Free certificate', 'Google Free Cours...             384.0   \n",
       "523                                                NaN             463.0   \n",
       "524  ['data viz by luke', 'business intelligence', ...             710.0   \n",
       "525  ['yt:cc=on', 'end to end machine learning proj...            9896.0   \n",
       "526  ['how to learn machine learning', 'machine lea...             694.0   \n",
       "527  ['metatrader 5 live trading', 'metatrader 5 py...             298.0   \n",
       "528  ['mohirdev uz', 'dasturlash asoslari', 'veb sa...             435.0   \n",
       "529  ['coding challenge', 'python', 'machine learni...            1204.0   \n",
       "\n",
       "                                            link  visualizacoes  \\\n",
       "500  https://www.youtube.com/watch?v=PVEXKbfxTuI              1   \n",
       "501  https://www.youtube.com/watch?v=NqHKr9CGWJ0             16   \n",
       "502  https://www.youtube.com/watch?v=-TjLX93w64A             17   \n",
       "503  https://www.youtube.com/watch?v=3Ie39phKdpk             53   \n",
       "504  https://www.youtube.com/watch?v=V_xro1bcAuA            505   \n",
       "505  https://www.youtube.com/watch?v=wIHW1rpKhoc              2   \n",
       "506  https://www.youtube.com/watch?v=B8LT-2JhrRE              7   \n",
       "507  https://www.youtube.com/watch?v=o_EbGPzItik            409   \n",
       "508  https://www.youtube.com/watch?v=i_LwzRVP7bg              1   \n",
       "509  https://www.youtube.com/watch?v=KFtz_t1XNP8              4   \n",
       "510  https://www.youtube.com/watch?v=n-DflQldMuc              5   \n",
       "511  https://www.youtube.com/watch?v=1vkb7BCMQd0             49   \n",
       "512  https://www.youtube.com/watch?v=BchuIViGiUg            868   \n",
       "513  https://www.youtube.com/watch?v=yTNTvv5KdLI              9   \n",
       "514  https://www.youtube.com/watch?v=gsZWNojKdi4            120   \n",
       "515  https://www.youtube.com/watch?v=0aK8CmQko0s             22   \n",
       "516  https://www.youtube.com/watch?v=mAXkBeE9Pm0            152   \n",
       "517  https://www.youtube.com/watch?v=nuGAZugmF-o              1   \n",
       "518  https://www.youtube.com/watch?v=ptDTAcCeTH0            380   \n",
       "519  https://www.youtube.com/watch?v=jPGrWmx6Mm0            311   \n",
       "520  https://www.youtube.com/watch?v=LcWFedjaR4Q             56   \n",
       "521  https://www.youtube.com/watch?v=vQ8_iWt2XAA            221   \n",
       "522  https://www.youtube.com/watch?v=0zVGBbYk3DY              6   \n",
       "523  https://www.youtube.com/watch?v=wtolixa9XTg            210   \n",
       "524  https://www.youtube.com/watch?v=AopGnnPPczY             94   \n",
       "525  https://www.youtube.com/watch?v=MJ1vWb1rGwM            164   \n",
       "526  https://www.youtube.com/watch?v=u9fhLChk3mE             20   \n",
       "527  https://www.youtube.com/watch?v=EuFsNLWDT2k            939   \n",
       "528  https://www.youtube.com/watch?v=1hNxd2ldlRY              2   \n",
       "529  https://www.youtube.com/watch?v=C82lT9cWQiA             61   \n",
       "\n",
       "     quantidade_likes             query  tempo_desde_pub  \\\n",
       "500             101.0  machine+learning            157.0   \n",
       "501             592.0  machine+learning            183.0   \n",
       "502             837.0  machine+learning            188.0   \n",
       "503          954870.0  machine+learning            191.0   \n",
       "504           16524.0  machine+learning            196.0   \n",
       "505              65.0  machine+learning            198.0   \n",
       "506             421.0  machine+learning            200.0   \n",
       "507              43.0  machine+learning            203.0   \n",
       "508           24012.0  machine+learning            206.0   \n",
       "509             320.0  machine+learning            209.0   \n",
       "510             423.0  machine+learning            216.0   \n",
       "511            1426.0  machine+learning            217.0   \n",
       "512              38.0  machine+learning            220.0   \n",
       "513             636.0  machine+learning            222.0   \n",
       "514              18.0  machine+learning            222.0   \n",
       "515             879.0  machine+learning            222.0   \n",
       "516               6.0  machine+learning            222.0   \n",
       "517              32.0  machine+learning            225.0   \n",
       "518               6.0  machine+learning            226.0   \n",
       "519               2.0  machine+learning            227.0   \n",
       "520            1195.0  machine+learning            227.0   \n",
       "521              18.0  machine+learning            218.0   \n",
       "522             195.0  machine+learning            224.0   \n",
       "523           10423.0  machine+learning            229.0   \n",
       "524            3334.0  machine+learning            233.0   \n",
       "525            4139.0  machine+learning            234.0   \n",
       "526             880.0  machine+learning            243.0   \n",
       "527              20.0  machine+learning            244.0   \n",
       "528             115.0  machine+learning            247.0   \n",
       "529            2225.0  machine+learning            253.0   \n",
       "\n",
       "     visualizacoes_por_dia  probabilidade  \n",
       "500               0.006369          0.063  \n",
       "501               0.087432          0.204  \n",
       "502               0.090426          0.187  \n",
       "503               0.277487          0.309  \n",
       "504               2.576531          0.138  \n",
       "505               0.010101          0.031  \n",
       "506              35.000000          0.245  \n",
       "507               2.014778          0.136  \n",
       "508               0.004854          0.098  \n",
       "509               0.019139          0.033  \n",
       "510               0.023148          0.175  \n",
       "511               0.225806          0.154  \n",
       "512               3.945455          0.047  \n",
       "513               0.040541          0.086  \n",
       "514               0.540541          0.191  \n",
       "515               0.099099          0.274  \n",
       "516               0.684685          0.124  \n",
       "517               0.004444          0.196  \n",
       "518               1.681416          0.048  \n",
       "519               1.370044          0.213  \n",
       "520               0.246696          0.103  \n",
       "521               1.013761          0.274  \n",
       "522               0.026786          0.132  \n",
       "523               0.917031          0.338  \n",
       "524               0.403433          0.303  \n",
       "525               0.700855          0.212  \n",
       "526               0.082305          0.227  \n",
       "527               3.848361          0.048  \n",
       "528               0.008097          0.139  \n",
       "529               0.241107          0.390  "
      ]
     },
     "execution_count": 27,
     "metadata": {},
     "output_type": "execute_result"
    }
   ],
   "source": [
    "df_unlabeled.head(30)"
   ]
  },
  {
   "cell_type": "code",
   "execution_count": 28,
   "id": "30a94ddf",
   "metadata": {
    "ExecuteTime": {
     "end_time": "2023-04-20T00:01:07.599087Z",
     "start_time": "2023-04-20T00:01:07.592046Z"
    }
   },
   "outputs": [
    {
     "data": {
      "text/plain": [
       "62"
      ]
     },
     "execution_count": 28,
     "metadata": {},
     "output_type": "execute_result"
    }
   ],
   "source": [
    "mask_u = (df_unlabeled['probabilidade'] >= 0.29) & (df_unlabeled['probabilidade'] <= 0.71)\n",
    "mask_u.sum()"
   ]
  },
  {
   "cell_type": "code",
   "execution_count": 29,
   "id": "d4578e32",
   "metadata": {
    "ExecuteTime": {
     "end_time": "2023-04-20T00:01:08.137995Z",
     "start_time": "2023-04-20T00:01:08.132388Z"
    }
   },
   "outputs": [],
   "source": [
    "dificeis = df_unlabeled[mask_u]"
   ]
  },
  {
   "cell_type": "code",
   "execution_count": 30,
   "id": "b0f55efd",
   "metadata": {
    "ExecuteTime": {
     "end_time": "2023-04-20T00:01:08.619234Z",
     "start_time": "2023-04-20T00:01:08.610652Z"
    }
   },
   "outputs": [],
   "source": [
    "aleatorios = df_unlabeled[~mask_u].sample(38)"
   ]
  },
  {
   "cell_type": "code",
   "execution_count": 31,
   "id": "f618f36a",
   "metadata": {
    "ExecuteTime": {
     "end_time": "2023-04-20T00:01:09.117441Z",
     "start_time": "2023-04-20T00:01:09.104076Z"
    }
   },
   "outputs": [],
   "source": [
    "pd.concat([dificeis, aleatorios]).to_csv('dados/silver/active_label1.csv')"
   ]
  },
  {
   "cell_type": "code",
   "execution_count": null,
   "id": "1569ab10",
   "metadata": {},
   "outputs": [],
   "source": []
  }
 ],
 "metadata": {
  "kernelspec": {
   "display_name": "Python 3 (ipykernel)",
   "language": "python",
   "name": "python3"
  },
  "language_info": {
   "codemirror_mode": {
    "name": "ipython",
    "version": 3
   },
   "file_extension": ".py",
   "mimetype": "text/x-python",
   "name": "python",
   "nbconvert_exporter": "python",
   "pygments_lexer": "ipython3",
   "version": "3.9.13"
  },
  "latex_envs": {
   "LaTeX_envs_menu_present": true,
   "autoclose": false,
   "autocomplete": true,
   "bibliofile": "biblio.bib",
   "cite_by": "apalike",
   "current_citInitial": 1,
   "eqLabelWithNumbers": true,
   "eqNumInitial": 1,
   "hotkeys": {
    "equation": "Ctrl-E",
    "itemize": "Ctrl-I"
   },
   "labels_anchors": false,
   "latex_user_defs": false,
   "report_style_numbering": false,
   "user_envs_cfg": false
  },
  "nbTranslate": {
   "displayLangs": [
    "*"
   ],
   "hotkey": "alt-t",
   "langInMainMenu": true,
   "sourceLang": "en",
   "targetLang": "fr",
   "useGoogleTranslate": true
  },
  "toc": {
   "base_numbering": 1,
   "nav_menu": {},
   "number_sections": true,
   "sideBar": true,
   "skip_h1_title": false,
   "title_cell": "Table of Contents",
   "title_sidebar": "Contents",
   "toc_cell": false,
   "toc_position": {},
   "toc_section_display": true,
   "toc_window_display": false
  },
  "varInspector": {
   "cols": {
    "lenName": 16,
    "lenType": 16,
    "lenVar": 40
   },
   "kernels_config": {
    "python": {
     "delete_cmd_postfix": "",
     "delete_cmd_prefix": "del ",
     "library": "var_list.py",
     "varRefreshCmd": "print(var_dic_list())"
    },
    "r": {
     "delete_cmd_postfix": ") ",
     "delete_cmd_prefix": "rm(",
     "library": "var_list.r",
     "varRefreshCmd": "cat(var_dic_list()) "
    }
   },
   "types_to_exclude": [
    "module",
    "function",
    "builtin_function_or_method",
    "instance",
    "_Feature"
   ],
   "window_display": false
  }
 },
 "nbformat": 4,
 "nbformat_minor": 5
}
