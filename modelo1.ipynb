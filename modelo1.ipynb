{
 "cells": [
  {
   "cell_type": "code",
   "execution_count": 80,
   "id": "249dcaee",
   "metadata": {
    "ExecuteTime": {
     "end_time": "2023-04-19T22:49:11.126792Z",
     "start_time": "2023-04-19T22:49:11.120183Z"
    }
   },
   "outputs": [],
   "source": [
    "import pandas as pd\n",
    "import numpy as np\n",
    "import datetime\n",
    "import matplotlib.pyplot as plt\n",
    "\n",
    "from sklearn.tree import plot_tree\n",
    "from sklearn.tree import DecisionTreeClassifier\n",
    "from sklearn.metrics import roc_auc_score, average_precision_score"
   ]
  },
  {
   "cell_type": "code",
   "execution_count": 81,
   "id": "7cb7417a",
   "metadata": {
    "ExecuteTime": {
     "end_time": "2023-04-19T22:49:11.532011Z",
     "start_time": "2023-04-19T22:49:11.507974Z"
    }
   },
   "outputs": [
    {
     "name": "stdout",
     "output_type": "stream",
     "text": [
      "(500, 16) (500,)\n"
     ]
    }
   ],
   "source": [
    "df = pd.read_csv('dados/silver/dados_tratados_com_features_novas_com_labels.csv', index_col=0)\n",
    "df = df[df['label'].notnull()]\n",
    "df = df.reset_index().drop('index', axis=1)\n",
    "y = df['label'].astype('int')\n",
    "print(df.shape, y.shape)"
   ]
  },
  {
   "cell_type": "code",
   "execution_count": 82,
   "id": "5c5fba7c",
   "metadata": {
    "ExecuteTime": {
     "end_time": "2023-04-19T22:49:12.031629Z",
     "start_time": "2023-04-19T22:49:12.012153Z"
    }
   },
   "outputs": [
    {
     "data": {
      "text/html": [
       "<div>\n",
       "<style scoped>\n",
       "    .dataframe tbody tr th:only-of-type {\n",
       "        vertical-align: middle;\n",
       "    }\n",
       "\n",
       "    .dataframe tbody tr th {\n",
       "        vertical-align: top;\n",
       "    }\n",
       "\n",
       "    .dataframe thead th {\n",
       "        text-align: right;\n",
       "    }\n",
       "</style>\n",
       "<table border=\"1\" class=\"dataframe\">\n",
       "  <thead>\n",
       "    <tr style=\"text-align: right;\">\n",
       "      <th></th>\n",
       "      <th>id</th>\n",
       "      <th>titulo</th>\n",
       "      <th>label</th>\n",
       "      <th>canal</th>\n",
       "      <th>data_upload</th>\n",
       "      <th>categoria</th>\n",
       "      <th>tags</th>\n",
       "      <th>duracao_segundos</th>\n",
       "      <th>link</th>\n",
       "      <th>visualizacoes</th>\n",
       "      <th>quantidade_likes</th>\n",
       "      <th>query</th>\n",
       "      <th>tempo_desde_pub</th>\n",
       "      <th>visualizacoes_por_dia</th>\n",
       "      <th>Unnamed: 15</th>\n",
       "      <th>Unnamed: 16</th>\n",
       "    </tr>\n",
       "  </thead>\n",
       "  <tbody>\n",
       "    <tr>\n",
       "      <th>0</th>\n",
       "      <td>watch?v=kE9gYQDyVr0</td>\n",
       "      <td>Trabalhando com Bases de Dados (Datasets) Desb...</td>\n",
       "      <td>0.0</td>\n",
       "      <td>Hashtag Programação</td>\n",
       "      <td>2023-04-17</td>\n",
       "      <td>['Education']</td>\n",
       "      <td>['Bases de dados desbalanceadas', 'Datasets de...</td>\n",
       "      <td>1326.0</td>\n",
       "      <td>https://www.youtube.com/watch?v=kE9gYQDyVr0</td>\n",
       "      <td>858</td>\n",
       "      <td>72.0</td>\n",
       "      <td>ciencia+de+dados</td>\n",
       "      <td>3.0</td>\n",
       "      <td>286.0</td>\n",
       "      <td>NaN</td>\n",
       "      <td>NaN</td>\n",
       "    </tr>\n",
       "    <tr>\n",
       "      <th>1</th>\n",
       "      <td>watch?v=GgEUPkAG1ho</td>\n",
       "      <td>Trabalho ciencia de dados-parte-1</td>\n",
       "      <td>0.0</td>\n",
       "      <td>Jonas Silva</td>\n",
       "      <td>2023-04-13</td>\n",
       "      <td>['People &amp; Blogs']</td>\n",
       "      <td>NaN</td>\n",
       "      <td>389.0</td>\n",
       "      <td>https://www.youtube.com/watch?v=GgEUPkAG1ho</td>\n",
       "      <td>2</td>\n",
       "      <td>0.0</td>\n",
       "      <td>ciencia+de+dados</td>\n",
       "      <td>7.0</td>\n",
       "      <td>0.2857142857142857</td>\n",
       "      <td>NaN</td>\n",
       "      <td>NaN</td>\n",
       "    </tr>\n",
       "    <tr>\n",
       "      <th>2</th>\n",
       "      <td>watch?v=U1a_Tp0O1Co</td>\n",
       "      <td>Como Aprender CIÊNCIA DE DADOS do ZERO?</td>\n",
       "      <td>0.0</td>\n",
       "      <td>Hashtag Programação</td>\n",
       "      <td>2023-04-10</td>\n",
       "      <td>['Education']</td>\n",
       "      <td>['Como aprender ciência de dados', 'Como apren...</td>\n",
       "      <td>1514.0</td>\n",
       "      <td>https://www.youtube.com/watch?v=U1a_Tp0O1Co</td>\n",
       "      <td>1</td>\n",
       "      <td>173.0</td>\n",
       "      <td>ciencia+de+dados</td>\n",
       "      <td>10.0</td>\n",
       "      <td>0.1</td>\n",
       "      <td>NaN</td>\n",
       "      <td>NaN</td>\n",
       "    </tr>\n",
       "  </tbody>\n",
       "</table>\n",
       "</div>"
      ],
      "text/plain": [
       "                    id                                             titulo  \\\n",
       "0  watch?v=kE9gYQDyVr0  Trabalhando com Bases de Dados (Datasets) Desb...   \n",
       "1  watch?v=GgEUPkAG1ho                  Trabalho ciencia de dados-parte-1   \n",
       "2  watch?v=U1a_Tp0O1Co            Como Aprender CIÊNCIA DE DADOS do ZERO?   \n",
       "\n",
       "   label                canal data_upload           categoria  \\\n",
       "0    0.0  Hashtag Programação  2023-04-17       ['Education']   \n",
       "1    0.0          Jonas Silva  2023-04-13  ['People & Blogs']   \n",
       "2    0.0  Hashtag Programação  2023-04-10       ['Education']   \n",
       "\n",
       "                                                tags duracao_segundos  \\\n",
       "0  ['Bases de dados desbalanceadas', 'Datasets de...           1326.0   \n",
       "1                                                NaN            389.0   \n",
       "2  ['Como aprender ciência de dados', 'Como apren...           1514.0   \n",
       "\n",
       "                                          link visualizacoes quantidade_likes  \\\n",
       "0  https://www.youtube.com/watch?v=kE9gYQDyVr0           858             72.0   \n",
       "1  https://www.youtube.com/watch?v=GgEUPkAG1ho             2              0.0   \n",
       "2  https://www.youtube.com/watch?v=U1a_Tp0O1Co             1            173.0   \n",
       "\n",
       "              query tempo_desde_pub visualizacoes_por_dia  Unnamed: 15  \\\n",
       "0  ciencia+de+dados             3.0                 286.0          NaN   \n",
       "1  ciencia+de+dados             7.0    0.2857142857142857          NaN   \n",
       "2  ciencia+de+dados            10.0                   0.1          NaN   \n",
       "\n",
       "   Unnamed: 16  \n",
       "0          NaN  \n",
       "1          NaN  \n",
       "2          NaN  "
      ]
     },
     "execution_count": 82,
     "metadata": {},
     "output_type": "execute_result"
    }
   ],
   "source": [
    "df.head(3)"
   ]
  },
  {
   "cell_type": "markdown",
   "id": "5406749b",
   "metadata": {},
   "source": [
    "# Features"
   ]
  },
  {
   "cell_type": "code",
   "execution_count": 117,
   "id": "2688023e",
   "metadata": {
    "ExecuteTime": {
     "end_time": "2023-04-19T22:55:14.206280Z",
     "start_time": "2023-04-19T22:55:14.198486Z"
    }
   },
   "outputs": [],
   "source": [
    "features = df[['visualizacoes', 'visualizacoes_por_dia']]\n",
    "features = features.astype(float)"
   ]
  },
  {
   "cell_type": "code",
   "execution_count": 118,
   "id": "b2795995",
   "metadata": {
    "ExecuteTime": {
     "end_time": "2023-04-19T22:55:16.045920Z",
     "start_time": "2023-04-19T22:55:16.030582Z"
    }
   },
   "outputs": [
    {
     "name": "stdout",
     "output_type": "stream",
     "text": [
      "<class 'pandas.core.frame.DataFrame'>\n",
      "RangeIndex: 500 entries, 0 to 499\n",
      "Data columns (total 2 columns):\n",
      " #   Column                 Non-Null Count  Dtype  \n",
      "---  ------                 --------------  -----  \n",
      " 0   visualizacoes          500 non-null    float64\n",
      " 1   visualizacoes_por_dia  500 non-null    float64\n",
      "dtypes: float64(2)\n",
      "memory usage: 7.9 KB\n"
     ]
    }
   ],
   "source": [
    "features.info()"
   ]
  },
  {
   "cell_type": "code",
   "execution_count": 119,
   "id": "a67f0317",
   "metadata": {
    "ExecuteTime": {
     "end_time": "2023-04-19T22:55:16.186968Z",
     "start_time": "2023-04-19T22:55:16.180677Z"
    }
   },
   "outputs": [],
   "source": [
    "X_train, X_test = features[df['data_upload'] < '2023-03-01'], features[df['data_upload'] >= '2023-03-01'] \n",
    "y_train, y_test = y[df['data_upload'] < '2023-03-01'], y[df['data_upload'] >= '2023-03-01'] "
   ]
  },
  {
   "cell_type": "code",
   "execution_count": 120,
   "id": "f79f6aca",
   "metadata": {
    "ExecuteTime": {
     "end_time": "2023-04-19T22:55:16.339751Z",
     "start_time": "2023-04-19T22:55:16.333872Z"
    }
   },
   "outputs": [
    {
     "name": "stdout",
     "output_type": "stream",
     "text": [
      "(345, 2) (345,)\n"
     ]
    }
   ],
   "source": [
    "print(X_train.shape, y_train.shape)"
   ]
  },
  {
   "cell_type": "code",
   "execution_count": 121,
   "id": "fffb66b8",
   "metadata": {
    "ExecuteTime": {
     "end_time": "2023-04-19T22:55:16.666634Z",
     "start_time": "2023-04-19T22:55:16.661211Z"
    }
   },
   "outputs": [
    {
     "name": "stdout",
     "output_type": "stream",
     "text": [
      "(155, 2) (155,)\n"
     ]
    }
   ],
   "source": [
    "print(X_test.shape, y_test.shape)"
   ]
  },
  {
   "cell_type": "code",
   "execution_count": 122,
   "id": "55dc852b",
   "metadata": {
    "ExecuteTime": {
     "end_time": "2023-04-19T22:55:17.258551Z",
     "start_time": "2023-04-19T22:55:17.245483Z"
    }
   },
   "outputs": [
    {
     "data": {
      "text/plain": [
       "DecisionTreeClassifier(class_weight='balanced', max_depth=2, random_state=0)"
      ]
     },
     "execution_count": 122,
     "metadata": {},
     "output_type": "execute_result"
    }
   ],
   "source": [
    "decision_tree = DecisionTreeClassifier(random_state=0, max_depth=2, class_weight=\"balanced\")\n",
    "decision_tree.fit(X_train, y_train)"
   ]
  },
  {
   "cell_type": "code",
   "execution_count": 123,
   "id": "b7ccba17",
   "metadata": {
    "ExecuteTime": {
     "end_time": "2023-04-19T22:55:17.727203Z",
     "start_time": "2023-04-19T22:55:17.717777Z"
    }
   },
   "outputs": [],
   "source": [
    "probabilidade = decision_tree.predict_proba(X_test)[:, 1]"
   ]
  },
  {
   "cell_type": "markdown",
   "id": "59d936be",
   "metadata": {
    "ExecuteTime": {
     "end_time": "2023-04-13T16:05:34.189777Z",
     "start_time": "2023-04-13T16:05:34.180697Z"
    }
   },
   "source": [
    "## Precision e Recall\n",
    "Se for calculado a precision e o recall, e plotar o gráfico desses todos pontos, a `área sobre a curva`.\n",
    "* Precision: De todos os exemplos que o modelo disse que são positivos, quantos são realmente positivos.\n",
    "* Recall: É a taxa de detecção de todos os exemplos que são positivos, quanto o modelo preveu que são positivos"
   ]
  },
  {
   "cell_type": "code",
   "execution_count": 124,
   "id": "2a5dad25",
   "metadata": {
    "ExecuteTime": {
     "end_time": "2023-04-19T22:55:18.655394Z",
     "start_time": "2023-04-19T22:55:18.646070Z"
    }
   },
   "outputs": [
    {
     "data": {
      "text/plain": [
       "0.27195362537631207"
      ]
     },
     "execution_count": 124,
     "metadata": {},
     "output_type": "execute_result"
    }
   ],
   "source": [
    "average_precision_score(y_test, probabilidade) # baseline\n",
    "#0.28855045521712186 #-> com 4 variáveis ('visualizacoes', 'visualizacoes_por_dia', 'quantidade_likes', 'duracao_segundos')\n",
    "# 0.27195362537631207 -> com 2 variáveis ('visualizacoes', 'visualizacoes_por_dia')"
   ]
  },
  {
   "cell_type": "markdown",
   "id": "f6bb7e0c",
   "metadata": {},
   "source": [
    "## ROC AUC\n",
    "* probabilidade dos exemplos positivos\n",
    "    * Positivos = [0.1, 0.2, 0.3] \n",
    "* probabilidade de os exemplos serem negativos\n",
    "    * negativos = [0.05, 0.15, 0.25]\n",
    "\n",
    "> Nesse caso é um amostra com reposição (pega os valores, avalia e devolve)\n",
    "\n",
    "pos = 0.2, neg = 0.05 > o positivo tem probabilidade maior que o negativo: sim, 1, True\n",
    "\n",
    "pos - 0.1, neg = 0.15 > o positivo tem probabilidade maior que o negativo: não, 0, False"
   ]
  },
  {
   "cell_type": "code",
   "execution_count": 125,
   "id": "9ffa8207",
   "metadata": {
    "ExecuteTime": {
     "end_time": "2023-04-19T22:55:20.019380Z",
     "start_time": "2023-04-19T22:55:20.008460Z"
    }
   },
   "outputs": [
    {
     "data": {
      "text/plain": [
       "0.4626000842815002"
      ]
     },
     "execution_count": 125,
     "metadata": {},
     "output_type": "execute_result"
    }
   ],
   "source": [
    "roc_auc_score(y_test, probabilidade)\n",
    "# 0.5415086388537717 -> com 4 variáveis ('visualizacoes', 'visualizacoes_por_dia', 'quantidade_likes', 'duracao_segundos')\n",
    "# 0.4626000842815002 -> com 2 variáveis ('visualizacoes', 'visualizacoes_por_dia')"
   ]
  },
  {
   "cell_type": "code",
   "execution_count": 127,
   "id": "9fce7afd",
   "metadata": {
    "ExecuteTime": {
     "end_time": "2023-04-19T23:32:20.778287Z",
     "start_time": "2023-04-19T23:32:20.384115Z"
    },
    "scrolled": true
   },
   "outputs": [
    {
     "data": {
      "image/png": "[encoded data removed]",
      "text/plain": [
       "<Figure size 1000x1000 with 1 Axes>"
      ]
     },
     "metadata": {},
     "output_type": "display_data"
    }
   ],
   "source": [
    "fig, ax = plt.subplots(1, 1, figsize=(10, 10))\n",
    "plot_tree(decision_tree, ax=ax,feature_names=X_train.columns)\n",
    "plt.show()"
   ]
  },
  {
   "cell_type": "markdown",
   "id": "a9dbd7c6",
   "metadata": {},
   "source": [
    "|Modelo| Precision | AUC| Número de variáveis preditoras\n",
    "|------|-----------|----|--------------------|\n",
    "|modelo 1 (Baseline)| 0.27195362537631207| 0.4626000842815002| 2 variáveis|"
   ]
  },
  {
   "cell_type": "code",
   "execution_count": null,
   "id": "297423db",
   "metadata": {},
   "outputs": [],
   "source": []
  }
 ],
 "metadata": {
  "kernelspec": {
   "display_name": "Python 3 (ipykernel)",
   "language": "python",
   "name": "python3"
  },
  "language_info": {
   "codemirror_mode": {
    "name": "ipython",
    "version": 3
   },
   "file_extension": ".py",
   "mimetype": "text/x-python",
   "name": "python",
   "nbconvert_exporter": "python",
   "pygments_lexer": "ipython3",
   "version": "3.9.13"
  },
  "latex_envs": {
   "LaTeX_envs_menu_present": true,
   "autoclose": false,
   "autocomplete": true,
   "bibliofile": "biblio.bib",
   "cite_by": "apalike",
   "current_citInitial": 1,
   "eqLabelWithNumbers": true,
   "eqNumInitial": 1,
   "hotkeys": {
    "equation": "Ctrl-E",
    "itemize": "Ctrl-I"
   },
   "labels_anchors": false,
   "latex_user_defs": false,
   "report_style_numbering": false,
   "user_envs_cfg": false
  },
  "nbTranslate": {
   "displayLangs": [
    "*"
   ],
   "hotkey": "alt-t",
   "langInMainMenu": true,
   "sourceLang": "en",
   "targetLang": "fr",
   "useGoogleTranslate": true
  },
  "toc": {
   "base_numbering": 1,
   "nav_menu": {},
   "number_sections": true,
   "sideBar": true,
   "skip_h1_title": false,
   "title_cell": "Table of Contents",
   "title_sidebar": "Contents",
   "toc_cell": false,
   "toc_position": {},
   "toc_section_display": true,
   "toc_window_display": false
  },
  "varInspector": {
   "cols": {
    "lenName": 16,
    "lenType": 16,
    "lenVar": 40
   },
   "kernels_config": {
    "python": {
     "delete_cmd_postfix": "",
     "delete_cmd_prefix": "del ",
     "library": "var_list.py",
     "varRefreshCmd": "print(var_dic_list())"
    },
    "r": {
     "delete_cmd_postfix": ") ",
     "delete_cmd_prefix": "rm(",
     "library": "var_list.r",
     "varRefreshCmd": "cat(var_dic_list()) "
    }
   },
   "types_to_exclude": [
    "module",
    "function",
    "builtin_function_or_method",
    "instance",
    "_Feature"
   ],
   "window_display": false
  }
 },
 "nbformat": 4,
 "nbformat_minor": 5
}
